{
 "cells": [
  {
   "cell_type": "markdown",
   "metadata": {},
   "source": [
    "# **Table Of Contents**\n"
   ]
  },
  {
   "cell_type": "markdown",
   "metadata": {},
   "source": [
    "\n",
    "1. [**Import Libraries**](#class1)\n",
    "2. [**Data Loading**](#class2)\n",
    "3. [**Exploratory Data Analysis**](#class3)\n",
    "4. [**Feature Engineering**](#class4)\n",
    "    * [*Missing Value*](#class4a)\n",
    "    * [*Split Train-Test*](#class4b)\n",
    "    * [*Outlier Handling*](#class4c)\n",
    "    * [*Feature Selection*](#class4d)\n",
    "5. [**Pipelines**](#class5)\n",
    "6. [**Model Definition**](#class6)\n",
    "7. [**Model Training**](#class7)\n",
    "8. [**Model Validation**](#class8)\n",
    "9. [**Hyperparameter Tuning**](#class9)\n",
    "10. [**Model Evaluation**](#class10)\n",
    "11. [**Model Saving**](#class11)\n"
   ]
  },
  {
   "cell_type": "markdown",
   "metadata": {},
   "source": [
    "\n",
    "---\n",
    "\n",
    "## <a id=\"class2\">**1. Import Libraries**</a> <a style=\"float:right; margin-right: 15px\"><img src=\"https://cdn-icons-png.flaticon.com/512/4911/4911643.png\" alt=\"drawing\" width=\"64\" align=\"center\"/></a>\n",
    "\n",
    "---"
   ]
  },
  {
   "cell_type": "code",
   "execution_count": 1,
   "metadata": {},
   "outputs": [],
   "source": [
    "# Import Library\n",
    "\n",
    "# Library Dataframe\n",
    "import pandas as pd\n",
    "\n",
    "# Library Numerical Data\n",
    "import numpy as np\n",
    "\n",
    "# Library Statistic\n",
    "from scipy import stats\n",
    "from sklearn import metrics\n",
    "from scipy.stats import uniform, randint\n",
    "from statsmodels.stats.outliers_influence import variance_inflation_factor\n",
    "\n",
    "# Library Data Visualization\n",
    "import matplotlib.pyplot as plt\n",
    "import matplotlib.cm as cm\n",
    "import seaborn as sns\n",
    "import plotly.express as px\n",
    "\n",
    "# Library Preprocessing data\n",
    "from sklearn.model_selection import train_test_split\n",
    "from sklearn.preprocessing import RobustScaler\n",
    "from sklearn.preprocessing import MinMaxScaler\n",
    "from sklearn.preprocessing import OneHotEncoder\n",
    "from sklearn.preprocessing import OrdinalEncoder\n",
    "\n",
    "# Library Outlier Handling\n",
    "from feature_engine.outliers import Winsorizer\n",
    "\n",
    "# Library Correlation\n",
    "from scipy.stats import kendalltau, spearmanr\n",
    "\n",
    "from sklearn.pipeline import Pipeline\n",
    "from sklearn.compose import ColumnTransformer\n",
    "\n",
    "# Library Machine Learning Model\n",
    "import xgboost as xg \n",
    "from xgboost import XGBRegressor\n",
    "from sklearn.linear_model import LinearRegression\n",
    "from sklearn.tree import DecisionTreeRegressor\n",
    "from sklearn.ensemble import RandomForestRegressor\n",
    "from sklearn.neighbors import KNeighborsRegressor\n",
    "from sklearn.svm import SVR\n",
    "\n",
    "# Model Evaluation\n",
    "from sklearn.model_selection import RandomizedSearchCV\n",
    "from sklearn.model_selection import KFold\n",
    "from sklearn.model_selection import cross_val_score\n",
    "from sklearn.metrics import mean_squared_error, mean_absolute_error, r2_score, make_scorer\n",
    "\n",
    "# Save Model\n",
    "import pickle\n",
    "import joblib\n",
    "import json\n",
    "\n",
    "# To Ignore Warning\n",
    "import warnings\n",
    "warnings.filterwarnings(\"ignore\")"
   ]
  },
  {
   "cell_type": "markdown",
   "metadata": {},
   "source": [
    "\n",
    "\n",
    "---\n",
    "\n",
    "## <a id=\"class3\">**2. Data Loading**</a> <a style=\"float:right; margin-right: 15px\"><img src=\"https://icons.veryicon.com/png/128/business/commercial-plain-blue-collection/wd-accent-data-clock.png\" alt=\"drawing\" width=\"64\" align=\"center\"/></a>\n",
    "\n",
    "---"
   ]
  },
  {
   "cell_type": "code",
   "execution_count": 2,
   "metadata": {},
   "outputs": [],
   "source": [
    "# Membaca data dari file CSV\n",
    "df = pd.read_csv('laptop_updated.csv', encoding='latin1')"
   ]
  },
  {
   "cell_type": "code",
   "execution_count": 3,
   "metadata": {},
   "outputs": [],
   "source": [
    "# Membuat salinan dari dataframe df_credit\n",
    "living_index = df.copy()"
   ]
  },
  {
   "cell_type": "code",
   "execution_count": 4,
   "metadata": {},
   "outputs": [],
   "source": [
    "pd.set_option('display.max_columns', None)"
   ]
  },
  {
   "cell_type": "code",
   "execution_count": 5,
   "metadata": {},
   "outputs": [
    {
     "data": {
      "text/html": [
       "<div>\n",
       "<style scoped>\n",
       "    .dataframe tbody tr th:only-of-type {\n",
       "        vertical-align: middle;\n",
       "    }\n",
       "\n",
       "    .dataframe tbody tr th {\n",
       "        vertical-align: top;\n",
       "    }\n",
       "\n",
       "    .dataframe thead th {\n",
       "        text-align: right;\n",
       "    }\n",
       "</style>\n",
       "<table border=\"1\" class=\"dataframe\">\n",
       "  <thead>\n",
       "    <tr style=\"text-align: right;\">\n",
       "      <th></th>\n",
       "      <th>index_col</th>\n",
       "      <th>Company</th>\n",
       "      <th>TypeName</th>\n",
       "      <th>Inches</th>\n",
       "      <th>screen_size</th>\n",
       "      <th>resolution_width</th>\n",
       "      <th>resolution_height</th>\n",
       "      <th>ips_panel</th>\n",
       "      <th>touchscreen</th>\n",
       "      <th>cpu_brand</th>\n",
       "      <th>cpu_name</th>\n",
       "      <th>cpu_speed</th>\n",
       "      <th>Ram</th>\n",
       "      <th>memory_type</th>\n",
       "      <th>primary_storage</th>\n",
       "      <th>secondary_storage</th>\n",
       "      <th>gpu_brand</th>\n",
       "      <th>OpSys</th>\n",
       "      <th>Weight</th>\n",
       "      <th>price</th>\n",
       "      <th>ppi</th>\n",
       "    </tr>\n",
       "  </thead>\n",
       "  <tbody>\n",
       "    <tr>\n",
       "      <th>0</th>\n",
       "      <td>1</td>\n",
       "      <td>HP</td>\n",
       "      <td>Ultrabook</td>\n",
       "      <td>12.5</td>\n",
       "      <td>small</td>\n",
       "      <td>3840</td>\n",
       "      <td>2160</td>\n",
       "      <td>1</td>\n",
       "      <td>1</td>\n",
       "      <td>Intel</td>\n",
       "      <td>Core M</td>\n",
       "      <td>1.2</td>\n",
       "      <td>8</td>\n",
       "      <td>SSD</td>\n",
       "      <td>512.0</td>\n",
       "      <td>0</td>\n",
       "      <td>Intel</td>\n",
       "      <td>windows</td>\n",
       "      <td>0.97</td>\n",
       "      <td>107306</td>\n",
       "      <td>352</td>\n",
       "    </tr>\n",
       "    <tr>\n",
       "      <th>1</th>\n",
       "      <td>2</td>\n",
       "      <td>Asus</td>\n",
       "      <td>Notebook</td>\n",
       "      <td>17.3</td>\n",
       "      <td>large</td>\n",
       "      <td>1920</td>\n",
       "      <td>1080</td>\n",
       "      <td>0</td>\n",
       "      <td>0</td>\n",
       "      <td>Intel</td>\n",
       "      <td>Core i7</td>\n",
       "      <td>1.8</td>\n",
       "      <td>8</td>\n",
       "      <td>Hybrid</td>\n",
       "      <td>128.0</td>\n",
       "      <td>1024</td>\n",
       "      <td>Nvidia</td>\n",
       "      <td>windows</td>\n",
       "      <td>2.10</td>\n",
       "      <td>61006</td>\n",
       "      <td>127</td>\n",
       "    </tr>\n",
       "    <tr>\n",
       "      <th>2</th>\n",
       "      <td>3</td>\n",
       "      <td>Apple</td>\n",
       "      <td>Ultrabook</td>\n",
       "      <td>13.3</td>\n",
       "      <td>small</td>\n",
       "      <td>2560</td>\n",
       "      <td>1600</td>\n",
       "      <td>1</td>\n",
       "      <td>0</td>\n",
       "      <td>Intel</td>\n",
       "      <td>Core i5</td>\n",
       "      <td>2.3</td>\n",
       "      <td>8</td>\n",
       "      <td>SSD</td>\n",
       "      <td>128.0</td>\n",
       "      <td>0</td>\n",
       "      <td>Intel</td>\n",
       "      <td>macos</td>\n",
       "      <td>1.37</td>\n",
       "      <td>71379</td>\n",
       "      <td>227</td>\n",
       "    </tr>\n",
       "    <tr>\n",
       "      <th>3</th>\n",
       "      <td>4</td>\n",
       "      <td>Asus</td>\n",
       "      <td>Notebook</td>\n",
       "      <td>17.3</td>\n",
       "      <td>large</td>\n",
       "      <td>1366</td>\n",
       "      <td>768</td>\n",
       "      <td>0</td>\n",
       "      <td>0</td>\n",
       "      <td>Intel</td>\n",
       "      <td>Pentium Quad</td>\n",
       "      <td>1.1</td>\n",
       "      <td>4</td>\n",
       "      <td>HDD</td>\n",
       "      <td>1024.0</td>\n",
       "      <td>0</td>\n",
       "      <td>Nvidia</td>\n",
       "      <td>windows</td>\n",
       "      <td>2.80</td>\n",
       "      <td>24828</td>\n",
       "      <td>91</td>\n",
       "    </tr>\n",
       "    <tr>\n",
       "      <th>4</th>\n",
       "      <td>5</td>\n",
       "      <td>Asus</td>\n",
       "      <td>Notebook</td>\n",
       "      <td>15.6</td>\n",
       "      <td>medium</td>\n",
       "      <td>1920</td>\n",
       "      <td>1080</td>\n",
       "      <td>0</td>\n",
       "      <td>0</td>\n",
       "      <td>Intel</td>\n",
       "      <td>Celeron Dual</td>\n",
       "      <td>1.1</td>\n",
       "      <td>4</td>\n",
       "      <td>HDD</td>\n",
       "      <td>1024.0</td>\n",
       "      <td>0</td>\n",
       "      <td>Intel</td>\n",
       "      <td>windows</td>\n",
       "      <td>2.00</td>\n",
       "      <td>18328</td>\n",
       "      <td>141</td>\n",
       "    </tr>\n",
       "    <tr>\n",
       "      <th>5</th>\n",
       "      <td>6</td>\n",
       "      <td>Acer</td>\n",
       "      <td>Notebook</td>\n",
       "      <td>15.6</td>\n",
       "      <td>medium</td>\n",
       "      <td>1366</td>\n",
       "      <td>768</td>\n",
       "      <td>0</td>\n",
       "      <td>0</td>\n",
       "      <td>Intel</td>\n",
       "      <td>Core i3</td>\n",
       "      <td>2.0</td>\n",
       "      <td>4</td>\n",
       "      <td>HDD</td>\n",
       "      <td>1024.0</td>\n",
       "      <td>0</td>\n",
       "      <td>Intel</td>\n",
       "      <td>windows</td>\n",
       "      <td>2.10</td>\n",
       "      <td>23816</td>\n",
       "      <td>100</td>\n",
       "    </tr>\n",
       "    <tr>\n",
       "      <th>6</th>\n",
       "      <td>7</td>\n",
       "      <td>Dell</td>\n",
       "      <td>Gaming</td>\n",
       "      <td>15.6</td>\n",
       "      <td>medium</td>\n",
       "      <td>1920</td>\n",
       "      <td>1080</td>\n",
       "      <td>0</td>\n",
       "      <td>0</td>\n",
       "      <td>Intel</td>\n",
       "      <td>Core i7</td>\n",
       "      <td>2.8</td>\n",
       "      <td>16</td>\n",
       "      <td>SSD</td>\n",
       "      <td>512.0</td>\n",
       "      <td>0</td>\n",
       "      <td>Nvidia</td>\n",
       "      <td>windows</td>\n",
       "      <td>2.56</td>\n",
       "      <td>66561</td>\n",
       "      <td>141</td>\n",
       "    </tr>\n",
       "    <tr>\n",
       "      <th>7</th>\n",
       "      <td>8</td>\n",
       "      <td>Apple</td>\n",
       "      <td>Ultrabook</td>\n",
       "      <td>13.3</td>\n",
       "      <td>small</td>\n",
       "      <td>1440</td>\n",
       "      <td>900</td>\n",
       "      <td>0</td>\n",
       "      <td>0</td>\n",
       "      <td>Intel</td>\n",
       "      <td>Core i5</td>\n",
       "      <td>1.8</td>\n",
       "      <td>8</td>\n",
       "      <td>Flash Storage</td>\n",
       "      <td>128.0</td>\n",
       "      <td>0</td>\n",
       "      <td>Intel</td>\n",
       "      <td>macos</td>\n",
       "      <td>1.34</td>\n",
       "      <td>47896</td>\n",
       "      <td>128</td>\n",
       "    </tr>\n",
       "    <tr>\n",
       "      <th>8</th>\n",
       "      <td>9</td>\n",
       "      <td>Dell</td>\n",
       "      <td>Gaming</td>\n",
       "      <td>15.6</td>\n",
       "      <td>medium</td>\n",
       "      <td>1920</td>\n",
       "      <td>1080</td>\n",
       "      <td>0</td>\n",
       "      <td>0</td>\n",
       "      <td>Intel</td>\n",
       "      <td>Core i7</td>\n",
       "      <td>2.8</td>\n",
       "      <td>8</td>\n",
       "      <td>Hybrid</td>\n",
       "      <td>1024.0</td>\n",
       "      <td>0</td>\n",
       "      <td>Nvidia</td>\n",
       "      <td>windows</td>\n",
       "      <td>2.62</td>\n",
       "      <td>47899</td>\n",
       "      <td>141</td>\n",
       "    </tr>\n",
       "    <tr>\n",
       "      <th>9</th>\n",
       "      <td>10</td>\n",
       "      <td>Asus</td>\n",
       "      <td>Notebook</td>\n",
       "      <td>17.3</td>\n",
       "      <td>large</td>\n",
       "      <td>1920</td>\n",
       "      <td>1080</td>\n",
       "      <td>0</td>\n",
       "      <td>0</td>\n",
       "      <td>Intel</td>\n",
       "      <td>Core i7</td>\n",
       "      <td>2.7</td>\n",
       "      <td>8</td>\n",
       "      <td>Hybrid</td>\n",
       "      <td>128.0</td>\n",
       "      <td>1024</td>\n",
       "      <td>Nvidia</td>\n",
       "      <td>NaN</td>\n",
       "      <td>2.69</td>\n",
       "      <td>47366</td>\n",
       "      <td>127</td>\n",
       "    </tr>\n",
       "  </tbody>\n",
       "</table>\n",
       "</div>"
      ],
      "text/plain": [
       "   index_col Company   TypeName  Inches screen_size  resolution_width  \\\n",
       "0          1      HP  Ultrabook    12.5       small              3840   \n",
       "1          2    Asus   Notebook    17.3       large              1920   \n",
       "2          3   Apple  Ultrabook    13.3       small              2560   \n",
       "3          4    Asus   Notebook    17.3       large              1366   \n",
       "4          5    Asus   Notebook    15.6      medium              1920   \n",
       "5          6    Acer   Notebook    15.6      medium              1366   \n",
       "6          7    Dell     Gaming    15.6      medium              1920   \n",
       "7          8   Apple  Ultrabook    13.3       small              1440   \n",
       "8          9    Dell     Gaming    15.6      medium              1920   \n",
       "9         10    Asus   Notebook    17.3       large              1920   \n",
       "\n",
       "   resolution_height  ips_panel  touchscreen cpu_brand      cpu_name  \\\n",
       "0               2160          1            1     Intel        Core M   \n",
       "1               1080          0            0     Intel       Core i7   \n",
       "2               1600          1            0     Intel       Core i5   \n",
       "3                768          0            0     Intel  Pentium Quad   \n",
       "4               1080          0            0     Intel  Celeron Dual   \n",
       "5                768          0            0     Intel       Core i3   \n",
       "6               1080          0            0     Intel       Core i7   \n",
       "7                900          0            0     Intel       Core i5   \n",
       "8               1080          0            0     Intel       Core i7   \n",
       "9               1080          0            0     Intel       Core i7   \n",
       "\n",
       "   cpu_speed  Ram    memory_type  primary_storage  secondary_storage  \\\n",
       "0        1.2    8            SSD            512.0                  0   \n",
       "1        1.8    8         Hybrid            128.0               1024   \n",
       "2        2.3    8            SSD            128.0                  0   \n",
       "3        1.1    4            HDD           1024.0                  0   \n",
       "4        1.1    4            HDD           1024.0                  0   \n",
       "5        2.0    4            HDD           1024.0                  0   \n",
       "6        2.8   16            SSD            512.0                  0   \n",
       "7        1.8    8  Flash Storage            128.0                  0   \n",
       "8        2.8    8         Hybrid           1024.0                  0   \n",
       "9        2.7    8         Hybrid            128.0               1024   \n",
       "\n",
       "  gpu_brand    OpSys  Weight   price  ppi  \n",
       "0     Intel  windows    0.97  107306  352  \n",
       "1    Nvidia  windows    2.10   61006  127  \n",
       "2     Intel    macos    1.37   71379  227  \n",
       "3    Nvidia  windows    2.80   24828   91  \n",
       "4     Intel  windows    2.00   18328  141  \n",
       "5     Intel  windows    2.10   23816  100  \n",
       "6    Nvidia  windows    2.56   66561  141  \n",
       "7     Intel    macos    1.34   47896  128  \n",
       "8    Nvidia  windows    2.62   47899  141  \n",
       "9    Nvidia      NaN    2.69   47366  127  "
      ]
     },
     "execution_count": 5,
     "metadata": {},
     "output_type": "execute_result"
    }
   ],
   "source": [
    "# Menampilkan sepuluh baris pertama dari DataFrame\n",
    "df.head(10)"
   ]
  },
  {
   "cell_type": "code",
   "execution_count": 6,
   "metadata": {},
   "outputs": [
    {
     "data": {
      "text/html": [
       "<div>\n",
       "<style scoped>\n",
       "    .dataframe tbody tr th:only-of-type {\n",
       "        vertical-align: middle;\n",
       "    }\n",
       "\n",
       "    .dataframe tbody tr th {\n",
       "        vertical-align: top;\n",
       "    }\n",
       "\n",
       "    .dataframe thead th {\n",
       "        text-align: right;\n",
       "    }\n",
       "</style>\n",
       "<table border=\"1\" class=\"dataframe\">\n",
       "  <thead>\n",
       "    <tr style=\"text-align: right;\">\n",
       "      <th></th>\n",
       "      <th>index_col</th>\n",
       "      <th>Company</th>\n",
       "      <th>TypeName</th>\n",
       "      <th>Inches</th>\n",
       "      <th>screen_size</th>\n",
       "      <th>resolution_width</th>\n",
       "      <th>resolution_height</th>\n",
       "      <th>ips_panel</th>\n",
       "      <th>touchscreen</th>\n",
       "      <th>cpu_brand</th>\n",
       "      <th>cpu_name</th>\n",
       "      <th>cpu_speed</th>\n",
       "      <th>Ram</th>\n",
       "      <th>memory_type</th>\n",
       "      <th>primary_storage</th>\n",
       "      <th>secondary_storage</th>\n",
       "      <th>gpu_brand</th>\n",
       "      <th>OpSys</th>\n",
       "      <th>Weight</th>\n",
       "      <th>price</th>\n",
       "      <th>ppi</th>\n",
       "    </tr>\n",
       "  </thead>\n",
       "  <tbody>\n",
       "    <tr>\n",
       "      <th>1262</th>\n",
       "      <td>1263</td>\n",
       "      <td>Lenovo</td>\n",
       "      <td>Notebook</td>\n",
       "      <td>15.6</td>\n",
       "      <td>medium</td>\n",
       "      <td>1920</td>\n",
       "      <td>1080</td>\n",
       "      <td>0</td>\n",
       "      <td>0</td>\n",
       "      <td>Intel</td>\n",
       "      <td>Core i7</td>\n",
       "      <td>2.5</td>\n",
       "      <td>4</td>\n",
       "      <td>Hybrid</td>\n",
       "      <td>1024.0</td>\n",
       "      <td>0</td>\n",
       "      <td>Intel</td>\n",
       "      <td>windows</td>\n",
       "      <td>2.32</td>\n",
       "      <td>43956</td>\n",
       "      <td>141</td>\n",
       "    </tr>\n",
       "    <tr>\n",
       "      <th>1263</th>\n",
       "      <td>1264</td>\n",
       "      <td>HP</td>\n",
       "      <td>Netbook</td>\n",
       "      <td>11.6</td>\n",
       "      <td>small</td>\n",
       "      <td>1366</td>\n",
       "      <td>768</td>\n",
       "      <td>0</td>\n",
       "      <td>0</td>\n",
       "      <td>Intel</td>\n",
       "      <td>Celeron Dual</td>\n",
       "      <td>1.6</td>\n",
       "      <td>2</td>\n",
       "      <td>Flash Storage</td>\n",
       "      <td>32.0</td>\n",
       "      <td>0</td>\n",
       "      <td>Intel</td>\n",
       "      <td>windows</td>\n",
       "      <td>1.17</td>\n",
       "      <td>11136</td>\n",
       "      <td>135</td>\n",
       "    </tr>\n",
       "    <tr>\n",
       "      <th>1264</th>\n",
       "      <td>1265</td>\n",
       "      <td>Lenovo</td>\n",
       "      <td>Gaming</td>\n",
       "      <td>15.6</td>\n",
       "      <td>medium</td>\n",
       "      <td>1920</td>\n",
       "      <td>1080</td>\n",
       "      <td>1</td>\n",
       "      <td>0</td>\n",
       "      <td>Intel</td>\n",
       "      <td>Core i7</td>\n",
       "      <td>2.6</td>\n",
       "      <td>16</td>\n",
       "      <td>SSD</td>\n",
       "      <td>512.0</td>\n",
       "      <td>0</td>\n",
       "      <td>Nvidia</td>\n",
       "      <td>windows</td>\n",
       "      <td>3.31</td>\n",
       "      <td>69530</td>\n",
       "      <td>141</td>\n",
       "    </tr>\n",
       "    <tr>\n",
       "      <th>1265</th>\n",
       "      <td>1266</td>\n",
       "      <td>Asus</td>\n",
       "      <td>Notebook</td>\n",
       "      <td>15.6</td>\n",
       "      <td>medium</td>\n",
       "      <td>1366</td>\n",
       "      <td>768</td>\n",
       "      <td>0</td>\n",
       "      <td>0</td>\n",
       "      <td>Intel</td>\n",
       "      <td>Core i7</td>\n",
       "      <td>2.5</td>\n",
       "      <td>4</td>\n",
       "      <td>HDD</td>\n",
       "      <td>500.0</td>\n",
       "      <td>0</td>\n",
       "      <td>Nvidia</td>\n",
       "      <td>windows</td>\n",
       "      <td>2.20</td>\n",
       "      <td>38379</td>\n",
       "      <td>100</td>\n",
       "    </tr>\n",
       "    <tr>\n",
       "      <th>1266</th>\n",
       "      <td>1267</td>\n",
       "      <td>MSI</td>\n",
       "      <td>Gaming</td>\n",
       "      <td>15.6</td>\n",
       "      <td>medium</td>\n",
       "      <td>1920</td>\n",
       "      <td>1080</td>\n",
       "      <td>0</td>\n",
       "      <td>0</td>\n",
       "      <td>Intel</td>\n",
       "      <td>Core i7</td>\n",
       "      <td>2.6</td>\n",
       "      <td>16</td>\n",
       "      <td>Hybrid</td>\n",
       "      <td>128.0</td>\n",
       "      <td>1024</td>\n",
       "      <td>Nvidia</td>\n",
       "      <td>windows</td>\n",
       "      <td>1.91</td>\n",
       "      <td>114732</td>\n",
       "      <td>141</td>\n",
       "    </tr>\n",
       "    <tr>\n",
       "      <th>1267</th>\n",
       "      <td>1268</td>\n",
       "      <td>Lenovo</td>\n",
       "      <td>2 in 1 Convertible</td>\n",
       "      <td>14.0</td>\n",
       "      <td>medium</td>\n",
       "      <td>1920</td>\n",
       "      <td>1080</td>\n",
       "      <td>1</td>\n",
       "      <td>1</td>\n",
       "      <td>Intel</td>\n",
       "      <td>Core i7</td>\n",
       "      <td>2.5</td>\n",
       "      <td>4</td>\n",
       "      <td>SSD</td>\n",
       "      <td>128.0</td>\n",
       "      <td>0</td>\n",
       "      <td>Intel</td>\n",
       "      <td>windows</td>\n",
       "      <td>1.80</td>\n",
       "      <td>33993</td>\n",
       "      <td>157</td>\n",
       "    </tr>\n",
       "    <tr>\n",
       "      <th>1268</th>\n",
       "      <td>1269</td>\n",
       "      <td>HP</td>\n",
       "      <td>Notebook</td>\n",
       "      <td>15.6</td>\n",
       "      <td>medium</td>\n",
       "      <td>1366</td>\n",
       "      <td>768</td>\n",
       "      <td>0</td>\n",
       "      <td>0</td>\n",
       "      <td>Intel</td>\n",
       "      <td>Core i3</td>\n",
       "      <td>2.3</td>\n",
       "      <td>4</td>\n",
       "      <td>HDD</td>\n",
       "      <td>500.0</td>\n",
       "      <td>0</td>\n",
       "      <td>Intel</td>\n",
       "      <td>windows</td>\n",
       "      <td>2.07</td>\n",
       "      <td>34632</td>\n",
       "      <td>100</td>\n",
       "    </tr>\n",
       "    <tr>\n",
       "      <th>1269</th>\n",
       "      <td>1270</td>\n",
       "      <td>Lenovo</td>\n",
       "      <td>2 in 1 Convertible</td>\n",
       "      <td>13.3</td>\n",
       "      <td>small</td>\n",
       "      <td>3200</td>\n",
       "      <td>1800</td>\n",
       "      <td>1</td>\n",
       "      <td>1</td>\n",
       "      <td>Intel</td>\n",
       "      <td>Core i7</td>\n",
       "      <td>2.5</td>\n",
       "      <td>16</td>\n",
       "      <td>SSD</td>\n",
       "      <td>512.0</td>\n",
       "      <td>0</td>\n",
       "      <td>Intel</td>\n",
       "      <td>windows</td>\n",
       "      <td>1.30</td>\n",
       "      <td>79867</td>\n",
       "      <td>276</td>\n",
       "    </tr>\n",
       "    <tr>\n",
       "      <th>1270</th>\n",
       "      <td>1271</td>\n",
       "      <td>Lenovo</td>\n",
       "      <td>Notebook</td>\n",
       "      <td>14.0</td>\n",
       "      <td>medium</td>\n",
       "      <td>1366</td>\n",
       "      <td>768</td>\n",
       "      <td>0</td>\n",
       "      <td>0</td>\n",
       "      <td>Intel</td>\n",
       "      <td>Celeron Dual</td>\n",
       "      <td>1.6</td>\n",
       "      <td>2</td>\n",
       "      <td>Flash Storage</td>\n",
       "      <td>64.0</td>\n",
       "      <td>0</td>\n",
       "      <td>Intel</td>\n",
       "      <td>windows</td>\n",
       "      <td>1.50</td>\n",
       "      <td>12201</td>\n",
       "      <td>112</td>\n",
       "    </tr>\n",
       "    <tr>\n",
       "      <th>1271</th>\n",
       "      <td>1272</td>\n",
       "      <td>HP</td>\n",
       "      <td>Notebook</td>\n",
       "      <td>15.6</td>\n",
       "      <td>medium</td>\n",
       "      <td>1366</td>\n",
       "      <td>768</td>\n",
       "      <td>0</td>\n",
       "      <td>0</td>\n",
       "      <td>Intel</td>\n",
       "      <td>Core i7</td>\n",
       "      <td>2.5</td>\n",
       "      <td>6</td>\n",
       "      <td>HDD</td>\n",
       "      <td>1024.0</td>\n",
       "      <td>0</td>\n",
       "      <td>AMD</td>\n",
       "      <td>windows</td>\n",
       "      <td>2.19</td>\n",
       "      <td>40706</td>\n",
       "      <td>100</td>\n",
       "    </tr>\n",
       "  </tbody>\n",
       "</table>\n",
       "</div>"
      ],
      "text/plain": [
       "      index_col Company            TypeName  Inches screen_size  \\\n",
       "1262       1263  Lenovo            Notebook    15.6      medium   \n",
       "1263       1264      HP             Netbook    11.6       small   \n",
       "1264       1265  Lenovo              Gaming    15.6      medium   \n",
       "1265       1266    Asus            Notebook    15.6      medium   \n",
       "1266       1267     MSI              Gaming    15.6      medium   \n",
       "1267       1268  Lenovo  2 in 1 Convertible    14.0      medium   \n",
       "1268       1269      HP            Notebook    15.6      medium   \n",
       "1269       1270  Lenovo  2 in 1 Convertible    13.3       small   \n",
       "1270       1271  Lenovo            Notebook    14.0      medium   \n",
       "1271       1272      HP            Notebook    15.6      medium   \n",
       "\n",
       "      resolution_width  resolution_height  ips_panel  touchscreen cpu_brand  \\\n",
       "1262              1920               1080          0            0     Intel   \n",
       "1263              1366                768          0            0     Intel   \n",
       "1264              1920               1080          1            0     Intel   \n",
       "1265              1366                768          0            0     Intel   \n",
       "1266              1920               1080          0            0     Intel   \n",
       "1267              1920               1080          1            1     Intel   \n",
       "1268              1366                768          0            0     Intel   \n",
       "1269              3200               1800          1            1     Intel   \n",
       "1270              1366                768          0            0     Intel   \n",
       "1271              1366                768          0            0     Intel   \n",
       "\n",
       "          cpu_name  cpu_speed  Ram    memory_type  primary_storage  \\\n",
       "1262       Core i7        2.5    4         Hybrid           1024.0   \n",
       "1263  Celeron Dual        1.6    2  Flash Storage             32.0   \n",
       "1264       Core i7        2.6   16            SSD            512.0   \n",
       "1265       Core i7        2.5    4            HDD            500.0   \n",
       "1266       Core i7        2.6   16         Hybrid            128.0   \n",
       "1267       Core i7        2.5    4            SSD            128.0   \n",
       "1268       Core i3        2.3    4            HDD            500.0   \n",
       "1269       Core i7        2.5   16            SSD            512.0   \n",
       "1270  Celeron Dual        1.6    2  Flash Storage             64.0   \n",
       "1271       Core i7        2.5    6            HDD           1024.0   \n",
       "\n",
       "      secondary_storage gpu_brand    OpSys  Weight   price  ppi  \n",
       "1262                  0     Intel  windows    2.32   43956  141  \n",
       "1263                  0     Intel  windows    1.17   11136  135  \n",
       "1264                  0    Nvidia  windows    3.31   69530  141  \n",
       "1265                  0    Nvidia  windows    2.20   38379  100  \n",
       "1266               1024    Nvidia  windows    1.91  114732  141  \n",
       "1267                  0     Intel  windows    1.80   33993  157  \n",
       "1268                  0     Intel  windows    2.07   34632  100  \n",
       "1269                  0     Intel  windows    1.30   79867  276  \n",
       "1270                  0     Intel  windows    1.50   12201  112  \n",
       "1271                  0       AMD  windows    2.19   40706  100  "
      ]
     },
     "execution_count": 6,
     "metadata": {},
     "output_type": "execute_result"
    }
   ],
   "source": [
    "# Menampilkan sepuluh baris terakhir dari DataFrame\n",
    "df.tail(10)"
   ]
  },
  {
   "cell_type": "code",
   "execution_count": 7,
   "metadata": {},
   "outputs": [
    {
     "name": "stdout",
     "output_type": "stream",
     "text": [
      "<class 'pandas.core.frame.DataFrame'>\n",
      "RangeIndex: 1272 entries, 0 to 1271\n",
      "Data columns (total 21 columns):\n",
      " #   Column             Non-Null Count  Dtype  \n",
      "---  ------             --------------  -----  \n",
      " 0   index_col          1272 non-null   int64  \n",
      " 1   Company            1272 non-null   object \n",
      " 2   TypeName           1272 non-null   object \n",
      " 3   Inches             1272 non-null   float64\n",
      " 4   screen_size        1272 non-null   object \n",
      " 5   resolution_width   1272 non-null   int64  \n",
      " 6   resolution_height  1272 non-null   int64  \n",
      " 7   ips_panel          1272 non-null   int64  \n",
      " 8   touchscreen        1272 non-null   int64  \n",
      " 9   cpu_brand          1272 non-null   object \n",
      " 10  cpu_name           1272 non-null   object \n",
      " 11  cpu_speed          1272 non-null   float64\n",
      " 12  Ram                1272 non-null   int64  \n",
      " 13  memory_type        1271 non-null   object \n",
      " 14  primary_storage    1271 non-null   float64\n",
      " 15  secondary_storage  1272 non-null   int64  \n",
      " 16  gpu_brand          1272 non-null   object \n",
      " 17  OpSys              1209 non-null   object \n",
      " 18  Weight             1272 non-null   float64\n",
      " 19  price              1272 non-null   int64  \n",
      " 20  ppi                1272 non-null   int64  \n",
      "dtypes: float64(4), int64(9), object(8)\n",
      "memory usage: 208.8+ KB\n",
      "None\n"
     ]
    }
   ],
   "source": [
    "# Menampilkan informasi umum tentang DataFrame\n",
    "print(df.info())"
   ]
  },
  {
   "cell_type": "code",
   "execution_count": 8,
   "metadata": {},
   "outputs": [
    {
     "name": "stdout",
     "output_type": "stream",
     "text": [
      "        index_col       Inches  resolution_width  resolution_height  \\\n",
      "count  1272.00000  1272.000000       1272.000000        1272.000000   \n",
      "mean    636.50000    15.130818       1894.199686        1070.531447   \n",
      "std     367.33908     1.954436        494.389426         284.512222   \n",
      "min       1.00000    10.100000       1366.000000         768.000000   \n",
      "25%     318.75000    14.000000       1600.000000         900.000000   \n",
      "50%     636.50000    15.600000       1920.000000        1080.000000   \n",
      "75%     954.25000    15.600000       1920.000000        1080.000000   \n",
      "max    1272.00000    35.600000       3840.000000        2160.000000   \n",
      "\n",
      "         ips_panel  touchscreen    cpu_speed          Ram  primary_storage  \\\n",
      "count  1272.000000  1272.000000  1272.000000  1272.000000      1271.000000   \n",
      "mean      0.282233     0.145440     2.298192     8.463050       448.412274   \n",
      "std       0.450263     0.352683     0.507680     5.566582       366.717613   \n",
      "min       0.000000     0.000000     0.900000     1.000000         8.000000   \n",
      "25%       0.000000     0.000000     2.000000     4.000000       256.000000   \n",
      "50%       0.000000     0.000000     2.500000     8.000000       256.000000   \n",
      "75%       1.000000     0.000000     2.700000     8.000000       512.000000   \n",
      "max       1.000000     1.000000     3.600000    64.000000      2048.000000   \n",
      "\n",
      "       secondary_storage       Weight          price          ppi  \n",
      "count        1272.000000  1272.000000    1272.000000  1272.000000  \n",
      "mean          173.264151     2.077170   59902.143082   145.821541  \n",
      "std           413.745616     0.808129   37297.683852    43.523965  \n",
      "min             0.000000     0.000000    9271.000000    44.000000  \n",
      "25%             0.000000     1.500000   31915.000000   127.000000  \n",
      "50%             0.000000     2.040000   52108.000000   141.000000  \n",
      "75%             0.000000     2.320000   79244.500000   157.000000  \n",
      "max          2048.000000    11.100000  324955.000000   352.000000  \n"
     ]
    }
   ],
   "source": [
    "# Menampilkan statistik deskriptif dari DataFrame\n",
    "print(df.describe())"
   ]
  },
  {
   "cell_type": "code",
   "execution_count": 9,
   "metadata": {},
   "outputs": [
    {
     "name": "stdout",
     "output_type": "stream",
     "text": [
      "0\n"
     ]
    }
   ],
   "source": [
    "# Menampilkan jumlah baris duplikat dalam DataFrame\n",
    "print(df.duplicated().sum())"
   ]
  },
  {
   "cell_type": "code",
   "execution_count": 10,
   "metadata": {},
   "outputs": [
    {
     "name": "stdout",
     "output_type": "stream",
     "text": [
      "0       107306\n",
      "1        61006\n",
      "2        71379\n",
      "3        24828\n",
      "4        18328\n",
      "         ...  \n",
      "1267     33993\n",
      "1268     34632\n",
      "1269     79867\n",
      "1270     12201\n",
      "1271     40706\n",
      "Name: price, Length: 1272, dtype: int64\n"
     ]
    }
   ],
   "source": [
    "print(df['price'])"
   ]
  },
  {
   "cell_type": "markdown",
   "metadata": {},
   "source": [
    "di dataset variabel price sebelum 2 angka terakhir tidak ada koma sehingga nilai price besar, maka perlu ditambahnya tanda koma sebelum 2 angka terakhir "
   ]
  },
  {
   "cell_type": "code",
   "execution_count": 11,
   "metadata": {},
   "outputs": [],
   "source": [
    "# menambahkan koma pada variabel price\n",
    "df['price'] = df['price'] / 100"
   ]
  },
  {
   "cell_type": "code",
   "execution_count": 12,
   "metadata": {},
   "outputs": [
    {
     "name": "stdout",
     "output_type": "stream",
     "text": [
      "Number of unique value in the variable index_col                : 1272\n",
      "Number of unique value in the variable Company                  : 19\n",
      "Number of unique value in the variable TypeName                 : 6\n",
      "Number of unique value in the variable Inches                   : 24\n",
      "Number of unique value in the variable screen_size              : 3\n",
      "Number of unique value in the variable resolution_width         : 13\n",
      "Number of unique value in the variable resolution_height        : 10\n",
      "Number of unique value in the variable ips_panel                : 2\n",
      "Number of unique value in the variable touchscreen              : 2\n",
      "Number of unique value in the variable cpu_brand                : 3\n",
      "Number of unique value in the variable cpu_name                 : 40\n",
      "Number of unique value in the variable cpu_speed                : 24\n",
      "Number of unique value in the variable Ram                      : 10\n",
      "Number of unique value in the variable memory_type              : 5\n",
      "Number of unique value in the variable primary_storage          : 14\n",
      "Number of unique value in the variable secondary_storage        : 6\n",
      "Number of unique value in the variable gpu_brand                : 4\n",
      "Number of unique value in the variable OpSys                    : 5\n",
      "Number of unique value in the variable Weight                   : 177\n",
      "Number of unique value in the variable price                    : 764\n",
      "Number of unique value in the variable ppi                      : 44\n"
     ]
    }
   ],
   "source": [
    "for column in df.columns:\n",
    "    print('Number of unique value in the variable {:<25}: {}'.format(column, len(df[column].unique())))\n"
   ]
  },
  {
   "cell_type": "markdown",
   "metadata": {},
   "source": [
    "mengecek cardinality dengan melihat jumlah unique value di setiap variable"
   ]
  },
  {
   "cell_type": "code",
   "execution_count": 13,
   "metadata": {},
   "outputs": [
    {
     "data": {
      "text/plain": [
       "array(['Core M', 'Core i7', 'Core i5', 'Pentium Quad', 'Celeron Dual',\n",
       "       'Core i3', 'A6-Series 9220', 'A9-Series 9420', 'A6-Series A6-9220',\n",
       "       'Ryzen 1700', 'E-Series E2-9000e', 'Xeon E3-1505M',\n",
       "       'Atom x5-Z8300', 'E-Series E2-6110', 'A10-Series 9600P',\n",
       "       'FX 9830P', 'E-Series 9000e', 'A8-Series 7410', 'A12-Series 9720P',\n",
       "       'A10-Series A10-9620P', 'Ryzen 1600', 'Celeron Quad',\n",
       "       'E-Series 7110', 'Atom x5-Z8350', 'A10-Series 9620P',\n",
       "       'E-Series 6110', 'A9-Series A9-9420', 'A6-Series 7310',\n",
       "       'Atom Z8350', 'Xeon E3-1535M', 'Pentium Dual', 'A12-Series 9700P',\n",
       "       'E-Series E2-9000', 'FX 8800P', 'Atom X5-Z8350', 'A4-Series 7210',\n",
       "       'Cortex A72&A53', 'Atom x5-Z8550', 'E-Series 9000',\n",
       "       'A9-Series 9410'], dtype=object)"
      ]
     },
     "execution_count": 13,
     "metadata": {},
     "output_type": "execute_result"
    }
   ],
   "source": [
    "df[\"cpu_name\"].unique()"
   ]
  },
  {
   "cell_type": "markdown",
   "metadata": {},
   "source": [
    "setelah cek cardinality variabel cpu_name ternyata memiliki nilai ordinal maka dilakukan pemisahan pada variabel cpu_name dengan membuat kolom baru bernama cpu_performance yang berisi 3 kategori baru yaitu high end, medium end dan low end yang mewakilkan performance cpu"
   ]
  },
  {
   "cell_type": "markdown",
   "metadata": {},
   "source": [
    "Low-end CPUs:\n",
    "- Atom x5-Z8300, Atom x5-Z8350, Atom X5-Z8350, Atom x5-Z8550\n",
    "- Celeron Dual, Celeron Quad\n",
    "- E-Series E2-6110, E-Series E2-9000e, E-Series E2-9000, E-Series E2-9000e\n",
    "- A4-Series 7210, A6-Series 7310, A6-Series A6-9220, A9-Series 9410, A9-Series A9-9420\n",
    "- Pentium Dual, Pentium Quad\n",
    "\n",
    "Medium-end CPUs:\n",
    "- A6-Series 9220, A9-Series 9420, A10-Series 9600P, A10-Series A10-9620P, A10-Series 9620P\n",
    "- A8-Series 7410, A12-Series 9720P, A12-Series 9700P\n",
    "- E-Series 7110, E-Series 9000\n",
    "- Ryzen 1600, Ryzen 1700\n",
    "\n",
    "High-end CPUs:\n",
    "- Core M, Core i3, Core i5, Core i7\n",
    "- Xeon E3-1505M, Xeon E3-1535M\n",
    "- FX 8800P, FX 9830P\n",
    "- Cortex A72&A53"
   ]
  },
  {
   "cell_type": "code",
   "execution_count": 14,
   "metadata": {},
   "outputs": [],
   "source": [
    "# Daftar CPU berdasarkan kategori\n",
    "low_end_cpus = [\n",
    "    'Atom x5-Z8300', 'Atom x5-Z8350', 'Atom X5-Z8350', 'Atom x5-Z8550',\n",
    "    'Celeron Dual', 'Celeron Quad',\n",
    "    'E-Series E2-6110', 'E-Series E2-9000e', 'E-Series E2-9000', 'E-Series E2-9000e',\n",
    "    'A4-Series 7210', 'A6-Series 7310', 'A6-Series A6-9220', 'A9-Series 9410', 'A9-Series A9-9420',\n",
    "    'Pentium Dual', 'Pentium Quad'\n",
    "]\n",
    "\n",
    "medium_end_cpus = [\n",
    "    'A6-Series 9220', 'A9-Series 9420', 'A10-Series 9600P', 'A10-Series A10-9620P', 'A10-Series 9620P',\n",
    "    'A8-Series 7410', 'A12-Series 9720P', 'A12-Series 9700P',\n",
    "    'E-Series 7110', 'E-Series 9000',\n",
    "    'Ryzen 1600', 'Ryzen 1700'\n",
    "]\n",
    "\n",
    "high_end_cpus = [\n",
    "    'Core M', 'Core i3', 'Core i5', 'Core i7',\n",
    "    'Xeon E3-1505M', 'Xeon E3-1535M',\n",
    "    'FX 8800P', 'FX 9830P',\n",
    "    'Cortex A72&A53'\n",
    "]\n",
    "\n",
    "# Inisialisasi list untuk menyimpan kategori kinerja CPU\n",
    "perf_cat=[] \n",
    "\n",
    "# Iterasi melalui data 'cpu_name' pada dataframe df\n",
    "for i in df['cpu_name'] : \n",
    "    # Memeriksa apakah CPU termasuk dalam kategori low_end_cpus\n",
    "    if i in low_end_cpus:\n",
    "        perf_cat.append('low end')\n",
    "    # Memeriksa apakah CPU termasuk dalam kategori medium_end_cpus\n",
    "    elif i in medium_end_cpus:\n",
    "        perf_cat.append('medium end')\n",
    "    # Jika tidak termasuk dalam kategori low atau medium, maka termasuk high_end_cpus\n",
    "    else:\n",
    "        perf_cat.append('high end') \n",
    "\n",
    "# Menambahkan kolom 'cpu_performance' ke dataframe df\n",
    "df['cpu_performance']= perf_cat\n"
   ]
  },
  {
   "cell_type": "markdown",
   "metadata": {},
   "source": [
    "setelah dibuat variabel baru cpu_performance maka variabel cpu_name tidak lagi dibutuhkan, maka perlunya untuk menghapus variabel cpu_name tetapi penghapusan dilakukan setelah EDA karena variabel cpu_name dapat di ambil insightnya"
   ]
  },
  {
   "cell_type": "code",
   "execution_count": 15,
   "metadata": {},
   "outputs": [
    {
     "data": {
      "text/plain": [
       "cpu_performance\n",
       "high end      1087\n",
       "low end        140\n",
       "medium end      45\n",
       "Name: count, dtype: int64"
      ]
     },
     "execution_count": 15,
     "metadata": {},
     "output_type": "execute_result"
    }
   ],
   "source": [
    "df['cpu_performance'].value_counts()"
   ]
  },
  {
   "cell_type": "markdown",
   "metadata": {},
   "source": [
    "pada dataset terdapat variabel index_col yang berfungsi sebagai index sehingga indexing pada dataset menjadi double, maka perlunya untuk menghapus variabel index_col "
   ]
  },
  {
   "cell_type": "code",
   "execution_count": 16,
   "metadata": {},
   "outputs": [
    {
     "data": {
      "text/html": [
       "<div>\n",
       "<style scoped>\n",
       "    .dataframe tbody tr th:only-of-type {\n",
       "        vertical-align: middle;\n",
       "    }\n",
       "\n",
       "    .dataframe tbody tr th {\n",
       "        vertical-align: top;\n",
       "    }\n",
       "\n",
       "    .dataframe thead th {\n",
       "        text-align: right;\n",
       "    }\n",
       "</style>\n",
       "<table border=\"1\" class=\"dataframe\">\n",
       "  <thead>\n",
       "    <tr style=\"text-align: right;\">\n",
       "      <th></th>\n",
       "      <th>Company</th>\n",
       "      <th>TypeName</th>\n",
       "      <th>Inches</th>\n",
       "      <th>screen_size</th>\n",
       "      <th>resolution_width</th>\n",
       "      <th>resolution_height</th>\n",
       "      <th>ips_panel</th>\n",
       "      <th>touchscreen</th>\n",
       "      <th>cpu_brand</th>\n",
       "      <th>cpu_name</th>\n",
       "      <th>cpu_speed</th>\n",
       "      <th>Ram</th>\n",
       "      <th>memory_type</th>\n",
       "      <th>primary_storage</th>\n",
       "      <th>secondary_storage</th>\n",
       "      <th>gpu_brand</th>\n",
       "      <th>OpSys</th>\n",
       "      <th>Weight</th>\n",
       "      <th>price</th>\n",
       "      <th>ppi</th>\n",
       "      <th>cpu_performance</th>\n",
       "    </tr>\n",
       "  </thead>\n",
       "  <tbody>\n",
       "    <tr>\n",
       "      <th>0</th>\n",
       "      <td>HP</td>\n",
       "      <td>Ultrabook</td>\n",
       "      <td>12.5</td>\n",
       "      <td>small</td>\n",
       "      <td>3840</td>\n",
       "      <td>2160</td>\n",
       "      <td>1</td>\n",
       "      <td>1</td>\n",
       "      <td>Intel</td>\n",
       "      <td>Core M</td>\n",
       "      <td>1.2</td>\n",
       "      <td>8</td>\n",
       "      <td>SSD</td>\n",
       "      <td>512.0</td>\n",
       "      <td>0</td>\n",
       "      <td>Intel</td>\n",
       "      <td>windows</td>\n",
       "      <td>0.97</td>\n",
       "      <td>1073.06</td>\n",
       "      <td>352</td>\n",
       "      <td>high end</td>\n",
       "    </tr>\n",
       "    <tr>\n",
       "      <th>1</th>\n",
       "      <td>Asus</td>\n",
       "      <td>Notebook</td>\n",
       "      <td>17.3</td>\n",
       "      <td>large</td>\n",
       "      <td>1920</td>\n",
       "      <td>1080</td>\n",
       "      <td>0</td>\n",
       "      <td>0</td>\n",
       "      <td>Intel</td>\n",
       "      <td>Core i7</td>\n",
       "      <td>1.8</td>\n",
       "      <td>8</td>\n",
       "      <td>Hybrid</td>\n",
       "      <td>128.0</td>\n",
       "      <td>1024</td>\n",
       "      <td>Nvidia</td>\n",
       "      <td>windows</td>\n",
       "      <td>2.10</td>\n",
       "      <td>610.06</td>\n",
       "      <td>127</td>\n",
       "      <td>high end</td>\n",
       "    </tr>\n",
       "    <tr>\n",
       "      <th>2</th>\n",
       "      <td>Apple</td>\n",
       "      <td>Ultrabook</td>\n",
       "      <td>13.3</td>\n",
       "      <td>small</td>\n",
       "      <td>2560</td>\n",
       "      <td>1600</td>\n",
       "      <td>1</td>\n",
       "      <td>0</td>\n",
       "      <td>Intel</td>\n",
       "      <td>Core i5</td>\n",
       "      <td>2.3</td>\n",
       "      <td>8</td>\n",
       "      <td>SSD</td>\n",
       "      <td>128.0</td>\n",
       "      <td>0</td>\n",
       "      <td>Intel</td>\n",
       "      <td>macos</td>\n",
       "      <td>1.37</td>\n",
       "      <td>713.79</td>\n",
       "      <td>227</td>\n",
       "      <td>high end</td>\n",
       "    </tr>\n",
       "    <tr>\n",
       "      <th>3</th>\n",
       "      <td>Asus</td>\n",
       "      <td>Notebook</td>\n",
       "      <td>17.3</td>\n",
       "      <td>large</td>\n",
       "      <td>1366</td>\n",
       "      <td>768</td>\n",
       "      <td>0</td>\n",
       "      <td>0</td>\n",
       "      <td>Intel</td>\n",
       "      <td>Pentium Quad</td>\n",
       "      <td>1.1</td>\n",
       "      <td>4</td>\n",
       "      <td>HDD</td>\n",
       "      <td>1024.0</td>\n",
       "      <td>0</td>\n",
       "      <td>Nvidia</td>\n",
       "      <td>windows</td>\n",
       "      <td>2.80</td>\n",
       "      <td>248.28</td>\n",
       "      <td>91</td>\n",
       "      <td>low end</td>\n",
       "    </tr>\n",
       "    <tr>\n",
       "      <th>4</th>\n",
       "      <td>Asus</td>\n",
       "      <td>Notebook</td>\n",
       "      <td>15.6</td>\n",
       "      <td>medium</td>\n",
       "      <td>1920</td>\n",
       "      <td>1080</td>\n",
       "      <td>0</td>\n",
       "      <td>0</td>\n",
       "      <td>Intel</td>\n",
       "      <td>Celeron Dual</td>\n",
       "      <td>1.1</td>\n",
       "      <td>4</td>\n",
       "      <td>HDD</td>\n",
       "      <td>1024.0</td>\n",
       "      <td>0</td>\n",
       "      <td>Intel</td>\n",
       "      <td>windows</td>\n",
       "      <td>2.00</td>\n",
       "      <td>183.28</td>\n",
       "      <td>141</td>\n",
       "      <td>low end</td>\n",
       "    </tr>\n",
       "  </tbody>\n",
       "</table>\n",
       "</div>"
      ],
      "text/plain": [
       "  Company   TypeName  Inches screen_size  resolution_width  resolution_height  \\\n",
       "0      HP  Ultrabook    12.5       small              3840               2160   \n",
       "1    Asus   Notebook    17.3       large              1920               1080   \n",
       "2   Apple  Ultrabook    13.3       small              2560               1600   \n",
       "3    Asus   Notebook    17.3       large              1366                768   \n",
       "4    Asus   Notebook    15.6      medium              1920               1080   \n",
       "\n",
       "   ips_panel  touchscreen cpu_brand      cpu_name  cpu_speed  Ram memory_type  \\\n",
       "0          1            1     Intel        Core M        1.2    8         SSD   \n",
       "1          0            0     Intel       Core i7        1.8    8      Hybrid   \n",
       "2          1            0     Intel       Core i5        2.3    8         SSD   \n",
       "3          0            0     Intel  Pentium Quad        1.1    4         HDD   \n",
       "4          0            0     Intel  Celeron Dual        1.1    4         HDD   \n",
       "\n",
       "   primary_storage  secondary_storage gpu_brand    OpSys  Weight    price  \\\n",
       "0            512.0                  0     Intel  windows    0.97  1073.06   \n",
       "1            128.0               1024    Nvidia  windows    2.10   610.06   \n",
       "2            128.0                  0     Intel    macos    1.37   713.79   \n",
       "3           1024.0                  0    Nvidia  windows    2.80   248.28   \n",
       "4           1024.0                  0     Intel  windows    2.00   183.28   \n",
       "\n",
       "   ppi cpu_performance  \n",
       "0  352        high end  \n",
       "1  127        high end  \n",
       "2  227        high end  \n",
       "3   91         low end  \n",
       "4  141         low end  "
      ]
     },
     "execution_count": 16,
     "metadata": {},
     "output_type": "execute_result"
    }
   ],
   "source": [
    "# Menghapus kolom index\n",
    "df = df.drop(['index_col'], axis=1)\n",
    "df.head()"
   ]
  },
  {
   "cell_type": "markdown",
   "metadata": {},
   "source": [
    "\n",
    "---\n",
    "\n",
    "## <a id=\"class4\">**3. Exploratory Data Analysis (EDA)**</a> <a style=\"float:right; margin-right: 15px\"><img src=\"https://cdn-icons-png.flaticon.com/512/272/272369.png\" alt=\"drawing\" width=\"64\" align=\"center\"/></a>\n",
    "\n",
    "---"
   ]
  },
  {
   "cell_type": "code",
   "execution_count": 17,
   "metadata": {},
   "outputs": [
    {
     "data": {
      "image/png": "[encoded data removed]",
      "text/plain": [
       "<Figure size 900x500 with 1 Axes>"
      ]
     },
     "metadata": {},
     "output_type": "display_data"
    }
   ],
   "source": [
    "# Mendapatkan daftar 20 perusahaan dengan jumlah laptop terbanyak\n",
    "company_list = df['Company'].value_counts().index[:20].tolist()\n",
    "\n",
    "# Membuat figure dan axis untuk plot\n",
    "plt.figure(figsize=(9,5))\n",
    "\n",
    "# Membuat plot batang menggunakan seaborn untuk menghitung rata-rata harga laptop berdasarkan perusahaan\n",
    "ax = sns.barplot(\n",
    "    x='Company', \n",
    "    y='price', \n",
    "    data=df[df['Company'].isin(company_list)],  # Hanya menyertakan perusahaan yang ada dalam daftar company_list\n",
    "    order=company_list,  # Mengurutkan perusahaan berdasarkan company_list\n",
    "    palette='Spectral',  # Menggunakan palet warna 'Spectral'\n",
    "    errorbar=('ci', False),  # Tidak menampilkan error bar\n",
    "    edgecolor=\"black\"  # Mengatur warna tepi batang menjadi hitam\n",
    ")\n",
    "\n",
    "plt.xticks(rotation=80)\n",
    "plt.title('Average Price of Laptops by Company') \n",
    "plt.xlabel('') \n",
    "plt.ylabel('Price') \n",
    "plt.show()  \n"
   ]
  },
  {
   "cell_type": "markdown",
   "metadata": {},
   "source": [
    "berdasarkan bar plot terlihat perusahaan razer memiliki nilai rata-rata harga laptop paling tinggi, dikarenakan Razer merupakan salah satu leading laptop gaming  diikuti LG, MSI, Google,Microsoft,Apple\n",
    "\n",
    "***Insight***\n",
    "- Pasar Target yang Spesifik: Razer, dengan harga laptop yang tinggi, menargetkan konsumen yang mengutamakan performa tinggi dan kualitas dalam perangkat gaming. Hal ini menunjukkan bahwa ada segmen pasar yang siap membayar lebih untuk fitur-fitur khusus seperti grafik yang kuat, layar berkualitas tinggi, dan kecepatan prosesor yang tinggi.\n",
    "\n",
    "- Brand Image dan Reputasi: Razer telah berhasil membangun citra sebagai salah satu merek terkemuka di industri laptop gaming. Harga yang tinggi bisa menjadi cerminan dari reputasi mereka dalam menghasilkan produk dengan desain inovatif, performa handal, dan keandalan tinggi.\n",
    "\n",
    "- novasi dan Teknologi: Mereka mungkin menggunakan teknologi terbaru dan inovasi dalam desain dan produksi laptop mereka, yang mempengaruhi harga akhir produk. Konsumen yang menghargai inovasi dan teknologi canggih cenderung lebih memilih produk dengan harga yang lebih tinggi."
   ]
  },
  {
   "cell_type": "code",
   "execution_count": 18,
   "metadata": {},
   "outputs": [
    {
     "data": {
      "image/png": "[encoded data removed]",
      "text/plain": [
       "<Figure size 1000x500 with 1 Axes>"
      ]
     },
     "metadata": {},
     "output_type": "display_data"
    }
   ],
   "source": [
    "# Membuat plot\n",
    "fig, ax = plt.subplots(figsize=(10,5))\n",
    "\n",
    "# Membuat plot batang menggunakan seaborn untuk menghitung jumlah laptop berdasarkan perusahaan\n",
    "ax = sns.countplot(x='Company', data=df, palette='mako_r', order=df['Company'].value_counts().index)\n",
    "ax.set_xticklabels(ax.get_xticklabels(), rotation=80)\n",
    "\n",
    "plt.title('Number of Laptops by Company')  \n",
    "plt.ylabel('Counts') \n",
    "plt.xlabel('')  \n",
    "plt.show() \n"
   ]
  },
  {
   "cell_type": "markdown",
   "metadata": {},
   "source": [
    "berdasarkan bar plot diketahui laptop paling banyak dijual adalah Lenovo, Dell dan HP dikarenakan brand ini memiliki jangkauan pasar yang besar bagi kalangan pekerja kantoran kemudian diikuti Asus , Acer dan MSI dikarenakan mereka menjual gaming laptop yang jangkauan pasarnya adalah gamer\n",
    "\n",
    "***Insight*** \n",
    "\n",
    "- Diversifikasi Segmentasi Pasar: Lenovo, Dell, dan HP menjangkau pasar luas di kalangan masyarakat umum. Hal ini menunjukkan bahwa laptop-laptop mereka menawarkan kualitas, keandalan, dan dukungan yang dibutuhkan oleh segmen pasar ini, seperti performa yang handal untuk aplikasi pekerjaan dan daya tahan baterai yang baik.\n",
    "\n",
    "- Spesialisasi dalam Gaming: Asus, Acer dan MSI fokus pada pasar gaming dengan laptop-laptop yang dirancang khusus untuk kebutuhan gamer, seperti grafis yang kuat, prosesor yang cepat, dan desain yang menarik. "
   ]
  },
  {
   "cell_type": "code",
   "execution_count": 19,
   "metadata": {},
   "outputs": [
    {
     "data": {
      "image/png": "[encoded data removed]",
      "text/plain": [
       "<Figure size 800x600 with 1 Axes>"
      ]
     },
     "metadata": {},
     "output_type": "display_data"
    }
   ],
   "source": [
    "# Mendapatkan daftar 5 CPU yang paling umum\n",
    "cpu_list = df['cpu_name'].value_counts()[:5].index.tolist()\n",
    "\n",
    "# Mengelompokkan data berdasarkan CPU dan menghitung rata-rata harga\n",
    "cpu_avg_price = df[df['cpu_name'].isin(cpu_list)].groupby('cpu_name')['price'].mean().sort_values(ascending=False)\n",
    "cpu_avg_price = cpu_avg_price.reset_index()\n",
    "\n",
    "plt.figure(figsize=(8,6))\n",
    "\n",
    "# Membuat plot batang menggunakan seaborn berdasarkan rata-rata harga CPU\n",
    "ax = sns.barplot(x='cpu_name', y='price', data=cpu_avg_price, palette='viridis')\n",
    "plt.xticks(rotation=80)\n",
    "\n",
    "# Menambahkan label pada setiap batang\n",
    "for container in ax.containers:\n",
    "    ax.bar_label(container)\n",
    "\n",
    "plt.title('Average Price of Laptop based on Common CPUs')\n",
    "plt.xlabel('')\n",
    "plt.ylabel('')\n",
    "plt.show()\n"
   ]
  },
  {
   "cell_type": "markdown",
   "metadata": {},
   "source": [
    "berdasarkan bar plot terlihat CPU Core i7 memiliki nilai harga rata-rata laptop paling tinggi, ini dikarenakan pengguna menginginkan processor yang cepat dan efektif untuk melakukan task, meskipun harganya mahal CPU core i7 banyak peminatnya dan bagi yang kurang anggaran pengguna banyak yang memilih ke Core i5 dan i3 yang kecepatan CPU dan efektifitas lumayan\n",
    "\n",
    "***Insight*** \n",
    "\n",
    "- Pilihan Berdasarkan Kebutuhan: Pengguna laptop memilih prosesor berdasarkan kebutuhan mereka. Core i7, meskipun lebih mahal, menawarkan performa yang sangat tinggi dan cocok untuk tugas-tugas komputasi yang berat seperti pengolahan grafis, pengeditan video, dan gaming. Pengguna yang memerlukan kecepatan dan efisiensi tinggi cenderung memilih Core i7 meskipun dengan harga yang lebih tinggi.\n",
    "\n",
    "- Pilihan Berdasarkan Anggaran: Core i5 dan Core i3 tetap menjadi pilihan populer karena memberikan keseimbangan antara performa yang cukup baik dan harga yang lebih terjangkau. Pengguna yang tidak memerlukan kecepatan ekstrem atau tidak memiliki anggaran besar cenderung memilih prosesor ini untuk kebutuhan sehari-hari seperti browsing web, penggunaan office, dan multimedia ringan.\n",
    "\n",
    "\n"
   ]
  },
  {
   "cell_type": "code",
   "execution_count": 20,
   "metadata": {},
   "outputs": [
    {
     "data": {
      "image/png": "[encoded data removed]",
      "text/plain": [
       "<Figure size 1000x600 with 1 Axes>"
      ]
     },
     "metadata": {},
     "output_type": "display_data"
    }
   ],
   "source": [
    "# Mendefinisikan warna khusus untuk setiap merek GPU\n",
    "custom_palette = {'Intel': 'blue', 'Nvidia': 'green', 'AMD': 'red', 'ARM': 'yellow'}\n",
    "\n",
    "# Membuat daftar warna berdasarkan nilai gpu_brand\n",
    "colors = [custom_palette.get(brand, 'grey') for brand in df['gpu_brand'].unique()]\n",
    "\n",
    "# Plotting dengan seaborn\n",
    "plt.figure(figsize=(10, 6))\n",
    "sns.barplot(x=df['gpu_brand'], y=df['price'], estimator=np.mean, palette=colors)\n",
    "plt.xlabel('')  # Menghapus label sumbu x\n",
    "plt.ylabel('')  # Menghapus label sumbu y\n",
    "plt.title('Average Laptop Price by GPU Brand')  # Menambahkan judul plot\n",
    "plt.xticks(rotation='vertical')  \n",
    "plt.show()  # Menampilkan plot\n"
   ]
  },
  {
   "cell_type": "markdown",
   "metadata": {},
   "source": [
    "berdasarkan bar plot terlihat GPU Nvidia menempati posisi pertama sebagai harga laptop dengan rata-rata tertingi , sudah tidak diragukan lagi karena Nvidia adalah leading grafis saat ini terutama game grafis makanya harga GPU sanggat tinggi, Nvidia dengan GPU buatan merepa selalu menjadi incaran konsumer walaupun harga GPU yang sangat mahal tapi kualitas GPU ini sudah terbukti memang bagus. grafis lainya yaitu dibawah Nvidia adalah Intel dan AMD GPU buatan mereka memang tidak sebagus Nvidia tapi cukup untuk pengguna yang tidak memntingkan grafis atau tidak suka game\n",
    "\n",
    "***Insight*** \n",
    "\n",
    "- Dominasi Pasar Gaming dan Grafis: Nvidia memimpin pasar GPU karena performanya yang unggul, terutama dalam hal gaming dan aplikasi grafis. Teknologi seperti ray tracing dan AI-driven enhancements yang diimplementasikan oleh Nvidia memberikan pengalaman visual yang superior, menjadikannya pilihan utama bagi gamer dan profesional di bidang kreatif.\n",
    "\n",
    "- Segmen Pengguna Premium: Harga tinggi GPU Nvidia mencerminkan segmen pasar yang ditargetkan, yaitu pengguna dengan kebutuhan performa tinggi dan anggaran besar, seperti gamer hardcore, desainer grafis, dan profesional di bidang video editing. Mereka cenderung memilih GPU Nvidia meskipun harganya lebih tinggi karena menginginkan kualitas dan performa terbaik\n",
    "\n",
    "- Pilihan Alternatif untuk Segmen Ekonomis: GPU dari Intel dan AMD menawarkan alternatif yang lebih terjangkau bagi pengguna dengan kebutuhan grafis yang tidak terlalu intensif. Mereka yang tidak bermain game berat atau tidak membutuhkan performa grafis tinggi, seperti mahasiswa, cenderung memilih laptop dengan GPU dari Intel atau AMD untuk menghemat biaya."
   ]
  },
  {
   "cell_type": "code",
   "execution_count": 21,
   "metadata": {},
   "outputs": [
    {
     "data": {
      "application/vnd.plotly.v1+json": {
       "config": {
        "plotlyServerURL": "https://plot.ly"
       },
       "data": [
        {
         "domain": {
          "x": [
           0,
           1
          ],
          "y": [
           0,
           1
          ]
         },
         "hovertemplate": "Ram=%{label}<br>percentage=%{value}<extra></extra>",
         "labels": [
          1,
          2,
          4,
          6,
          8,
          12,
          16,
          24,
          32,
          64
         ],
         "legendgroup": "",
         "name": "",
         "showlegend": true,
         "type": "pie",
         "values": [
          0.07861635220125786,
          1.729559748427673,
          28.852201257861637,
          3.1446540880503147,
          47.16981132075472,
          1.9654088050314464,
          15.251572327044025,
          0.2358490566037736,
          1.3364779874213837,
          0.2358490566037736
         ]
        }
       ],
       "layout": {
        "legend": {
         "title": {
          "text": "RAM (GB)"
         },
         "tracegroupgap": 0
        },
        "template": {
         "data": {
          "bar": [
           {
            "error_x": {
             "color": "#2a3f5f"
            },
            "error_y": {
             "color": "#2a3f5f"
            },
            "marker": {
             "line": {
              "color": "#E5ECF6",
              "width": 0.5
             },
             "pattern": {
              "fillmode": "overlay",
              "size": 10,
              "solidity": 0.2
             }
            },
            "type": "bar"
           }
          ],
          "barpolar": [
           {
            "marker": {
             "line": {
              "color": "#E5ECF6",
              "width": 0.5
             },
             "pattern": {
              "fillmode": "overlay",
              "size": 10,
              "solidity": 0.2
             }
            },
            "type": "barpolar"
           }
          ],
          "carpet": [
           {
            "aaxis": {
             "endlinecolor": "#2a3f5f",
             "gridcolor": "white",
             "linecolor": "white",
             "minorgridcolor": "white",
             "startlinecolor": "#2a3f5f"
            },
            "baxis": {
             "endlinecolor": "#2a3f5f",
             "gridcolor": "white",
             "linecolor": "white",
             "minorgridcolor": "white",
             "startlinecolor": "#2a3f5f"
            },
            "type": "carpet"
           }
          ],
          "choropleth": [
           {
            "colorbar": {
             "outlinewidth": 0,
             "ticks": ""
            },
            "type": "choropleth"
           }
          ],
          "contour": [
           {
            "colorbar": {
             "outlinewidth": 0,
             "ticks": ""
            },
            "colorscale": [
             [
              0,
              "#0d0887"
             ],
             [
              0.1111111111111111,
              "#46039f"
             ],
             [
              0.2222222222222222,
              "#7201a8"
             ],
             [
              0.3333333333333333,
              "#9c179e"
             ],
             [
              0.4444444444444444,
              "#bd3786"
             ],
             [
              0.5555555555555556,
              "#d8576b"
             ],
             [
              0.6666666666666666,
              "#ed7953"
             ],
             [
              0.7777777777777778,
              "#fb9f3a"
             ],
             [
              0.8888888888888888,
              "#fdca26"
             ],
             [
              1,
              "#f0f921"
             ]
            ],
            "type": "contour"
           }
          ],
          "contourcarpet": [
           {
            "colorbar": {
             "outlinewidth": 0,
             "ticks": ""
            },
            "type": "contourcarpet"
           }
          ],
          "heatmap": [
           {
            "colorbar": {
             "outlinewidth": 0,
             "ticks": ""
            },
            "colorscale": [
             [
              0,
              "#0d0887"
             ],
             [
              0.1111111111111111,
              "#46039f"
             ],
             [
              0.2222222222222222,
              "#7201a8"
             ],
             [
              0.3333333333333333,
              "#9c179e"
             ],
             [
              0.4444444444444444,
              "#bd3786"
             ],
             [
              0.5555555555555556,
              "#d8576b"
             ],
             [
              0.6666666666666666,
              "#ed7953"
             ],
             [
              0.7777777777777778,
              "#fb9f3a"
             ],
             [
              0.8888888888888888,
              "#fdca26"
             ],
             [
              1,
              "#f0f921"
             ]
            ],
            "type": "heatmap"
           }
          ],
          "heatmapgl": [
           {
            "colorbar": {
             "outlinewidth": 0,
             "ticks": ""
            },
            "colorscale": [
             [
              0,
              "#0d0887"
             ],
             [
              0.1111111111111111,
              "#46039f"
             ],
             [
              0.2222222222222222,
              "#7201a8"
             ],
             [
              0.3333333333333333,
              "#9c179e"
             ],
             [
              0.4444444444444444,
              "#bd3786"
             ],
             [
              0.5555555555555556,
              "#d8576b"
             ],
             [
              0.6666666666666666,
              "#ed7953"
             ],
             [
              0.7777777777777778,
              "#fb9f3a"
             ],
             [
              0.8888888888888888,
              "#fdca26"
             ],
             [
              1,
              "#f0f921"
             ]
            ],
            "type": "heatmapgl"
           }
          ],
          "histogram": [
           {
            "marker": {
             "pattern": {
              "fillmode": "overlay",
              "size": 10,
              "solidity": 0.2
             }
            },
            "type": "histogram"
           }
          ],
          "histogram2d": [
           {
            "colorbar": {
             "outlinewidth": 0,
             "ticks": ""
            },
            "colorscale": [
             [
              0,
              "#0d0887"
             ],
             [
              0.1111111111111111,
              "#46039f"
             ],
             [
              0.2222222222222222,
              "#7201a8"
             ],
             [
              0.3333333333333333,
              "#9c179e"
             ],
             [
              0.4444444444444444,
              "#bd3786"
             ],
             [
              0.5555555555555556,
              "#d8576b"
             ],
             [
              0.6666666666666666,
              "#ed7953"
             ],
             [
              0.7777777777777778,
              "#fb9f3a"
             ],
             [
              0.8888888888888888,
              "#fdca26"
             ],
             [
              1,
              "#f0f921"
             ]
            ],
            "type": "histogram2d"
           }
          ],
          "histogram2dcontour": [
           {
            "colorbar": {
             "outlinewidth": 0,
             "ticks": ""
            },
            "colorscale": [
             [
              0,
              "#0d0887"
             ],
             [
              0.1111111111111111,
              "#46039f"
             ],
             [
              0.2222222222222222,
              "#7201a8"
             ],
             [
              0.3333333333333333,
              "#9c179e"
             ],
             [
              0.4444444444444444,
              "#bd3786"
             ],
             [
              0.5555555555555556,
              "#d8576b"
             ],
             [
              0.6666666666666666,
              "#ed7953"
             ],
             [
              0.7777777777777778,
              "#fb9f3a"
             ],
             [
              0.8888888888888888,
              "#fdca26"
             ],
             [
              1,
              "#f0f921"
             ]
            ],
            "type": "histogram2dcontour"
           }
          ],
          "mesh3d": [
           {
            "colorbar": {
             "outlinewidth": 0,
             "ticks": ""
            },
            "type": "mesh3d"
           }
          ],
          "parcoords": [
           {
            "line": {
             "colorbar": {
              "outlinewidth": 0,
              "ticks": ""
             }
            },
            "type": "parcoords"
           }
          ],
          "pie": [
           {
            "automargin": true,
            "type": "pie"
           }
          ],
          "scatter": [
           {
            "fillpattern": {
             "fillmode": "overlay",
             "size": 10,
             "solidity": 0.2
            },
            "type": "scatter"
           }
          ],
          "scatter3d": [
           {
            "line": {
             "colorbar": {
              "outlinewidth": 0,
              "ticks": ""
             }
            },
            "marker": {
             "colorbar": {
              "outlinewidth": 0,
              "ticks": ""
             }
            },
            "type": "scatter3d"
           }
          ],
          "scattercarpet": [
           {
            "marker": {
             "colorbar": {
              "outlinewidth": 0,
              "ticks": ""
             }
            },
            "type": "scattercarpet"
           }
          ],
          "scattergeo": [
           {
            "marker": {
             "colorbar": {
              "outlinewidth": 0,
              "ticks": ""
             }
            },
            "type": "scattergeo"
           }
          ],
          "scattergl": [
           {
            "marker": {
             "colorbar": {
              "outlinewidth": 0,
              "ticks": ""
             }
            },
            "type": "scattergl"
           }
          ],
          "scattermapbox": [
           {
            "marker": {
             "colorbar": {
              "outlinewidth": 0,
              "ticks": ""
             }
            },
            "type": "scattermapbox"
           }
          ],
          "scatterpolar": [
           {
            "marker": {
             "colorbar": {
              "outlinewidth": 0,
              "ticks": ""
             }
            },
            "type": "scatterpolar"
           }
          ],
          "scatterpolargl": [
           {
            "marker": {
             "colorbar": {
              "outlinewidth": 0,
              "ticks": ""
             }
            },
            "type": "scatterpolargl"
           }
          ],
          "scatterternary": [
           {
            "marker": {
             "colorbar": {
              "outlinewidth": 0,
              "ticks": ""
             }
            },
            "type": "scatterternary"
           }
          ],
          "surface": [
           {
            "colorbar": {
             "outlinewidth": 0,
             "ticks": ""
            },
            "colorscale": [
             [
              0,
              "#0d0887"
             ],
             [
              0.1111111111111111,
              "#46039f"
             ],
             [
              0.2222222222222222,
              "#7201a8"
             ],
             [
              0.3333333333333333,
              "#9c179e"
             ],
             [
              0.4444444444444444,
              "#bd3786"
             ],
             [
              0.5555555555555556,
              "#d8576b"
             ],
             [
              0.6666666666666666,
              "#ed7953"
             ],
             [
              0.7777777777777778,
              "#fb9f3a"
             ],
             [
              0.8888888888888888,
              "#fdca26"
             ],
             [
              1,
              "#f0f921"
             ]
            ],
            "type": "surface"
           }
          ],
          "table": [
           {
            "cells": {
             "fill": {
              "color": "#EBF0F8"
             },
             "line": {
              "color": "white"
             }
            },
            "header": {
             "fill": {
              "color": "#C8D4E3"
             },
             "line": {
              "color": "white"
             }
            },
            "type": "table"
           }
          ]
         },
         "layout": {
          "annotationdefaults": {
           "arrowcolor": "#2a3f5f",
           "arrowhead": 0,
           "arrowwidth": 1
          },
          "autotypenumbers": "strict",
          "coloraxis": {
           "colorbar": {
            "outlinewidth": 0,
            "ticks": ""
           }
          },
          "colorscale": {
           "diverging": [
            [
             0,
             "#8e0152"
            ],
            [
             0.1,
             "#c51b7d"
            ],
            [
             0.2,
             "#de77ae"
            ],
            [
             0.3,
             "#f1b6da"
            ],
            [
             0.4,
             "#fde0ef"
            ],
            [
             0.5,
             "#f7f7f7"
            ],
            [
             0.6,
             "#e6f5d0"
            ],
            [
             0.7,
             "#b8e186"
            ],
            [
             0.8,
             "#7fbc41"
            ],
            [
             0.9,
             "#4d9221"
            ],
            [
             1,
             "#276419"
            ]
           ],
           "sequential": [
            [
             0,
             "#0d0887"
            ],
            [
             0.1111111111111111,
             "#46039f"
            ],
            [
             0.2222222222222222,
             "#7201a8"
            ],
            [
             0.3333333333333333,
             "#9c179e"
            ],
            [
             0.4444444444444444,
             "#bd3786"
            ],
            [
             0.5555555555555556,
             "#d8576b"
            ],
            [
             0.6666666666666666,
             "#ed7953"
            ],
            [
             0.7777777777777778,
             "#fb9f3a"
            ],
            [
             0.8888888888888888,
             "#fdca26"
            ],
            [
             1,
             "#f0f921"
            ]
           ],
           "sequentialminus": [
            [
             0,
             "#0d0887"
            ],
            [
             0.1111111111111111,
             "#46039f"
            ],
            [
             0.2222222222222222,
             "#7201a8"
            ],
            [
             0.3333333333333333,
             "#9c179e"
            ],
            [
             0.4444444444444444,
             "#bd3786"
            ],
            [
             0.5555555555555556,
             "#d8576b"
            ],
            [
             0.6666666666666666,
             "#ed7953"
            ],
            [
             0.7777777777777778,
             "#fb9f3a"
            ],
            [
             0.8888888888888888,
             "#fdca26"
            ],
            [
             1,
             "#f0f921"
            ]
           ]
          },
          "colorway": [
           "#636efa",
           "#EF553B",
           "#00cc96",
           "#ab63fa",
           "#FFA15A",
           "#19d3f3",
           "#FF6692",
           "#B6E880",
           "#FF97FF",
           "#FECB52"
          ],
          "font": {
           "color": "#2a3f5f"
          },
          "geo": {
           "bgcolor": "white",
           "lakecolor": "white",
           "landcolor": "#E5ECF6",
           "showlakes": true,
           "showland": true,
           "subunitcolor": "white"
          },
          "hoverlabel": {
           "align": "left"
          },
          "hovermode": "closest",
          "mapbox": {
           "style": "light"
          },
          "paper_bgcolor": "white",
          "plot_bgcolor": "#E5ECF6",
          "polar": {
           "angularaxis": {
            "gridcolor": "white",
            "linecolor": "white",
            "ticks": ""
           },
           "bgcolor": "#E5ECF6",
           "radialaxis": {
            "gridcolor": "white",
            "linecolor": "white",
            "ticks": ""
           }
          },
          "scene": {
           "xaxis": {
            "backgroundcolor": "#E5ECF6",
            "gridcolor": "white",
            "gridwidth": 2,
            "linecolor": "white",
            "showbackground": true,
            "ticks": "",
            "zerolinecolor": "white"
           },
           "yaxis": {
            "backgroundcolor": "#E5ECF6",
            "gridcolor": "white",
            "gridwidth": 2,
            "linecolor": "white",
            "showbackground": true,
            "ticks": "",
            "zerolinecolor": "white"
           },
           "zaxis": {
            "backgroundcolor": "#E5ECF6",
            "gridcolor": "white",
            "gridwidth": 2,
            "linecolor": "white",
            "showbackground": true,
            "ticks": "",
            "zerolinecolor": "white"
           }
          },
          "shapedefaults": {
           "line": {
            "color": "#2a3f5f"
           }
          },
          "ternary": {
           "aaxis": {
            "gridcolor": "white",
            "linecolor": "white",
            "ticks": ""
           },
           "baxis": {
            "gridcolor": "white",
            "linecolor": "white",
            "ticks": ""
           },
           "bgcolor": "#E5ECF6",
           "caxis": {
            "gridcolor": "white",
            "linecolor": "white",
            "ticks": ""
           }
          },
          "title": {
           "x": 0.05
          },
          "xaxis": {
           "automargin": true,
           "gridcolor": "white",
           "linecolor": "white",
           "ticks": "",
           "title": {
            "standoff": 15
           },
           "zerolinecolor": "white",
           "zerolinewidth": 2
          },
          "yaxis": {
           "automargin": true,
           "gridcolor": "white",
           "linecolor": "white",
           "ticks": "",
           "title": {
            "standoff": 15
           },
           "zerolinecolor": "white",
           "zerolinewidth": 2
          }
         }
        },
        "title": {
         "text": "Amount of RAMs is the Most Common in Laptops"
        }
       }
      }
     },
     "metadata": {},
     "output_type": "display_data"
    }
   ],
   "source": [
    "# Mengelompokkan data berdasarkan jumlah RAM dan menghitung persentase\n",
    "ram = df.groupby(\"Ram\").size() * 100 / len(df)\n",
    "ram.name = \"percentage\"\n",
    "ram = ram.reset_index()\n",
    "\n",
    "# Membuat plot pie menggunakan plotly express berdasarkan persentase jumlah RAM\n",
    "fig = px.pie(ram, names=\"Ram\", values=\"percentage\", title=\"Amount of RAMs is the Most Common in Laptops\")\n",
    "fig.update_layout({\"legend_title\": \"RAM (GB)\"})\n",
    "fig.show()\n"
   ]
  },
  {
   "cell_type": "markdown",
   "metadata": {},
   "source": [
    "berdasarkan pie chart di ketahui laptop dengan jumlah ram 8 adalah yang paling sering diikuti laptop dengan jumlah ram 4 dan 16 \n",
    "\n",
    "***insight***\n",
    "- Penggunaan RAM Sebagai Standar: RAM 8GB menjadi pilihan yang paling umum di antara pengguna laptop. Ini menunjukkan bahwa kebanyakan pengguna menganggap 8GB RAM cukup untuk kebutuhan sehari-hari, termasuk multitasking ringan, browsing web, dan aplikasi kantor.\n",
    "\n",
    "- Pilihan Budget dan Kebutuhan: RAM 4GB yang menduduki posisi kedua menunjukkan bahwa ada segmen pasar yang masih memilih laptop dengan spesifikasi dasar atau budget terbatas. Penggunaan RAM 4GB biasanya memadai untuk tugas-tugas ringan seperti penggunaan kantor sederhana dan browsing internet.\n",
    "\n",
    "- Kebutuhan Khusus dan Performa: RAM 16GB yang mengikuti di urutan ketiga menunjukkan adanya permintaan untuk performa lebih tinggi, terutama dari pengguna yang melakukan tugas-tugas berat seperti pengolahan data besar, desain grafis, atau pengeditan video. RAM 16GB memberikan lebih banyak ruang untuk multitasking intensif dan menjalankan aplikasi berat secara bersamaan."
   ]
  },
  {
   "cell_type": "code",
   "execution_count": 58,
   "metadata": {},
   "outputs": [
    {
     "data": {
      "image/png": "[encoded data removed]",
      "text/plain": [
       "<Figure size 600x500 with 1 Axes>"
      ]
     },
     "metadata": {},
     "output_type": "display_data"
    },
    {
     "data": {
      "image/png": "[encoded data removed]",
      "text/plain": [
       "<Figure size 640x480 with 1 Axes>"
      ]
     },
     "metadata": {},
     "output_type": "display_data"
    }
   ],
   "source": [
    "# Membuat subplots \n",
    "fig, ax = plt.subplots(figsize=(6,5))\n",
    "\n",
    "# Membuat plot count menggunakan seaborn untuk jenis laptop yang paling umum\n",
    "ax = sns.countplot(\n",
    "    x='TypeName',  # Menggunakan kolom TypeName sebagai sumbu x\n",
    "    data=df,  # Menggunakan dataframe df\n",
    "    palette='tab20c',  # Memilih palet warna 'tab20c'\n",
    "    order=df['TypeName'].value_counts().index  # Mengurutkan berdasarkan jumlah jenis laptop\n",
    ")\n",
    "ax.set_xticklabels(ax.get_xticklabels(), rotation=80)\n",
    "plt.title('Most Common Laptops Type')  \n",
    "plt.xlabel('')  \n",
    "plt.ylabel('Counts') \n",
    "plt.show()  \n",
    "\n",
    "# Menggunakan seaborn untuk membuat bar plot\n",
    "sns.barplot(\n",
    "    x=df['TypeName'],  # Menggunakan kolom TypeName sebagai sumbu x\n",
    "    y=df['price'],  # Menggunakan kolom price sebagai sumbu y\n",
    "    palette='plasma'  # Memilih palet warna 'plasma'\n",
    ")\n",
    "\n",
    "# Menambahkan label sumbu y, judul, dan menghapus label sumbu x\n",
    "plt.xticks(rotation='vertical')\n",
    "plt.ylabel('Price') \n",
    "plt.title('Average Laptop Price by Types')  \n",
    "plt.xlabel('') \n",
    "plt.show()  "
   ]
  },
  {
   "cell_type": "markdown",
   "metadata": {},
   "source": [
    "berdasarkan bar plot terlihat notebook adalah laptop yang paling banyak di jual diikuti oleh gaming dan ultrabook tetapi rata-rata harga laptop menunjukan laptop tipe workstasion paling atas diikuti gaming dan ultrabook\n",
    "\n",
    "***insight***\n",
    "\n",
    "Popularitas laptop Berdasarkan Jenisnya:\n",
    "\n",
    "- Notebook: Merupakan jenis laptop yang paling banyak dijual, menunjukkan bahwa laptop dengan desain umum dan multifungsi masih mendominasi pasar konsumen.\n",
    "- Gaming: Meskipun tidak mendominasi pasar secara keseluruhan, tetapi memiliki pangsa pasar yang signifikan, menunjukkan popularitas yang tinggi di kalangan pengguna yang memprioritaskan performa grafis dan kecepatan untuk gaming.\n",
    "- Ultrabook: Disebut sebagai laptop ringan dan tipis yang tetap kuat dalam hal kinerja, ultrabook menempati posisi yang signifikan, terutama di kalangan pengguna yang menginginkan portabilitas tinggi tanpa mengorbankan performa.\n",
    "\n",
    "Rata-Rata Harga Berdasarkan Jenis Laptop:\n",
    "\n",
    "- Workstation: Menunjukkan rata-rata harga tertinggi di antara jenis laptop lainnya. Ini mungkin disebabkan oleh spesifikasi yang lebih tinggi, seperti prosesor dan grafis yang kuat, RAM yang besar, dan penyimpanan yang luas, yang sering kali diperlukan oleh profesional dalam bidang seperti desain grafis, rekayasa, dan pengembangan software.\n",
    "- Gaming: Meskipun tidak mendominasi penjualan seperti notebook, gaming laptop memiliki rata-rata harga yang signifikan. Hal ini terkait dengan kebutuhan akan grafis yang kuat dan kinerja yang optimal untuk memainkan game modern dengan lancar.\n",
    "- Ultrabook: Meskipun populer dalam penjualan, ultrabook cenderung memiliki rata-rata harga yang lebih rendah dibandingkan dengan workstation dan gaming laptop. Ini mencerminkan orientasi pasar mereka yang lebih luas, termasuk pengguna yang membutuhkan portabilitas dan kinerja yang cukup untuk tugas sehari-hari."
   ]
  },
  {
   "cell_type": "code",
   "execution_count": 24,
   "metadata": {},
   "outputs": [
    {
     "data": {
      "image/png": "[encoded data removed]",
      "text/plain": [
       "<Figure size 600x500 with 1 Axes>"
      ]
     },
     "metadata": {},
     "output_type": "display_data"
    }
   ],
   "source": [
    "# Mengambil daftar enam ukuran layar laptop yang paling umum\n",
    "inches_list = df['Inches'].value_counts().index[:6].tolist()\n",
    "\n",
    "# Membuat DataFrame baru dengan data hanya untuk ukuran layar yang termasuk dalam inches_list\n",
    "df_clean = df[df['Inches'].isin(inches_list)]\n",
    " \n",
    "# Membuat subplot dengan ukuran gambar 6x5 inch\n",
    "fig, ax = plt.subplots(figsize=(6,5))\n",
    "\n",
    "# Membuat count plot menggunakan seaborn untuk menghitung jumlah laptop berdasarkan ukuran layar\n",
    "ax = sns.countplot(x='Inches', data=df_clean, palette='cool')\n",
    "ax.set_xticklabels(ax.get_xticklabels(), rotation=80)\n",
    "plt.title('Most Common Laptop Screen Size')\n",
    "plt.ylabel('')\n",
    "plt.show()\n"
   ]
  },
  {
   "cell_type": "markdown",
   "metadata": {},
   "source": [
    "berdasarkan ukuran layar , laptop dengan layar 15.6 inch adalah yang paling banyak di pasar diikuti oleh 14 inch ,17.3 inch dan 13.3 inch\n",
    "\n",
    "***insight***\n",
    "\n",
    "- Dominasi Ukuran Layar 15.6 Inch: Ukuran layar 15.6 inch mendominasi pasar laptop. Hal ini bisa disebabkan karena ukuran ini sering dianggap sebagai titik tengah yang cocok untuk berbagai kegiatan, seperti produktivitas, hiburan, dan penggunaan sehari-hari. Laptop dengan layar 15.6 inch menawarkan keseimbangan antara ukuran layar yang cukup besar untuk pengalaman visual yang nyaman, namun tidak terlalu besar sehingga masih cukup portabel.\n",
    "\n",
    "- Pilihan 14 Inch: Ukuran layar 14 inch merupakan pilihan kedua yang populer. Laptop dengan layar 14 inch menawarkan kombinasi antara portabilitas yang lebih baik dibandingkan 15.6 inch dan ukuran layar yang masih cukup besar untuk produktivitas.\n",
    "\n",
    "- Ukuran Layar Besar (17.3 Inch): Meskipun lebih jarang dibandingkan dengan ukuran 15.6 dan 14 inch, laptop dengan layar 17.3 inch menunjukkan adanya pasar yang cukup signifikan. Ukuran layar besar ini cocok untuk penggunaan yang membutuhkan ruang tampilan yang lebih besar, seperti editing grafis atau penggunaan rumah tangga yang membutuhkan layar yang lebih besar untuk hiburan."
   ]
  },
  {
   "cell_type": "code",
   "execution_count": 25,
   "metadata": {},
   "outputs": [
    {
     "data": {
      "application/vnd.plotly.v1+json": {
       "config": {
        "plotlyServerURL": "https://plot.ly"
       },
       "data": [
        {
         "alignmentgroup": "True",
         "hovertemplate": "OpSys=%{y}<br>Jumlah laptop=%{x}<extra></extra>",
         "legendgroup": "windows",
         "marker": {
          "color": "#636efa",
          "pattern": {
           "shape": ""
          }
         },
         "name": "windows",
         "offsetgroup": "windows",
         "orientation": "h",
         "showlegend": true,
         "textposition": "auto",
         "type": "bar",
         "x": [
          1099
         ],
         "xaxis": "x",
         "y": [
          "windows"
         ],
         "yaxis": "y"
        },
        {
         "alignmentgroup": "True",
         "hovertemplate": "OpSys=%{y}<br>Jumlah laptop=%{x}<extra></extra>",
         "legendgroup": "linux",
         "marker": {
          "color": "#EF553B",
          "pattern": {
           "shape": ""
          }
         },
         "name": "linux",
         "offsetgroup": "linux",
         "orientation": "h",
         "showlegend": true,
         "textposition": "auto",
         "type": "bar",
         "x": [
          61
         ],
         "xaxis": "x",
         "y": [
          "linux"
         ],
         "yaxis": "y"
        },
        {
         "alignmentgroup": "True",
         "hovertemplate": "OpSys=%{y}<br>Jumlah laptop=%{x}<extra></extra>",
         "legendgroup": "other",
         "marker": {
          "color": "#00cc96",
          "pattern": {
           "shape": ""
          }
         },
         "name": "other",
         "offsetgroup": "other",
         "orientation": "h",
         "showlegend": true,
         "textposition": "auto",
         "type": "bar",
         "x": [
          28
         ],
         "xaxis": "x",
         "y": [
          "other"
         ],
         "yaxis": "y"
        },
        {
         "alignmentgroup": "True",
         "hovertemplate": "OpSys=%{y}<br>Jumlah laptop=%{x}<extra></extra>",
         "legendgroup": "macos",
         "marker": {
          "color": "#ab63fa",
          "pattern": {
           "shape": ""
          }
         },
         "name": "macos",
         "offsetgroup": "macos",
         "orientation": "h",
         "showlegend": true,
         "textposition": "auto",
         "type": "bar",
         "x": [
          21
         ],
         "xaxis": "x",
         "y": [
          "macos"
         ],
         "yaxis": "y"
        }
       ],
       "layout": {
        "barmode": "relative",
        "legend": {
         "title": {
          "text": "Operating Systems"
         },
         "tracegroupgap": 0
        },
        "template": {
         "data": {
          "bar": [
           {
            "error_x": {
             "color": "#2a3f5f"
            },
            "error_y": {
             "color": "#2a3f5f"
            },
            "marker": {
             "line": {
              "color": "#E5ECF6",
              "width": 0.5
             },
             "pattern": {
              "fillmode": "overlay",
              "size": 10,
              "solidity": 0.2
             }
            },
            "type": "bar"
           }
          ],
          "barpolar": [
           {
            "marker": {
             "line": {
              "color": "#E5ECF6",
              "width": 0.5
             },
             "pattern": {
              "fillmode": "overlay",
              "size": 10,
              "solidity": 0.2
             }
            },
            "type": "barpolar"
           }
          ],
          "carpet": [
           {
            "aaxis": {
             "endlinecolor": "#2a3f5f",
             "gridcolor": "white",
             "linecolor": "white",
             "minorgridcolor": "white",
             "startlinecolor": "#2a3f5f"
            },
            "baxis": {
             "endlinecolor": "#2a3f5f",
             "gridcolor": "white",
             "linecolor": "white",
             "minorgridcolor": "white",
             "startlinecolor": "#2a3f5f"
            },
            "type": "carpet"
           }
          ],
          "choropleth": [
           {
            "colorbar": {
             "outlinewidth": 0,
             "ticks": ""
            },
            "type": "choropleth"
           }
          ],
          "contour": [
           {
            "colorbar": {
             "outlinewidth": 0,
             "ticks": ""
            },
            "colorscale": [
             [
              0,
              "#0d0887"
             ],
             [
              0.1111111111111111,
              "#46039f"
             ],
             [
              0.2222222222222222,
              "#7201a8"
             ],
             [
              0.3333333333333333,
              "#9c179e"
             ],
             [
              0.4444444444444444,
              "#bd3786"
             ],
             [
              0.5555555555555556,
              "#d8576b"
             ],
             [
              0.6666666666666666,
              "#ed7953"
             ],
             [
              0.7777777777777778,
              "#fb9f3a"
             ],
             [
              0.8888888888888888,
              "#fdca26"
             ],
             [
              1,
              "#f0f921"
             ]
            ],
            "type": "contour"
           }
          ],
          "contourcarpet": [
           {
            "colorbar": {
             "outlinewidth": 0,
             "ticks": ""
            },
            "type": "contourcarpet"
           }
          ],
          "heatmap": [
           {
            "colorbar": {
             "outlinewidth": 0,
             "ticks": ""
            },
            "colorscale": [
             [
              0,
              "#0d0887"
             ],
             [
              0.1111111111111111,
              "#46039f"
             ],
             [
              0.2222222222222222,
              "#7201a8"
             ],
             [
              0.3333333333333333,
              "#9c179e"
             ],
             [
              0.4444444444444444,
              "#bd3786"
             ],
             [
              0.5555555555555556,
              "#d8576b"
             ],
             [
              0.6666666666666666,
              "#ed7953"
             ],
             [
              0.7777777777777778,
              "#fb9f3a"
             ],
             [
              0.8888888888888888,
              "#fdca26"
             ],
             [
              1,
              "#f0f921"
             ]
            ],
            "type": "heatmap"
           }
          ],
          "heatmapgl": [
           {
            "colorbar": {
             "outlinewidth": 0,
             "ticks": ""
            },
            "colorscale": [
             [
              0,
              "#0d0887"
             ],
             [
              0.1111111111111111,
              "#46039f"
             ],
             [
              0.2222222222222222,
              "#7201a8"
             ],
             [
              0.3333333333333333,
              "#9c179e"
             ],
             [
              0.4444444444444444,
              "#bd3786"
             ],
             [
              0.5555555555555556,
              "#d8576b"
             ],
             [
              0.6666666666666666,
              "#ed7953"
             ],
             [
              0.7777777777777778,
              "#fb9f3a"
             ],
             [
              0.8888888888888888,
              "#fdca26"
             ],
             [
              1,
              "#f0f921"
             ]
            ],
            "type": "heatmapgl"
           }
          ],
          "histogram": [
           {
            "marker": {
             "pattern": {
              "fillmode": "overlay",
              "size": 10,
              "solidity": 0.2
             }
            },
            "type": "histogram"
           }
          ],
          "histogram2d": [
           {
            "colorbar": {
             "outlinewidth": 0,
             "ticks": ""
            },
            "colorscale": [
             [
              0,
              "#0d0887"
             ],
             [
              0.1111111111111111,
              "#46039f"
             ],
             [
              0.2222222222222222,
              "#7201a8"
             ],
             [
              0.3333333333333333,
              "#9c179e"
             ],
             [
              0.4444444444444444,
              "#bd3786"
             ],
             [
              0.5555555555555556,
              "#d8576b"
             ],
             [
              0.6666666666666666,
              "#ed7953"
             ],
             [
              0.7777777777777778,
              "#fb9f3a"
             ],
             [
              0.8888888888888888,
              "#fdca26"
             ],
             [
              1,
              "#f0f921"
             ]
            ],
            "type": "histogram2d"
           }
          ],
          "histogram2dcontour": [
           {
            "colorbar": {
             "outlinewidth": 0,
             "ticks": ""
            },
            "colorscale": [
             [
              0,
              "#0d0887"
             ],
             [
              0.1111111111111111,
              "#46039f"
             ],
             [
              0.2222222222222222,
              "#7201a8"
             ],
             [
              0.3333333333333333,
              "#9c179e"
             ],
             [
              0.4444444444444444,
              "#bd3786"
             ],
             [
              0.5555555555555556,
              "#d8576b"
             ],
             [
              0.6666666666666666,
              "#ed7953"
             ],
             [
              0.7777777777777778,
              "#fb9f3a"
             ],
             [
              0.8888888888888888,
              "#fdca26"
             ],
             [
              1,
              "#f0f921"
             ]
            ],
            "type": "histogram2dcontour"
           }
          ],
          "mesh3d": [
           {
            "colorbar": {
             "outlinewidth": 0,
             "ticks": ""
            },
            "type": "mesh3d"
           }
          ],
          "parcoords": [
           {
            "line": {
             "colorbar": {
              "outlinewidth": 0,
              "ticks": ""
             }
            },
            "type": "parcoords"
           }
          ],
          "pie": [
           {
            "automargin": true,
            "type": "pie"
           }
          ],
          "scatter": [
           {
            "fillpattern": {
             "fillmode": "overlay",
             "size": 10,
             "solidity": 0.2
            },
            "type": "scatter"
           }
          ],
          "scatter3d": [
           {
            "line": {
             "colorbar": {
              "outlinewidth": 0,
              "ticks": ""
             }
            },
            "marker": {
             "colorbar": {
              "outlinewidth": 0,
              "ticks": ""
             }
            },
            "type": "scatter3d"
           }
          ],
          "scattercarpet": [
           {
            "marker": {
             "colorbar": {
              "outlinewidth": 0,
              "ticks": ""
             }
            },
            "type": "scattercarpet"
           }
          ],
          "scattergeo": [
           {
            "marker": {
             "colorbar": {
              "outlinewidth": 0,
              "ticks": ""
             }
            },
            "type": "scattergeo"
           }
          ],
          "scattergl": [
           {
            "marker": {
             "colorbar": {
              "outlinewidth": 0,
              "ticks": ""
             }
            },
            "type": "scattergl"
           }
          ],
          "scattermapbox": [
           {
            "marker": {
             "colorbar": {
              "outlinewidth": 0,
              "ticks": ""
             }
            },
            "type": "scattermapbox"
           }
          ],
          "scatterpolar": [
           {
            "marker": {
             "colorbar": {
              "outlinewidth": 0,
              "ticks": ""
             }
            },
            "type": "scatterpolar"
           }
          ],
          "scatterpolargl": [
           {
            "marker": {
             "colorbar": {
              "outlinewidth": 0,
              "ticks": ""
             }
            },
            "type": "scatterpolargl"
           }
          ],
          "scatterternary": [
           {
            "marker": {
             "colorbar": {
              "outlinewidth": 0,
              "ticks": ""
             }
            },
            "type": "scatterternary"
           }
          ],
          "surface": [
           {
            "colorbar": {
             "outlinewidth": 0,
             "ticks": ""
            },
            "colorscale": [
             [
              0,
              "#0d0887"
             ],
             [
              0.1111111111111111,
              "#46039f"
             ],
             [
              0.2222222222222222,
              "#7201a8"
             ],
             [
              0.3333333333333333,
              "#9c179e"
             ],
             [
              0.4444444444444444,
              "#bd3786"
             ],
             [
              0.5555555555555556,
              "#d8576b"
             ],
             [
              0.6666666666666666,
              "#ed7953"
             ],
             [
              0.7777777777777778,
              "#fb9f3a"
             ],
             [
              0.8888888888888888,
              "#fdca26"
             ],
             [
              1,
              "#f0f921"
             ]
            ],
            "type": "surface"
           }
          ],
          "table": [
           {
            "cells": {
             "fill": {
              "color": "#EBF0F8"
             },
             "line": {
              "color": "white"
             }
            },
            "header": {
             "fill": {
              "color": "#C8D4E3"
             },
             "line": {
              "color": "white"
             }
            },
            "type": "table"
           }
          ]
         },
         "layout": {
          "annotationdefaults": {
           "arrowcolor": "#2a3f5f",
           "arrowhead": 0,
           "arrowwidth": 1
          },
          "autotypenumbers": "strict",
          "coloraxis": {
           "colorbar": {
            "outlinewidth": 0,
            "ticks": ""
           }
          },
          "colorscale": {
           "diverging": [
            [
             0,
             "#8e0152"
            ],
            [
             0.1,
             "#c51b7d"
            ],
            [
             0.2,
             "#de77ae"
            ],
            [
             0.3,
             "#f1b6da"
            ],
            [
             0.4,
             "#fde0ef"
            ],
            [
             0.5,
             "#f7f7f7"
            ],
            [
             0.6,
             "#e6f5d0"
            ],
            [
             0.7,
             "#b8e186"
            ],
            [
             0.8,
             "#7fbc41"
            ],
            [
             0.9,
             "#4d9221"
            ],
            [
             1,
             "#276419"
            ]
           ],
           "sequential": [
            [
             0,
             "#0d0887"
            ],
            [
             0.1111111111111111,
             "#46039f"
            ],
            [
             0.2222222222222222,
             "#7201a8"
            ],
            [
             0.3333333333333333,
             "#9c179e"
            ],
            [
             0.4444444444444444,
             "#bd3786"
            ],
            [
             0.5555555555555556,
             "#d8576b"
            ],
            [
             0.6666666666666666,
             "#ed7953"
            ],
            [
             0.7777777777777778,
             "#fb9f3a"
            ],
            [
             0.8888888888888888,
             "#fdca26"
            ],
            [
             1,
             "#f0f921"
            ]
           ],
           "sequentialminus": [
            [
             0,
             "#0d0887"
            ],
            [
             0.1111111111111111,
             "#46039f"
            ],
            [
             0.2222222222222222,
             "#7201a8"
            ],
            [
             0.3333333333333333,
             "#9c179e"
            ],
            [
             0.4444444444444444,
             "#bd3786"
            ],
            [
             0.5555555555555556,
             "#d8576b"
            ],
            [
             0.6666666666666666,
             "#ed7953"
            ],
            [
             0.7777777777777778,
             "#fb9f3a"
            ],
            [
             0.8888888888888888,
             "#fdca26"
            ],
            [
             1,
             "#f0f921"
            ]
           ]
          },
          "colorway": [
           "#636efa",
           "#EF553B",
           "#00cc96",
           "#ab63fa",
           "#FFA15A",
           "#19d3f3",
           "#FF6692",
           "#B6E880",
           "#FF97FF",
           "#FECB52"
          ],
          "font": {
           "color": "#2a3f5f"
          },
          "geo": {
           "bgcolor": "white",
           "lakecolor": "white",
           "landcolor": "#E5ECF6",
           "showlakes": true,
           "showland": true,
           "subunitcolor": "white"
          },
          "hoverlabel": {
           "align": "left"
          },
          "hovermode": "closest",
          "mapbox": {
           "style": "light"
          },
          "paper_bgcolor": "white",
          "plot_bgcolor": "#E5ECF6",
          "polar": {
           "angularaxis": {
            "gridcolor": "white",
            "linecolor": "white",
            "ticks": ""
           },
           "bgcolor": "#E5ECF6",
           "radialaxis": {
            "gridcolor": "white",
            "linecolor": "white",
            "ticks": ""
           }
          },
          "scene": {
           "xaxis": {
            "backgroundcolor": "#E5ECF6",
            "gridcolor": "white",
            "gridwidth": 2,
            "linecolor": "white",
            "showbackground": true,
            "ticks": "",
            "zerolinecolor": "white"
           },
           "yaxis": {
            "backgroundcolor": "#E5ECF6",
            "gridcolor": "white",
            "gridwidth": 2,
            "linecolor": "white",
            "showbackground": true,
            "ticks": "",
            "zerolinecolor": "white"
           },
           "zaxis": {
            "backgroundcolor": "#E5ECF6",
            "gridcolor": "white",
            "gridwidth": 2,
            "linecolor": "white",
            "showbackground": true,
            "ticks": "",
            "zerolinecolor": "white"
           }
          },
          "shapedefaults": {
           "line": {
            "color": "#2a3f5f"
           }
          },
          "ternary": {
           "aaxis": {
            "gridcolor": "white",
            "linecolor": "white",
            "ticks": ""
           },
           "baxis": {
            "gridcolor": "white",
            "linecolor": "white",
            "ticks": ""
           },
           "bgcolor": "#E5ECF6",
           "caxis": {
            "gridcolor": "white",
            "linecolor": "white",
            "ticks": ""
           }
          },
          "title": {
           "x": 0.05
          },
          "xaxis": {
           "automargin": true,
           "gridcolor": "white",
           "linecolor": "white",
           "ticks": "",
           "title": {
            "standoff": 15
           },
           "zerolinecolor": "white",
           "zerolinewidth": 2
          },
          "yaxis": {
           "automargin": true,
           "gridcolor": "white",
           "linecolor": "white",
           "ticks": "",
           "title": {
            "standoff": 15
           },
           "zerolinecolor": "white",
           "zerolinewidth": 2
          }
         }
        },
        "title": {
         "text": "Most Used Operating Systems in Laptops"
        },
        "xaxis": {
         "anchor": "y",
         "domain": [
          0,
          1
         ],
         "title": {
          "text": ""
         }
        },
        "yaxis": {
         "anchor": "x",
         "categoryarray": [
          "macos",
          "other",
          "linux",
          "windows"
         ],
         "categoryorder": "array",
         "domain": [
          0,
          1
         ],
         "title": {
          "text": ""
         }
        }
       }
      }
     },
     "metadata": {},
     "output_type": "display_data"
    },
    {
     "data": {
      "application/vnd.plotly.v1+json": {
       "config": {
        "plotlyServerURL": "https://plot.ly"
       },
       "data": [
        {
         "alignmentgroup": "True",
         "hovertemplate": "OpSys=%{y}<br>Rata-rata harga=%{x}<extra></extra>",
         "legendgroup": "macos",
         "marker": {
          "color": "#636efa",
          "pattern": {
           "shape": ""
          }
         },
         "name": "macos",
         "offsetgroup": "macos",
         "orientation": "h",
         "showlegend": true,
         "textposition": "auto",
         "type": "bar",
         "x": [
          833.4057142857143
         ],
         "xaxis": "x",
         "y": [
          "macos"
         ],
         "yaxis": "y"
        },
        {
         "alignmentgroup": "True",
         "hovertemplate": "OpSys=%{y}<br>Rata-rata harga=%{x}<extra></extra>",
         "legendgroup": "windows",
         "marker": {
          "color": "#EF553B",
          "pattern": {
           "shape": ""
          }
         },
         "name": "windows",
         "offsetgroup": "windows",
         "orientation": "h",
         "showlegend": true,
         "textposition": "auto",
         "type": "bar",
         "x": [
          633.3249681528663
         ],
         "xaxis": "x",
         "y": [
          "windows"
         ],
         "yaxis": "y"
        },
        {
         "alignmentgroup": "True",
         "hovertemplate": "OpSys=%{y}<br>Rata-rata harga=%{x}<extra></extra>",
         "legendgroup": "linux",
         "marker": {
          "color": "#00cc96",
          "pattern": {
           "shape": ""
          }
         },
         "name": "linux",
         "offsetgroup": "linux",
         "orientation": "h",
         "showlegend": true,
         "textposition": "auto",
         "type": "bar",
         "x": [
          329.19426229508196
         ],
         "xaxis": "x",
         "y": [
          "linux"
         ],
         "yaxis": "y"
        },
        {
         "alignmentgroup": "True",
         "hovertemplate": "OpSys=%{y}<br>Rata-rata harga=%{x}<extra></extra>",
         "legendgroup": "other",
         "marker": {
          "color": "#ab63fa",
          "pattern": {
           "shape": ""
          }
         },
         "name": "other",
         "offsetgroup": "other",
         "orientation": "h",
         "showlegend": true,
         "textposition": "auto",
         "type": "bar",
         "x": [
          294.86357142857145
         ],
         "xaxis": "x",
         "y": [
          "other"
         ],
         "yaxis": "y"
        }
       ],
       "layout": {
        "barmode": "relative",
        "legend": {
         "title": {
          "text": "Operating Systems"
         },
         "tracegroupgap": 0
        },
        "template": {
         "data": {
          "bar": [
           {
            "error_x": {
             "color": "#2a3f5f"
            },
            "error_y": {
             "color": "#2a3f5f"
            },
            "marker": {
             "line": {
              "color": "#E5ECF6",
              "width": 0.5
             },
             "pattern": {
              "fillmode": "overlay",
              "size": 10,
              "solidity": 0.2
             }
            },
            "type": "bar"
           }
          ],
          "barpolar": [
           {
            "marker": {
             "line": {
              "color": "#E5ECF6",
              "width": 0.5
             },
             "pattern": {
              "fillmode": "overlay",
              "size": 10,
              "solidity": 0.2
             }
            },
            "type": "barpolar"
           }
          ],
          "carpet": [
           {
            "aaxis": {
             "endlinecolor": "#2a3f5f",
             "gridcolor": "white",
             "linecolor": "white",
             "minorgridcolor": "white",
             "startlinecolor": "#2a3f5f"
            },
            "baxis": {
             "endlinecolor": "#2a3f5f",
             "gridcolor": "white",
             "linecolor": "white",
             "minorgridcolor": "white",
             "startlinecolor": "#2a3f5f"
            },
            "type": "carpet"
           }
          ],
          "choropleth": [
           {
            "colorbar": {
             "outlinewidth": 0,
             "ticks": ""
            },
            "type": "choropleth"
           }
          ],
          "contour": [
           {
            "colorbar": {
             "outlinewidth": 0,
             "ticks": ""
            },
            "colorscale": [
             [
              0,
              "#0d0887"
             ],
             [
              0.1111111111111111,
              "#46039f"
             ],
             [
              0.2222222222222222,
              "#7201a8"
             ],
             [
              0.3333333333333333,
              "#9c179e"
             ],
             [
              0.4444444444444444,
              "#bd3786"
             ],
             [
              0.5555555555555556,
              "#d8576b"
             ],
             [
              0.6666666666666666,
              "#ed7953"
             ],
             [
              0.7777777777777778,
              "#fb9f3a"
             ],
             [
              0.8888888888888888,
              "#fdca26"
             ],
             [
              1,
              "#f0f921"
             ]
            ],
            "type": "contour"
           }
          ],
          "contourcarpet": [
           {
            "colorbar": {
             "outlinewidth": 0,
             "ticks": ""
            },
            "type": "contourcarpet"
           }
          ],
          "heatmap": [
           {
            "colorbar": {
             "outlinewidth": 0,
             "ticks": ""
            },
            "colorscale": [
             [
              0,
              "#0d0887"
             ],
             [
              0.1111111111111111,
              "#46039f"
             ],
             [
              0.2222222222222222,
              "#7201a8"
             ],
             [
              0.3333333333333333,
              "#9c179e"
             ],
             [
              0.4444444444444444,
              "#bd3786"
             ],
             [
              0.5555555555555556,
              "#d8576b"
             ],
             [
              0.6666666666666666,
              "#ed7953"
             ],
             [
              0.7777777777777778,
              "#fb9f3a"
             ],
             [
              0.8888888888888888,
              "#fdca26"
             ],
             [
              1,
              "#f0f921"
             ]
            ],
            "type": "heatmap"
           }
          ],
          "heatmapgl": [
           {
            "colorbar": {
             "outlinewidth": 0,
             "ticks": ""
            },
            "colorscale": [
             [
              0,
              "#0d0887"
             ],
             [
              0.1111111111111111,
              "#46039f"
             ],
             [
              0.2222222222222222,
              "#7201a8"
             ],
             [
              0.3333333333333333,
              "#9c179e"
             ],
             [
              0.4444444444444444,
              "#bd3786"
             ],
             [
              0.5555555555555556,
              "#d8576b"
             ],
             [
              0.6666666666666666,
              "#ed7953"
             ],
             [
              0.7777777777777778,
              "#fb9f3a"
             ],
             [
              0.8888888888888888,
              "#fdca26"
             ],
             [
              1,
              "#f0f921"
             ]
            ],
            "type": "heatmapgl"
           }
          ],
          "histogram": [
           {
            "marker": {
             "pattern": {
              "fillmode": "overlay",
              "size": 10,
              "solidity": 0.2
             }
            },
            "type": "histogram"
           }
          ],
          "histogram2d": [
           {
            "colorbar": {
             "outlinewidth": 0,
             "ticks": ""
            },
            "colorscale": [
             [
              0,
              "#0d0887"
             ],
             [
              0.1111111111111111,
              "#46039f"
             ],
             [
              0.2222222222222222,
              "#7201a8"
             ],
             [
              0.3333333333333333,
              "#9c179e"
             ],
             [
              0.4444444444444444,
              "#bd3786"
             ],
             [
              0.5555555555555556,
              "#d8576b"
             ],
             [
              0.6666666666666666,
              "#ed7953"
             ],
             [
              0.7777777777777778,
              "#fb9f3a"
             ],
             [
              0.8888888888888888,
              "#fdca26"
             ],
             [
              1,
              "#f0f921"
             ]
            ],
            "type": "histogram2d"
           }
          ],
          "histogram2dcontour": [
           {
            "colorbar": {
             "outlinewidth": 0,
             "ticks": ""
            },
            "colorscale": [
             [
              0,
              "#0d0887"
             ],
             [
              0.1111111111111111,
              "#46039f"
             ],
             [
              0.2222222222222222,
              "#7201a8"
             ],
             [
              0.3333333333333333,
              "#9c179e"
             ],
             [
              0.4444444444444444,
              "#bd3786"
             ],
             [
              0.5555555555555556,
              "#d8576b"
             ],
             [
              0.6666666666666666,
              "#ed7953"
             ],
             [
              0.7777777777777778,
              "#fb9f3a"
             ],
             [
              0.8888888888888888,
              "#fdca26"
             ],
             [
              1,
              "#f0f921"
             ]
            ],
            "type": "histogram2dcontour"
           }
          ],
          "mesh3d": [
           {
            "colorbar": {
             "outlinewidth": 0,
             "ticks": ""
            },
            "type": "mesh3d"
           }
          ],
          "parcoords": [
           {
            "line": {
             "colorbar": {
              "outlinewidth": 0,
              "ticks": ""
             }
            },
            "type": "parcoords"
           }
          ],
          "pie": [
           {
            "automargin": true,
            "type": "pie"
           }
          ],
          "scatter": [
           {
            "fillpattern": {
             "fillmode": "overlay",
             "size": 10,
             "solidity": 0.2
            },
            "type": "scatter"
           }
          ],
          "scatter3d": [
           {
            "line": {
             "colorbar": {
              "outlinewidth": 0,
              "ticks": ""
             }
            },
            "marker": {
             "colorbar": {
              "outlinewidth": 0,
              "ticks": ""
             }
            },
            "type": "scatter3d"
           }
          ],
          "scattercarpet": [
           {
            "marker": {
             "colorbar": {
              "outlinewidth": 0,
              "ticks": ""
             }
            },
            "type": "scattercarpet"
           }
          ],
          "scattergeo": [
           {
            "marker": {
             "colorbar": {
              "outlinewidth": 0,
              "ticks": ""
             }
            },
            "type": "scattergeo"
           }
          ],
          "scattergl": [
           {
            "marker": {
             "colorbar": {
              "outlinewidth": 0,
              "ticks": ""
             }
            },
            "type": "scattergl"
           }
          ],
          "scattermapbox": [
           {
            "marker": {
             "colorbar": {
              "outlinewidth": 0,
              "ticks": ""
             }
            },
            "type": "scattermapbox"
           }
          ],
          "scatterpolar": [
           {
            "marker": {
             "colorbar": {
              "outlinewidth": 0,
              "ticks": ""
             }
            },
            "type": "scatterpolar"
           }
          ],
          "scatterpolargl": [
           {
            "marker": {
             "colorbar": {
              "outlinewidth": 0,
              "ticks": ""
             }
            },
            "type": "scatterpolargl"
           }
          ],
          "scatterternary": [
           {
            "marker": {
             "colorbar": {
              "outlinewidth": 0,
              "ticks": ""
             }
            },
            "type": "scatterternary"
           }
          ],
          "surface": [
           {
            "colorbar": {
             "outlinewidth": 0,
             "ticks": ""
            },
            "colorscale": [
             [
              0,
              "#0d0887"
             ],
             [
              0.1111111111111111,
              "#46039f"
             ],
             [
              0.2222222222222222,
              "#7201a8"
             ],
             [
              0.3333333333333333,
              "#9c179e"
             ],
             [
              0.4444444444444444,
              "#bd3786"
             ],
             [
              0.5555555555555556,
              "#d8576b"
             ],
             [
              0.6666666666666666,
              "#ed7953"
             ],
             [
              0.7777777777777778,
              "#fb9f3a"
             ],
             [
              0.8888888888888888,
              "#fdca26"
             ],
             [
              1,
              "#f0f921"
             ]
            ],
            "type": "surface"
           }
          ],
          "table": [
           {
            "cells": {
             "fill": {
              "color": "#EBF0F8"
             },
             "line": {
              "color": "white"
             }
            },
            "header": {
             "fill": {
              "color": "#C8D4E3"
             },
             "line": {
              "color": "white"
             }
            },
            "type": "table"
           }
          ]
         },
         "layout": {
          "annotationdefaults": {
           "arrowcolor": "#2a3f5f",
           "arrowhead": 0,
           "arrowwidth": 1
          },
          "autotypenumbers": "strict",
          "coloraxis": {
           "colorbar": {
            "outlinewidth": 0,
            "ticks": ""
           }
          },
          "colorscale": {
           "diverging": [
            [
             0,
             "#8e0152"
            ],
            [
             0.1,
             "#c51b7d"
            ],
            [
             0.2,
             "#de77ae"
            ],
            [
             0.3,
             "#f1b6da"
            ],
            [
             0.4,
             "#fde0ef"
            ],
            [
             0.5,
             "#f7f7f7"
            ],
            [
             0.6,
             "#e6f5d0"
            ],
            [
             0.7,
             "#b8e186"
            ],
            [
             0.8,
             "#7fbc41"
            ],
            [
             0.9,
             "#4d9221"
            ],
            [
             1,
             "#276419"
            ]
           ],
           "sequential": [
            [
             0,
             "#0d0887"
            ],
            [
             0.1111111111111111,
             "#46039f"
            ],
            [
             0.2222222222222222,
             "#7201a8"
            ],
            [
             0.3333333333333333,
             "#9c179e"
            ],
            [
             0.4444444444444444,
             "#bd3786"
            ],
            [
             0.5555555555555556,
             "#d8576b"
            ],
            [
             0.6666666666666666,
             "#ed7953"
            ],
            [
             0.7777777777777778,
             "#fb9f3a"
            ],
            [
             0.8888888888888888,
             "#fdca26"
            ],
            [
             1,
             "#f0f921"
            ]
           ],
           "sequentialminus": [
            [
             0,
             "#0d0887"
            ],
            [
             0.1111111111111111,
             "#46039f"
            ],
            [
             0.2222222222222222,
             "#7201a8"
            ],
            [
             0.3333333333333333,
             "#9c179e"
            ],
            [
             0.4444444444444444,
             "#bd3786"
            ],
            [
             0.5555555555555556,
             "#d8576b"
            ],
            [
             0.6666666666666666,
             "#ed7953"
            ],
            [
             0.7777777777777778,
             "#fb9f3a"
            ],
            [
             0.8888888888888888,
             "#fdca26"
            ],
            [
             1,
             "#f0f921"
            ]
           ]
          },
          "colorway": [
           "#636efa",
           "#EF553B",
           "#00cc96",
           "#ab63fa",
           "#FFA15A",
           "#19d3f3",
           "#FF6692",
           "#B6E880",
           "#FF97FF",
           "#FECB52"
          ],
          "font": {
           "color": "#2a3f5f"
          },
          "geo": {
           "bgcolor": "white",
           "lakecolor": "white",
           "landcolor": "#E5ECF6",
           "showlakes": true,
           "showland": true,
           "subunitcolor": "white"
          },
          "hoverlabel": {
           "align": "left"
          },
          "hovermode": "closest",
          "mapbox": {
           "style": "light"
          },
          "paper_bgcolor": "white",
          "plot_bgcolor": "#E5ECF6",
          "polar": {
           "angularaxis": {
            "gridcolor": "white",
            "linecolor": "white",
            "ticks": ""
           },
           "bgcolor": "#E5ECF6",
           "radialaxis": {
            "gridcolor": "white",
            "linecolor": "white",
            "ticks": ""
           }
          },
          "scene": {
           "xaxis": {
            "backgroundcolor": "#E5ECF6",
            "gridcolor": "white",
            "gridwidth": 2,
            "linecolor": "white",
            "showbackground": true,
            "ticks": "",
            "zerolinecolor": "white"
           },
           "yaxis": {
            "backgroundcolor": "#E5ECF6",
            "gridcolor": "white",
            "gridwidth": 2,
            "linecolor": "white",
            "showbackground": true,
            "ticks": "",
            "zerolinecolor": "white"
           },
           "zaxis": {
            "backgroundcolor": "#E5ECF6",
            "gridcolor": "white",
            "gridwidth": 2,
            "linecolor": "white",
            "showbackground": true,
            "ticks": "",
            "zerolinecolor": "white"
           }
          },
          "shapedefaults": {
           "line": {
            "color": "#2a3f5f"
           }
          },
          "ternary": {
           "aaxis": {
            "gridcolor": "white",
            "linecolor": "white",
            "ticks": ""
           },
           "baxis": {
            "gridcolor": "white",
            "linecolor": "white",
            "ticks": ""
           },
           "bgcolor": "#E5ECF6",
           "caxis": {
            "gridcolor": "white",
            "linecolor": "white",
            "ticks": ""
           }
          },
          "title": {
           "x": 0.05
          },
          "xaxis": {
           "automargin": true,
           "gridcolor": "white",
           "linecolor": "white",
           "ticks": "",
           "title": {
            "standoff": 15
           },
           "zerolinecolor": "white",
           "zerolinewidth": 2
          },
          "yaxis": {
           "automargin": true,
           "gridcolor": "white",
           "linecolor": "white",
           "ticks": "",
           "title": {
            "standoff": 15
           },
           "zerolinecolor": "white",
           "zerolinewidth": 2
          }
         }
        },
        "title": {
         "text": "Average Price of Laptops based on Operating Systems"
        },
        "xaxis": {
         "anchor": "y",
         "domain": [
          0,
          1
         ],
         "title": {
          "text": ""
         }
        },
        "yaxis": {
         "anchor": "x",
         "categoryarray": [
          "other",
          "linux",
          "windows",
          "macos"
         ],
         "categoryorder": "array",
         "domain": [
          0,
          1
         ],
         "title": {
          "text": ""
         }
        }
       }
      }
     },
     "metadata": {},
     "output_type": "display_data"
    }
   ],
   "source": [
    "# Mengelompokkan data berdasarkan sistem operasi dan menghitung jumlahnya\n",
    "operating_systems = df.groupby(\"OpSys\").size().sort_values(ascending=False)\n",
    "operating_systems.name = \"Jumlah laptop\"\n",
    "operating_systems = operating_systems.reset_index()\n",
    "\n",
    "# Membuat plot batang menggunakan plotly express\n",
    "fig = px.bar(operating_systems, x=\"Jumlah laptop\", y=\"OpSys\", color=\"OpSys\", title=\"Most Used Operating Systems in Laptops\")\n",
    "fig.update_yaxes(title_text='')\n",
    "fig.update_xaxes(title_text='')\n",
    "fig.update_layout(legend_title_text='Operating Systems')\n",
    "fig.show()\n",
    "\n",
    "# Mengelompokkan data berdasarkan sistem operasi dan menghitung rata-rata harga\n",
    "operating_systems = df.groupby(\"OpSys\")['price'].mean().sort_values(ascending=False)\n",
    "operating_systems.name = \"Rata-rata harga\"\n",
    "operating_systems = operating_systems.reset_index()\n",
    "\n",
    "# Membuat plot batang menggunakan plotly express\n",
    "fig = px.bar(operating_systems, x=\"Rata-rata harga\", y=\"OpSys\", color=\"OpSys\", title=\"Average Price of Laptops based on Operating Systems\")\n",
    "fig.update_yaxes(title_text='')\n",
    "fig.update_xaxes(title_text='')\n",
    "fig.update_layout(legend_title_text='Operating Systems')# Mengubah judul legend\n",
    "fig.show()# Menampilkan plot\n",
    "\n"
   ]
  },
  {
   "cell_type": "markdown",
   "metadata": {},
   "source": [
    "sistem operasi paling banyak pada laptop adalah windows dikuti oleh macos tetapi pada rata-rata harga laptop macos berada di atas windows \n",
    "\n",
    "***insight***\n",
    "Dominasi Windows: Windows secara jelas mendominasi pasar laptop dengan pangsa pasar yang lebih besar daripada macOS. Hal ini mungkin disebabkan oleh faktor-faktor seperti ketersediaan lebih luas, kompatibilitas dengan berbagai perangkat lunak, serta berbagai pilihan harga dari berbagai produsen.\n",
    "\n",
    "Rata-Rata Harga macOS yang Lebih Tinggi: Meskipun macOS memiliki pangsa pasar yang lebih kecil dibandingkan dengan Windows, rata-rata harga laptop dengan macOS cenderung lebih tinggi. Hal ini dapat dijelaskan oleh beberapa faktor:\n",
    "\n",
    "- Target Pasar: macOS sering kali lebih populer di kalangan pengguna profesional, kreatif, dan pengguna yang mencari pengalaman penggunaan yang seragam dengan produk-produk Apple lainnya. Kelompok pengguna ini sering kali bersedia membayar lebih untuk fitur-fitur dan ekosistem yang terintegrasi dengan baik.\n",
    "\n",
    "- Ekosistem Premium: Produk MacBook dan sistem operasi macOS dikenal dengan kualitas dan desain premium mereka, yang sering kali menjadi pilihan untuk pengguna yang memprioritaskan keandalan, performa, dan desain estetika."
   ]
  },
  {
   "cell_type": "markdown",
   "metadata": {},
   "source": [
    "setelah EDA dilakukan penghapusan  variabel cpu_name"
   ]
  },
  {
   "cell_type": "code",
   "execution_count": 26,
   "metadata": {},
   "outputs": [
    {
     "data": {
      "text/html": [
       "<div>\n",
       "<style scoped>\n",
       "    .dataframe tbody tr th:only-of-type {\n",
       "        vertical-align: middle;\n",
       "    }\n",
       "\n",
       "    .dataframe tbody tr th {\n",
       "        vertical-align: top;\n",
       "    }\n",
       "\n",
       "    .dataframe thead th {\n",
       "        text-align: right;\n",
       "    }\n",
       "</style>\n",
       "<table border=\"1\" class=\"dataframe\">\n",
       "  <thead>\n",
       "    <tr style=\"text-align: right;\">\n",
       "      <th></th>\n",
       "      <th>Company</th>\n",
       "      <th>TypeName</th>\n",
       "      <th>Inches</th>\n",
       "      <th>screen_size</th>\n",
       "      <th>resolution_width</th>\n",
       "      <th>resolution_height</th>\n",
       "      <th>ips_panel</th>\n",
       "      <th>touchscreen</th>\n",
       "      <th>cpu_brand</th>\n",
       "      <th>cpu_speed</th>\n",
       "      <th>Ram</th>\n",
       "      <th>memory_type</th>\n",
       "      <th>primary_storage</th>\n",
       "      <th>secondary_storage</th>\n",
       "      <th>gpu_brand</th>\n",
       "      <th>OpSys</th>\n",
       "      <th>Weight</th>\n",
       "      <th>price</th>\n",
       "      <th>ppi</th>\n",
       "      <th>cpu_performance</th>\n",
       "    </tr>\n",
       "  </thead>\n",
       "  <tbody>\n",
       "    <tr>\n",
       "      <th>0</th>\n",
       "      <td>HP</td>\n",
       "      <td>Ultrabook</td>\n",
       "      <td>12.5</td>\n",
       "      <td>small</td>\n",
       "      <td>3840</td>\n",
       "      <td>2160</td>\n",
       "      <td>1</td>\n",
       "      <td>1</td>\n",
       "      <td>Intel</td>\n",
       "      <td>1.2</td>\n",
       "      <td>8</td>\n",
       "      <td>SSD</td>\n",
       "      <td>512.0</td>\n",
       "      <td>0</td>\n",
       "      <td>Intel</td>\n",
       "      <td>windows</td>\n",
       "      <td>0.97</td>\n",
       "      <td>1073.06</td>\n",
       "      <td>352</td>\n",
       "      <td>high end</td>\n",
       "    </tr>\n",
       "    <tr>\n",
       "      <th>1</th>\n",
       "      <td>Asus</td>\n",
       "      <td>Notebook</td>\n",
       "      <td>17.3</td>\n",
       "      <td>large</td>\n",
       "      <td>1920</td>\n",
       "      <td>1080</td>\n",
       "      <td>0</td>\n",
       "      <td>0</td>\n",
       "      <td>Intel</td>\n",
       "      <td>1.8</td>\n",
       "      <td>8</td>\n",
       "      <td>Hybrid</td>\n",
       "      <td>128.0</td>\n",
       "      <td>1024</td>\n",
       "      <td>Nvidia</td>\n",
       "      <td>windows</td>\n",
       "      <td>2.10</td>\n",
       "      <td>610.06</td>\n",
       "      <td>127</td>\n",
       "      <td>high end</td>\n",
       "    </tr>\n",
       "    <tr>\n",
       "      <th>2</th>\n",
       "      <td>Apple</td>\n",
       "      <td>Ultrabook</td>\n",
       "      <td>13.3</td>\n",
       "      <td>small</td>\n",
       "      <td>2560</td>\n",
       "      <td>1600</td>\n",
       "      <td>1</td>\n",
       "      <td>0</td>\n",
       "      <td>Intel</td>\n",
       "      <td>2.3</td>\n",
       "      <td>8</td>\n",
       "      <td>SSD</td>\n",
       "      <td>128.0</td>\n",
       "      <td>0</td>\n",
       "      <td>Intel</td>\n",
       "      <td>macos</td>\n",
       "      <td>1.37</td>\n",
       "      <td>713.79</td>\n",
       "      <td>227</td>\n",
       "      <td>high end</td>\n",
       "    </tr>\n",
       "    <tr>\n",
       "      <th>3</th>\n",
       "      <td>Asus</td>\n",
       "      <td>Notebook</td>\n",
       "      <td>17.3</td>\n",
       "      <td>large</td>\n",
       "      <td>1366</td>\n",
       "      <td>768</td>\n",
       "      <td>0</td>\n",
       "      <td>0</td>\n",
       "      <td>Intel</td>\n",
       "      <td>1.1</td>\n",
       "      <td>4</td>\n",
       "      <td>HDD</td>\n",
       "      <td>1024.0</td>\n",
       "      <td>0</td>\n",
       "      <td>Nvidia</td>\n",
       "      <td>windows</td>\n",
       "      <td>2.80</td>\n",
       "      <td>248.28</td>\n",
       "      <td>91</td>\n",
       "      <td>low end</td>\n",
       "    </tr>\n",
       "    <tr>\n",
       "      <th>4</th>\n",
       "      <td>Asus</td>\n",
       "      <td>Notebook</td>\n",
       "      <td>15.6</td>\n",
       "      <td>medium</td>\n",
       "      <td>1920</td>\n",
       "      <td>1080</td>\n",
       "      <td>0</td>\n",
       "      <td>0</td>\n",
       "      <td>Intel</td>\n",
       "      <td>1.1</td>\n",
       "      <td>4</td>\n",
       "      <td>HDD</td>\n",
       "      <td>1024.0</td>\n",
       "      <td>0</td>\n",
       "      <td>Intel</td>\n",
       "      <td>windows</td>\n",
       "      <td>2.00</td>\n",
       "      <td>183.28</td>\n",
       "      <td>141</td>\n",
       "      <td>low end</td>\n",
       "    </tr>\n",
       "  </tbody>\n",
       "</table>\n",
       "</div>"
      ],
      "text/plain": [
       "  Company   TypeName  Inches screen_size  resolution_width  resolution_height  \\\n",
       "0      HP  Ultrabook    12.5       small              3840               2160   \n",
       "1    Asus   Notebook    17.3       large              1920               1080   \n",
       "2   Apple  Ultrabook    13.3       small              2560               1600   \n",
       "3    Asus   Notebook    17.3       large              1366                768   \n",
       "4    Asus   Notebook    15.6      medium              1920               1080   \n",
       "\n",
       "   ips_panel  touchscreen cpu_brand  cpu_speed  Ram memory_type  \\\n",
       "0          1            1     Intel        1.2    8         SSD   \n",
       "1          0            0     Intel        1.8    8      Hybrid   \n",
       "2          1            0     Intel        2.3    8         SSD   \n",
       "3          0            0     Intel        1.1    4         HDD   \n",
       "4          0            0     Intel        1.1    4         HDD   \n",
       "\n",
       "   primary_storage  secondary_storage gpu_brand    OpSys  Weight    price  \\\n",
       "0            512.0                  0     Intel  windows    0.97  1073.06   \n",
       "1            128.0               1024    Nvidia  windows    2.10   610.06   \n",
       "2            128.0                  0     Intel    macos    1.37   713.79   \n",
       "3           1024.0                  0    Nvidia  windows    2.80   248.28   \n",
       "4           1024.0                  0     Intel  windows    2.00   183.28   \n",
       "\n",
       "   ppi cpu_performance  \n",
       "0  352        high end  \n",
       "1  127        high end  \n",
       "2  227        high end  \n",
       "3   91         low end  \n",
       "4  141         low end  "
      ]
     },
     "execution_count": 26,
     "metadata": {},
     "output_type": "execute_result"
    }
   ],
   "source": [
    "# Menghapus kolom index\n",
    "df = df.drop(['cpu_name'], axis=1)\n",
    "df.head()"
   ]
  },
  {
   "cell_type": "markdown",
   "metadata": {},
   "source": [
    "\n",
    "---\n",
    "\n",
    "## <a id=\"class5\">**4. Feature Engineering**</a> <a style=\"float:right; margin-right: 15px\"><img src=\"https://cdn-icons-png.flaticon.com/256/2861/2861721.png\" alt=\"drawing\" width=\"64\" align=\"center\"/></a>\n",
    "\n",
    "---"
   ]
  },
  {
   "cell_type": "markdown",
   "metadata": {},
   "source": [
    "pada milestone 2 tahapan  feature engineering penerapannya dipisah jadi 2 ,tahapan satu dilakukan di luar pipeline yaitu handling missing value, split data dan feature selection lalu . tahapan satunya lagi dilakukan didalam pipeline yaitu scaling dan encoding"
   ]
  },
  {
   "cell_type": "markdown",
   "metadata": {},
   "source": [
    "Ketika cara2 sebelum milestone saat membagi dataset, pertama-tama akan dibagi menjadi dua bagian: set pelatihan (train-set) dan set pengujian (test-set). Kemudian, berbagai kombinasi hiperparameter dari suatu algoritma dicoba Namun, hal ini dapat menyebabkan overfitting.\n",
    "untuk itu digunakan pipeline untuk mencegah agar overfitting tidak terjadi"
   ]
  },
  {
   "cell_type": "markdown",
   "metadata": {},
   "source": [
    "berikut ini adalah struktur langkah milestone 2:\n",
    "\n",
    "- Langkah 1: Bagi dataset menjadi 3 bagian: train-set, validation-set, dan test-set.\n",
    "- Langkah 2: Coba berbagai kombinasi hyperparameter menggunakan train-set dan validation-set.\n",
    "- Langkah 3: Pilih model terbaik berdasarkan kinerja train-set dan validation-set.\n",
    "- Langkah 4: Hanya model terbaik yang akan diuji terhadap test-set."
   ]
  },
  {
   "cell_type": "markdown",
   "metadata": {},
   "source": [
    "## A. missing value handling "
   ]
  },
  {
   "cell_type": "code",
   "execution_count": 27,
   "metadata": {},
   "outputs": [
    {
     "name": "stdout",
     "output_type": "stream",
     "text": [
      "Company               0\n",
      "TypeName              0\n",
      "Inches                0\n",
      "screen_size           0\n",
      "resolution_width      0\n",
      "resolution_height     0\n",
      "ips_panel             0\n",
      "touchscreen           0\n",
      "cpu_brand             0\n",
      "cpu_speed             0\n",
      "Ram                   0\n",
      "memory_type           1\n",
      "primary_storage       1\n",
      "secondary_storage     0\n",
      "gpu_brand             0\n",
      "OpSys                63\n",
      "Weight                0\n",
      "price                 0\n",
      "ppi                   0\n",
      "cpu_performance       0\n",
      "dtype: int64\n"
     ]
    }
   ],
   "source": [
    "# Menampilkan jumlah nilai kosong (null) dalam setiap kolom DataFrame\n",
    "print(df.isnull().sum())"
   ]
  },
  {
   "cell_type": "markdown",
   "metadata": {},
   "source": [
    "setelah dilakukan pengecekan terlihat dataset memiliki missing value di variabel OpSys sebanyak 63 serta di variabel memory_type dan primary_storage masing-masing sebanyak 1 missing value. "
   ]
  },
  {
   "cell_type": "code",
   "execution_count": 28,
   "metadata": {},
   "outputs": [
    {
     "name": "stdout",
     "output_type": "stream",
     "text": [
      "Company              0.000000\n",
      "TypeName             0.000000\n",
      "Inches               0.000000\n",
      "screen_size          0.000000\n",
      "resolution_width     0.000000\n",
      "resolution_height    0.000000\n",
      "ips_panel            0.000000\n",
      "touchscreen          0.000000\n",
      "cpu_brand            0.000000\n",
      "cpu_speed            0.000000\n",
      "Ram                  0.000000\n",
      "memory_type          0.078616\n",
      "primary_storage      0.078616\n",
      "secondary_storage    0.000000\n",
      "gpu_brand            0.000000\n",
      "OpSys                4.952830\n",
      "Weight               0.000000\n",
      "price                0.000000\n",
      "ppi                  0.000000\n",
      "cpu_performance      0.000000\n",
      "dtype: float64\n"
     ]
    }
   ],
   "source": [
    "# Menghitung persentase nilai kosong (null) dalam setiap kolom DataFrame\n",
    "missing_percentage = df.isnull().mean() * 100\n",
    "\n",
    "print(missing_percentage)"
   ]
  },
  {
   "cell_type": "markdown",
   "metadata": {},
   "source": [
    "setelah dilakukan pengecekan lagi terlihat dataset memiliki missing value di variabel OpSys sebanyak 4.9 persen serta di variabel memory_type dan primary_storage masing-masing memiliki missing value sebanyak 0.078 persen"
   ]
  },
  {
   "cell_type": "markdown",
   "metadata": {},
   "source": [
    "karena missing value nya tidak terlalu banyak maka langkah handling missing value yang diambil adalah dengan menghapus data tersebut "
   ]
  },
  {
   "cell_type": "code",
   "execution_count": 29,
   "metadata": {},
   "outputs": [],
   "source": [
    "df.dropna(inplace=True)"
   ]
  },
  {
   "cell_type": "markdown",
   "metadata": {},
   "source": [
    "## B. Split Train-Test"
   ]
  },
  {
   "cell_type": "markdown",
   "metadata": {},
   "source": [
    "dataset dipisah menjadi X dan y\n",
    "- X sebagai variabel dependent atau bergantung pada fitur yaitu price \n",
    "- y sebagai variabel independent atau tidak bergantung pada variabel (kolom selain price)\n",
    "\n",
    "- kemudian data dipisah lagi di X menjadi 80% data latih (X_train) dan 20% data testing (X_test)\n",
    "- begitu juga data di y dipisah lagi menjadi 80% data test (y_train) dan 20% data testing (y_test)"
   ]
  },
  {
   "cell_type": "code",
   "execution_count": 30,
   "metadata": {},
   "outputs": [],
   "source": [
    "# Menentukan fitur dan variabel target\n",
    "X = df.drop('price', axis=1)  # Memisahkan kolom 'price' sebagai variabel target\n",
    "y = df['price']  # Variabel yang akan diprediksi\n",
    "\n",
    "# Membagi data menjadi set pelatihan dan pengujian\n",
    "X_train, X_test, y_train, y_test = train_test_split(X, y, test_size=0.2, random_state=55)  # Membagi data dengan ukuran set pengujian sebesar 20% dan random state 55\n"
   ]
  },
  {
   "cell_type": "code",
   "execution_count": 31,
   "metadata": {},
   "outputs": [
    {
     "name": "stdout",
     "output_type": "stream",
     "text": [
      "Category Columns:  ['Company', 'TypeName', 'screen_size', 'cpu_brand', 'memory_type', 'gpu_brand', 'OpSys', 'cpu_performance']\n",
      "Numeric Columns:  ['Inches', 'resolution_width', 'resolution_height', 'ips_panel', 'touchscreen', 'cpu_speed', 'Ram', 'primary_storage', 'secondary_storage', 'Weight', 'ppi']\n"
     ]
    }
   ],
   "source": [
    "# Memilih kolom numerik dan kategorikal\n",
    "\n",
    "# Memilih kolom dengan tipe data object dan category\n",
    "category_columns = X_train.select_dtypes(include=['object', 'category']).columns.tolist()  \n",
    "# Memilih kolom dengan tipe data int64 dan float64\n",
    "numeric_columns = X_train.select_dtypes(include=['int64', 'float64']).columns.tolist() \n",
    "\n",
    "# Mencetak kolom kategorikal\n",
    "print('Category Columns: ', category_columns)  \n",
    "# Mencetak kolom numerik\n",
    "print('Numeric Columns: ', numeric_columns)  \n"
   ]
  },
  {
   "cell_type": "markdown",
   "metadata": {},
   "source": [
    "## C. Outlier handling (Checking outlier) "
   ]
  },
  {
   "cell_type": "markdown",
   "metadata": {},
   "source": [
    "pada tahapan ini dilakukan pengecekan distribusi data, data dicek apakah memiliki distribusi normal dan mengecek ada tidaknya skew pada data. <br>\n",
    "sebelumnya data yang digunakan adalah data numerik untuk itu dipisahkan kolom numerik dari data <br>\n",
    "kolom numerik ini lalu di pisah lagi menjadi kelompok kolom yang memiliki distribusi normal dan kolom dengan distribusi tidak normal atau memiliki skew sebagai berikut :<br>\n"
   ]
  },
  {
   "cell_type": "code",
   "execution_count": 32,
   "metadata": {},
   "outputs": [],
   "source": [
    "# Membuat data dan kolom untuk distribusi normal\n",
    "data_normal = []\n",
    "column_normal = []\n",
    "\n",
    "# Membuat data dan kolom untuk distribusi skew\n",
    "data_skewed = []\n",
    "column_skewed = []\n",
    "\n",
    "# Loop untuk setiap kolom numerik untuk memfilter distribusi data menjadi kolom yang terdistribusi normal atau skew\n",
    "for num in numeric_columns:\n",
    "    skewness = X_train[num].skew()\n",
    "\n",
    "    # Jika data terdistribusi secara normal\n",
    "    if skewness <= 0.5 and skewness >= -0.5:\n",
    "        column_normal.append(num)\n",
    "        data_normal.append([num, skewness])\n",
    "\n",
    "    # Jika data memiliki skewness negatif rendah\n",
    "    elif skewness < -1:\n",
    "        column_skewed.append(num)\n",
    "        data_skewed.append([num, skewness, 'high'])\n",
    "\n",
    "    # Jika data memiliki skewness positif rendah\n",
    "    elif skewness > 1:\n",
    "        column_skewed.append(num)\n",
    "        data_skewed.append([num, skewness, 'high'])\n",
    "\n",
    "    # Jika data memiliki skewness negatif sedang\n",
    "    elif skewness <= -0.5 and skewness > -1:\n",
    "        column_skewed.append(num)\n",
    "        data_skewed.append([num, skewness, 'low'])\n",
    "\n",
    "    # Jika data memiliki skewness positif sedang\n",
    "    elif skewness >= 0.5 and skewness < 1:\n",
    "        column_skewed.append(num)\n",
    "        data_skewed.append([num, skewness, 'low'])\n"
   ]
  },
  {
   "cell_type": "code",
   "execution_count": 33,
   "metadata": {},
   "outputs": [
    {
     "data": {
      "text/html": [
       "<div>\n",
       "<style scoped>\n",
       "    .dataframe tbody tr th:only-of-type {\n",
       "        vertical-align: middle;\n",
       "    }\n",
       "\n",
       "    .dataframe tbody tr th {\n",
       "        vertical-align: top;\n",
       "    }\n",
       "\n",
       "    .dataframe thead th {\n",
       "        text-align: right;\n",
       "    }\n",
       "</style>\n",
       "<table border=\"1\" class=\"dataframe\">\n",
       "  <thead>\n",
       "    <tr style=\"text-align: right;\">\n",
       "      <th></th>\n",
       "      <th>normal_distribution</th>\n",
       "      <th>skewness</th>\n",
       "    </tr>\n",
       "  </thead>\n",
       "  <tbody>\n",
       "  </tbody>\n",
       "</table>\n",
       "</div>"
      ],
      "text/plain": [
       "Empty DataFrame\n",
       "Columns: [normal_distribution, skewness]\n",
       "Index: []"
      ]
     },
     "execution_count": 33,
     "metadata": {},
     "output_type": "execute_result"
    }
   ],
   "source": [
    "# Menampilkan kolom yang berdistribusi normal\n",
    "pd.DataFrame(data=data_normal, columns=['normal_distribution', 'skewness'])"
   ]
  },
  {
   "cell_type": "code",
   "execution_count": 34,
   "metadata": {},
   "outputs": [
    {
     "data": {
      "text/html": [
       "<div>\n",
       "<style scoped>\n",
       "    .dataframe tbody tr th:only-of-type {\n",
       "        vertical-align: middle;\n",
       "    }\n",
       "\n",
       "    .dataframe tbody tr th {\n",
       "        vertical-align: top;\n",
       "    }\n",
       "\n",
       "    .dataframe thead th {\n",
       "        text-align: right;\n",
       "    }\n",
       "</style>\n",
       "<table border=\"1\" class=\"dataframe\">\n",
       "  <thead>\n",
       "    <tr style=\"text-align: right;\">\n",
       "      <th></th>\n",
       "      <th>skewed_distribution</th>\n",
       "      <th>skewness</th>\n",
       "      <th>rate</th>\n",
       "    </tr>\n",
       "  </thead>\n",
       "  <tbody>\n",
       "    <tr>\n",
       "      <th>0</th>\n",
       "      <td>Inches</td>\n",
       "      <td>4.209252</td>\n",
       "      <td>high</td>\n",
       "    </tr>\n",
       "    <tr>\n",
       "      <th>1</th>\n",
       "      <td>resolution_width</td>\n",
       "      <td>2.175658</td>\n",
       "      <td>high</td>\n",
       "    </tr>\n",
       "    <tr>\n",
       "      <th>2</th>\n",
       "      <td>resolution_height</td>\n",
       "      <td>2.074679</td>\n",
       "      <td>high</td>\n",
       "    </tr>\n",
       "    <tr>\n",
       "      <th>3</th>\n",
       "      <td>ips_panel</td>\n",
       "      <td>0.989980</td>\n",
       "      <td>low</td>\n",
       "    </tr>\n",
       "    <tr>\n",
       "      <th>4</th>\n",
       "      <td>touchscreen</td>\n",
       "      <td>1.973730</td>\n",
       "      <td>high</td>\n",
       "    </tr>\n",
       "    <tr>\n",
       "      <th>5</th>\n",
       "      <td>cpu_speed</td>\n",
       "      <td>-0.846017</td>\n",
       "      <td>low</td>\n",
       "    </tr>\n",
       "    <tr>\n",
       "      <th>6</th>\n",
       "      <td>Ram</td>\n",
       "      <td>3.351816</td>\n",
       "      <td>high</td>\n",
       "    </tr>\n",
       "    <tr>\n",
       "      <th>7</th>\n",
       "      <td>primary_storage</td>\n",
       "      <td>1.628179</td>\n",
       "      <td>high</td>\n",
       "    </tr>\n",
       "    <tr>\n",
       "      <th>8</th>\n",
       "      <td>secondary_storage</td>\n",
       "      <td>2.213824</td>\n",
       "      <td>high</td>\n",
       "    </tr>\n",
       "    <tr>\n",
       "      <th>9</th>\n",
       "      <td>Weight</td>\n",
       "      <td>2.054974</td>\n",
       "      <td>high</td>\n",
       "    </tr>\n",
       "    <tr>\n",
       "      <th>10</th>\n",
       "      <td>ppi</td>\n",
       "      <td>1.958312</td>\n",
       "      <td>high</td>\n",
       "    </tr>\n",
       "  </tbody>\n",
       "</table>\n",
       "</div>"
      ],
      "text/plain": [
       "   skewed_distribution  skewness  rate\n",
       "0               Inches  4.209252  high\n",
       "1     resolution_width  2.175658  high\n",
       "2    resolution_height  2.074679  high\n",
       "3            ips_panel  0.989980   low\n",
       "4          touchscreen  1.973730  high\n",
       "5            cpu_speed -0.846017   low\n",
       "6                  Ram  3.351816  high\n",
       "7      primary_storage  1.628179  high\n",
       "8    secondary_storage  2.213824  high\n",
       "9               Weight  2.054974  high\n",
       "10                 ppi  1.958312  high"
      ]
     },
     "execution_count": 34,
     "metadata": {},
     "output_type": "execute_result"
    }
   ],
   "source": [
    "# Menampilkan kolom yang berdistribusi skewed\n",
    "pd.DataFrame(data=data_skewed, columns=['skewed_distribution', 'skewness', 'rate'])"
   ]
  },
  {
   "cell_type": "markdown",
   "metadata": {},
   "source": [
    "setelah dicek  telihat semua variabel di dataset memiliki outlier sehingga dataset distribusinya miring atau skew<br>\n",
    "setelah dilakukan pengecekan diketahui bahwa dataset memiliki skew yang tinggi. <br>\n",
    "maka dari itu dilakukan handling outlier pada datataset <br>\n",
    "\n",
    "- outlier handling akan dilakukan di dalam pipeline bersama dengan feature engineer lainnya <br>\n",
    "- outlier handling yang dilakukan adalah censoring yang disebut juga winsorization atau capping yang berarti membatasi nilai maksimum dan minimum <br>\n",
    "- karena datasetnya distribusi miring maka capping oulier dilakukan menggunakan metode IQR atau Interquartile range<br>\n",
    "  (nilai fold atau jumlah IQR dari median ditetapkan menjadi 1.5. yang berarti nilai yang lebih dari 1.5 kali IQR dari median akan dicapping)"
   ]
  },
  {
   "cell_type": "code",
   "execution_count": 35,
   "metadata": {},
   "outputs": [],
   "source": [
    "# Membagi fitur pelatihan dan pengujian ke dalam kolom numerik dan kategorikal\n",
    "\n",
    "# Mengambil kolom kategorikal dari X_train_capped\n",
    "X_train_cat = X_train[category_columns]  \n",
    "\n",
    "# Mengambil kolom numerik dari X_train_capped\n",
    "X_train_num = X_train[numeric_columns]  "
   ]
  },
  {
   "cell_type": "markdown",
   "metadata": {},
   "source": [
    "## D. Feature Selection"
   ]
  },
  {
   "cell_type": "markdown",
   "metadata": {},
   "source": [
    "menseleksi fitur-fitur mana yang kira-kira memiliki relasi dengan variabel price<br>\n",
    "seleksi dilakukan dengan menentuhkan fitur yang penting atau memiliki pengaruh besar pada target price yang akan diprediksi<br>\n",
    "seleksi dilakukan pada kolom numerik dan kategori untuk itu data dipisah menjadi kolom kategorikal dan kolom numerikal \n",
    "- seleksi dilakukan dengan cara menghitung nilai coefisien korelasi\n",
    "- seleksi pada kolom kategorikal menggunakan metode kendall <br>\n",
    "  (dengan nilai coefisien korelasi lebih dari 0.1 berarti menunjukan variabel itu penting)\n",
    "- seleksi pada kolom numerical menggunakan metode sperman. metode sperman dipakai karena distribusi data skew <br>\n",
    "  (dengan variabel yang memiliki nilai coefisien korelasi lebih dari 0.1 berarti menunjukan variabel itu penting)"
   ]
  },
  {
   "cell_type": "code",
   "execution_count": 36,
   "metadata": {},
   "outputs": [
    {
     "data": {
      "text/html": [
       "<div>\n",
       "<style scoped>\n",
       "    .dataframe tbody tr th:only-of-type {\n",
       "        vertical-align: middle;\n",
       "    }\n",
       "\n",
       "    .dataframe tbody tr th {\n",
       "        vertical-align: top;\n",
       "    }\n",
       "\n",
       "    .dataframe thead th {\n",
       "        text-align: right;\n",
       "    }\n",
       "</style>\n",
       "<table border=\"1\" class=\"dataframe\">\n",
       "  <thead>\n",
       "    <tr style=\"text-align: right;\">\n",
       "      <th></th>\n",
       "      <th>Nama Kolom</th>\n",
       "      <th>Koefisien Korelasi</th>\n",
       "      <th>Nilai P</th>\n",
       "      <th>Korelasi</th>\n",
       "    </tr>\n",
       "  </thead>\n",
       "  <tbody>\n",
       "    <tr>\n",
       "      <th>0</th>\n",
       "      <td>Company</td>\n",
       "      <td>0.177105</td>\n",
       "      <td>1.820468e-14</td>\n",
       "      <td>Signifikan</td>\n",
       "    </tr>\n",
       "    <tr>\n",
       "      <th>1</th>\n",
       "      <td>TypeName</td>\n",
       "      <td>0.001684</td>\n",
       "      <td>9.450725e-01</td>\n",
       "      <td>Tidak Signifikan</td>\n",
       "    </tr>\n",
       "    <tr>\n",
       "      <th>2</th>\n",
       "      <td>screen_size</td>\n",
       "      <td>-0.021807</td>\n",
       "      <td>3.890909e-01</td>\n",
       "      <td>Tidak Signifikan</td>\n",
       "    </tr>\n",
       "    <tr>\n",
       "      <th>3</th>\n",
       "      <td>cpu_brand</td>\n",
       "      <td>0.191116</td>\n",
       "      <td>3.732444e-13</td>\n",
       "      <td>Signifikan</td>\n",
       "    </tr>\n",
       "    <tr>\n",
       "      <th>4</th>\n",
       "      <td>memory_type</td>\n",
       "      <td>0.380608</td>\n",
       "      <td>1.338681e-53</td>\n",
       "      <td>Signifikan</td>\n",
       "    </tr>\n",
       "    <tr>\n",
       "      <th>5</th>\n",
       "      <td>gpu_brand</td>\n",
       "      <td>0.298432</td>\n",
       "      <td>2.589104e-32</td>\n",
       "      <td>Signifikan</td>\n",
       "    </tr>\n",
       "    <tr>\n",
       "      <th>6</th>\n",
       "      <td>OpSys</td>\n",
       "      <td>0.150105</td>\n",
       "      <td>7.545661e-09</td>\n",
       "      <td>Signifikan</td>\n",
       "    </tr>\n",
       "    <tr>\n",
       "      <th>7</th>\n",
       "      <td>cpu_performance</td>\n",
       "      <td>-0.435349</td>\n",
       "      <td>3.531175e-63</td>\n",
       "      <td>Signifikan</td>\n",
       "    </tr>\n",
       "  </tbody>\n",
       "</table>\n",
       "</div>"
      ],
      "text/plain": [
       "        Nama Kolom  Koefisien Korelasi       Nilai P          Korelasi\n",
       "0          Company            0.177105  1.820468e-14        Signifikan\n",
       "1         TypeName            0.001684  9.450725e-01  Tidak Signifikan\n",
       "2      screen_size           -0.021807  3.890909e-01  Tidak Signifikan\n",
       "3        cpu_brand            0.191116  3.732444e-13        Signifikan\n",
       "4      memory_type            0.380608  1.338681e-53        Signifikan\n",
       "5        gpu_brand            0.298432  2.589104e-32        Signifikan\n",
       "6            OpSys            0.150105  7.545661e-09        Signifikan\n",
       "7  cpu_performance           -0.435349  3.531175e-63        Signifikan"
      ]
     },
     "execution_count": 36,
     "metadata": {},
     "output_type": "execute_result"
    }
   ],
   "source": [
    "# Inisialisasi list untuk menyimpan hasil\n",
    "interpretation = []  # List untuk menyimpan interpretasi (signifikan atau tidak)\n",
    "cols = []  # List untuk menyimpan nama kolom\n",
    "corr = []  # List untuk menyimpan koefisien korelasi\n",
    "selected_cat_cols = []  # List untuk menyimpan kolom kategorikal yang signifikan\n",
    "p_values = []  # List untuk menyimpan nilai p\n",
    "\n",
    "# Ambang batas untuk signifikansi koefisien korelasi\n",
    "correlation_threshold = 0.1\n",
    "\n",
    "# Iterasi melalui kolom-kolom kategorikal dan lakukan analisis korelasi Kendall's Tau\n",
    "for col in X_train_cat.columns:\n",
    "    corr_coef, p_value = kendalltau(X_train_cat[col], y_train)  # Menghitung koefisien korelasi menggunakan Kendall Tau\n",
    "    \n",
    "    cols.append(col)  # Menambahkan nama kolom ke dalam list\n",
    "    corr.append(corr_coef)\n",
    "    p_values.append(p_value)\n",
    "    \n",
    "    # Menentukan signifikansi berdasarkan nilai absolut koefisien korelasi\n",
    "    if abs(corr_coef) > correlation_threshold:\n",
    "        interpretation.append('Signifikan')  # Menandai kolom sebagai signifikan\n",
    "        selected_cat_cols.append(col)  # Menambahkan kolom signifikan ke dalam list\n",
    "    else:\n",
    "        interpretation.append('Tidak Signifikan')  # Menandai kolom sebagai tidak signifikan\n",
    "\n",
    "# Membuat DataFrame untuk menampilkan hasil\n",
    "pd.DataFrame({\n",
    "    'Nama Kolom': cols,\n",
    "    'Koefisien Korelasi': corr,\n",
    "    'Nilai P': p_values,\n",
    "    'Korelasi': interpretation\n",
    "})\n"
   ]
  },
  {
   "cell_type": "code",
   "execution_count": 37,
   "metadata": {},
   "outputs": [
    {
     "data": {
      "text/html": [
       "<div>\n",
       "<style scoped>\n",
       "    .dataframe tbody tr th:only-of-type {\n",
       "        vertical-align: middle;\n",
       "    }\n",
       "\n",
       "    .dataframe tbody tr th {\n",
       "        vertical-align: top;\n",
       "    }\n",
       "\n",
       "    .dataframe thead th {\n",
       "        text-align: right;\n",
       "    }\n",
       "</style>\n",
       "<table border=\"1\" class=\"dataframe\">\n",
       "  <thead>\n",
       "    <tr style=\"text-align: right;\">\n",
       "      <th></th>\n",
       "      <th>Nama Kolom</th>\n",
       "      <th>Koefisien Korelasi</th>\n",
       "      <th>Nilai P</th>\n",
       "      <th>Korelasi</th>\n",
       "    </tr>\n",
       "  </thead>\n",
       "  <tbody>\n",
       "    <tr>\n",
       "      <th>0</th>\n",
       "      <td>Inches</td>\n",
       "      <td>-0.023819</td>\n",
       "      <td>4.596370e-01</td>\n",
       "      <td>Tidak Signifikan</td>\n",
       "    </tr>\n",
       "    <tr>\n",
       "      <th>1</th>\n",
       "      <td>resolution_width</td>\n",
       "      <td>0.631981</td>\n",
       "      <td>7.699864e-109</td>\n",
       "      <td>Signifikan</td>\n",
       "    </tr>\n",
       "    <tr>\n",
       "      <th>2</th>\n",
       "      <td>resolution_height</td>\n",
       "      <td>0.623661</td>\n",
       "      <td>3.177040e-105</td>\n",
       "      <td>Signifikan</td>\n",
       "    </tr>\n",
       "    <tr>\n",
       "      <th>3</th>\n",
       "      <td>ips_panel</td>\n",
       "      <td>0.282661</td>\n",
       "      <td>3.330732e-19</td>\n",
       "      <td>Signifikan</td>\n",
       "    </tr>\n",
       "    <tr>\n",
       "      <th>4</th>\n",
       "      <td>touchscreen</td>\n",
       "      <td>0.195179</td>\n",
       "      <td>9.515265e-10</td>\n",
       "      <td>Signifikan</td>\n",
       "    </tr>\n",
       "    <tr>\n",
       "      <th>5</th>\n",
       "      <td>cpu_speed</td>\n",
       "      <td>0.522439</td>\n",
       "      <td>9.263540e-69</td>\n",
       "      <td>Signifikan</td>\n",
       "    </tr>\n",
       "    <tr>\n",
       "      <th>6</th>\n",
       "      <td>Ram</td>\n",
       "      <td>0.769872</td>\n",
       "      <td>3.166718e-190</td>\n",
       "      <td>Signifikan</td>\n",
       "    </tr>\n",
       "    <tr>\n",
       "      <th>7</th>\n",
       "      <td>primary_storage</td>\n",
       "      <td>0.017923</td>\n",
       "      <td>5.779609e-01</td>\n",
       "      <td>Tidak Signifikan</td>\n",
       "    </tr>\n",
       "    <tr>\n",
       "      <th>8</th>\n",
       "      <td>secondary_storage</td>\n",
       "      <td>0.337718</td>\n",
       "      <td>3.374116e-27</td>\n",
       "      <td>Signifikan</td>\n",
       "    </tr>\n",
       "    <tr>\n",
       "      <th>9</th>\n",
       "      <td>Weight</td>\n",
       "      <td>-0.037031</td>\n",
       "      <td>2.502007e-01</td>\n",
       "      <td>Tidak Signifikan</td>\n",
       "    </tr>\n",
       "    <tr>\n",
       "      <th>10</th>\n",
       "      <td>ppi</td>\n",
       "      <td>0.501422</td>\n",
       "      <td>1.229755e-62</td>\n",
       "      <td>Signifikan</td>\n",
       "    </tr>\n",
       "  </tbody>\n",
       "</table>\n",
       "</div>"
      ],
      "text/plain": [
       "           Nama Kolom  Koefisien Korelasi        Nilai P          Korelasi\n",
       "0              Inches           -0.023819   4.596370e-01  Tidak Signifikan\n",
       "1    resolution_width            0.631981  7.699864e-109        Signifikan\n",
       "2   resolution_height            0.623661  3.177040e-105        Signifikan\n",
       "3           ips_panel            0.282661   3.330732e-19        Signifikan\n",
       "4         touchscreen            0.195179   9.515265e-10        Signifikan\n",
       "5           cpu_speed            0.522439   9.263540e-69        Signifikan\n",
       "6                 Ram            0.769872  3.166718e-190        Signifikan\n",
       "7     primary_storage            0.017923   5.779609e-01  Tidak Signifikan\n",
       "8   secondary_storage            0.337718   3.374116e-27        Signifikan\n",
       "9              Weight           -0.037031   2.502007e-01  Tidak Signifikan\n",
       "10                ppi            0.501422   1.229755e-62        Signifikan"
      ]
     },
     "execution_count": 37,
     "metadata": {},
     "output_type": "execute_result"
    }
   ],
   "source": [
    "# Inisialisasi list untuk menyimpan hasil\n",
    "interpretation = []  # List untuk menyimpan interpretasi (signifikan atau tidak)\n",
    "cols = []  # List untuk menyimpan nama kolom\n",
    "corr = []  # List untuk menyimpan koefisien korelasi\n",
    "selected_num_cols = []  # List untuk menyimpan kolom numerik yang signifikan\n",
    "p_values = []  # List untuk menyimpan nilai p\n",
    "\n",
    "# Ambang batas untuk signifikansi koefisien korelasi\n",
    "correlation_threshold = 0.1\n",
    "\n",
    "for col in X_train_num.columns:\n",
    "    # Selalu gunakan korelasi Spearman untuk data yang miring\n",
    "    corr_coef, p_value = spearmanr(X_train_num[col], y_train)  # Menghitung koefisien korelasi menggunakan Spearman\n",
    "    corr.append(corr_coef)  # Menambahkan koefisien korelasi ke dalam list\n",
    "    cols.append(col)  # Menambahkan nama kolom ke dalam list\n",
    "    p_values.append(p_value)\n",
    "    \n",
    "    # Memeriksa koefisien korelasi untuk signifikansi\n",
    "    if abs(corr_coef) > correlation_threshold:\n",
    "        interpretation.append('Signifikan')  # Menandai kolom sebagai signifikan\n",
    "        selected_num_cols.append(col)  # Menambahkan kolom signifikan ke dalam list\n",
    "    else:\n",
    "        interpretation.append('Tidak Signifikan')  # Menandai kolom sebagai tidak signifikan\n",
    "\n",
    "# Membuat DataFrame untuk menampilkan hasil\n",
    "pd.DataFrame({\n",
    "    'Nama Kolom': cols,\n",
    "    'Koefisien Korelasi': corr,\n",
    "    'Nilai P': p_values,\n",
    "    'Korelasi': interpretation\n",
    "})\n"
   ]
  },
  {
   "cell_type": "markdown",
   "metadata": {},
   "source": [
    "- sesuai dengan fitur seleksi variabel yang memiliki  nilai coefisien korelasi dibawah 0.1 dianggap tidak penting dan tidak digunakan pada proses lebih lanjut\n",
    "- berdasarkan hasil fitur seleksi didapatkan variabel penting yang memiliki pengaruh terhadapa price\n",
    "- variabel ini adalah variabel kategorikal yaitu Company, cpu_brand, memory_type, gpu_brand, OpSys, cpu_performance\n",
    "- dan variabel numerikal yaitu resolution_width, resolution_height, ips_panel, touchscreen, cpu_speed, Ram, secondary_storage, ppi\n",
    "- fitur-fitur penting ini yang akan diproses lebih lanjut di dalam pipeline\n"
   ]
  },
  {
   "cell_type": "code",
   "execution_count": 38,
   "metadata": {},
   "outputs": [
    {
     "name": "stdout",
     "output_type": "stream",
     "text": [
      "['Company', 'cpu_brand', 'memory_type', 'gpu_brand', 'OpSys', 'cpu_performance']\n",
      "['resolution_width', 'resolution_height', 'ips_panel', 'touchscreen', 'cpu_speed', 'Ram', 'secondary_storage', 'ppi']\n"
     ]
    }
   ],
   "source": [
    "# Show selected columns based on the correlation test\n",
    "print(selected_cat_cols)\n",
    "print(selected_num_cols)"
   ]
  },
  {
   "cell_type": "code",
   "execution_count": 39,
   "metadata": {},
   "outputs": [],
   "source": [
    "# Memperbarui kolom-kolom kategorikal dan numerik berdasarkan yang telah dipilih\n",
    "\n",
    "# Memilih kolom kategorikal yang signifikan untuk data pelatihan\n",
    "X_train_categorical = X_train_cat[selected_cat_cols]  \n",
    "# Memilih kolom numerik yang signifikan untuk data pelatihan\n",
    "X_train_numerical = X_train_num[selected_num_cols]  \n"
   ]
  },
  {
   "cell_type": "code",
   "execution_count": 40,
   "metadata": {},
   "outputs": [
    {
     "data": {
      "text/html": [
       "<div>\n",
       "<style scoped>\n",
       "    .dataframe tbody tr th:only-of-type {\n",
       "        vertical-align: middle;\n",
       "    }\n",
       "\n",
       "    .dataframe tbody tr th {\n",
       "        vertical-align: top;\n",
       "    }\n",
       "\n",
       "    .dataframe thead th {\n",
       "        text-align: right;\n",
       "    }\n",
       "</style>\n",
       "<table border=\"1\" class=\"dataframe\">\n",
       "  <thead>\n",
       "    <tr style=\"text-align: right;\">\n",
       "      <th></th>\n",
       "      <th>Company</th>\n",
       "      <th>cpu_brand</th>\n",
       "      <th>memory_type</th>\n",
       "      <th>gpu_brand</th>\n",
       "      <th>OpSys</th>\n",
       "      <th>cpu_performance</th>\n",
       "    </tr>\n",
       "  </thead>\n",
       "  <tbody>\n",
       "    <tr>\n",
       "      <th>395</th>\n",
       "      <td>Acer</td>\n",
       "      <td>Intel</td>\n",
       "      <td>HDD</td>\n",
       "      <td>Nvidia</td>\n",
       "      <td>linux</td>\n",
       "      <td>high end</td>\n",
       "    </tr>\n",
       "    <tr>\n",
       "      <th>178</th>\n",
       "      <td>Huawei</td>\n",
       "      <td>Intel</td>\n",
       "      <td>SSD</td>\n",
       "      <td>Intel</td>\n",
       "      <td>windows</td>\n",
       "      <td>high end</td>\n",
       "    </tr>\n",
       "    <tr>\n",
       "      <th>1106</th>\n",
       "      <td>Asus</td>\n",
       "      <td>Intel</td>\n",
       "      <td>HDD</td>\n",
       "      <td>Intel</td>\n",
       "      <td>windows</td>\n",
       "      <td>low end</td>\n",
       "    </tr>\n",
       "    <tr>\n",
       "      <th>320</th>\n",
       "      <td>Dell</td>\n",
       "      <td>Intel</td>\n",
       "      <td>HDD</td>\n",
       "      <td>Intel</td>\n",
       "      <td>windows</td>\n",
       "      <td>high end</td>\n",
       "    </tr>\n",
       "    <tr>\n",
       "      <th>386</th>\n",
       "      <td>Asus</td>\n",
       "      <td>Intel</td>\n",
       "      <td>HDD</td>\n",
       "      <td>Intel</td>\n",
       "      <td>windows</td>\n",
       "      <td>low end</td>\n",
       "    </tr>\n",
       "    <tr>\n",
       "      <th>...</th>\n",
       "      <td>...</td>\n",
       "      <td>...</td>\n",
       "      <td>...</td>\n",
       "      <td>...</td>\n",
       "      <td>...</td>\n",
       "      <td>...</td>\n",
       "    </tr>\n",
       "    <tr>\n",
       "      <th>577</th>\n",
       "      <td>MSI</td>\n",
       "      <td>Intel</td>\n",
       "      <td>SSD</td>\n",
       "      <td>Nvidia</td>\n",
       "      <td>windows</td>\n",
       "      <td>high end</td>\n",
       "    </tr>\n",
       "    <tr>\n",
       "      <th>1020</th>\n",
       "      <td>Acer</td>\n",
       "      <td>Intel</td>\n",
       "      <td>HDD</td>\n",
       "      <td>Intel</td>\n",
       "      <td>windows</td>\n",
       "      <td>low end</td>\n",
       "    </tr>\n",
       "    <tr>\n",
       "      <th>318</th>\n",
       "      <td>Asus</td>\n",
       "      <td>AMD</td>\n",
       "      <td>Hybrid</td>\n",
       "      <td>AMD</td>\n",
       "      <td>windows</td>\n",
       "      <td>medium end</td>\n",
       "    </tr>\n",
       "    <tr>\n",
       "      <th>709</th>\n",
       "      <td>Acer</td>\n",
       "      <td>Intel</td>\n",
       "      <td>Hybrid</td>\n",
       "      <td>Nvidia</td>\n",
       "      <td>windows</td>\n",
       "      <td>high end</td>\n",
       "    </tr>\n",
       "    <tr>\n",
       "      <th>491</th>\n",
       "      <td>Lenovo</td>\n",
       "      <td>Intel</td>\n",
       "      <td>HDD</td>\n",
       "      <td>Intel</td>\n",
       "      <td>windows</td>\n",
       "      <td>low end</td>\n",
       "    </tr>\n",
       "  </tbody>\n",
       "</table>\n",
       "<p>966 rows × 6 columns</p>\n",
       "</div>"
      ],
      "text/plain": [
       "     Company cpu_brand memory_type gpu_brand    OpSys cpu_performance\n",
       "395     Acer     Intel         HDD    Nvidia    linux        high end\n",
       "178   Huawei     Intel         SSD     Intel  windows        high end\n",
       "1106    Asus     Intel         HDD     Intel  windows         low end\n",
       "320     Dell     Intel         HDD     Intel  windows        high end\n",
       "386     Asus     Intel         HDD     Intel  windows         low end\n",
       "...      ...       ...         ...       ...      ...             ...\n",
       "577      MSI     Intel         SSD    Nvidia  windows        high end\n",
       "1020    Acer     Intel         HDD     Intel  windows         low end\n",
       "318     Asus       AMD      Hybrid       AMD  windows      medium end\n",
       "709     Acer     Intel      Hybrid    Nvidia  windows        high end\n",
       "491   Lenovo     Intel         HDD     Intel  windows         low end\n",
       "\n",
       "[966 rows x 6 columns]"
      ]
     },
     "execution_count": 40,
     "metadata": {},
     "output_type": "execute_result"
    }
   ],
   "source": [
    "X_train_categorical"
   ]
  },
  {
   "cell_type": "code",
   "execution_count": 41,
   "metadata": {},
   "outputs": [
    {
     "data": {
      "text/html": [
       "<div>\n",
       "<style scoped>\n",
       "    .dataframe tbody tr th:only-of-type {\n",
       "        vertical-align: middle;\n",
       "    }\n",
       "\n",
       "    .dataframe tbody tr th {\n",
       "        vertical-align: top;\n",
       "    }\n",
       "\n",
       "    .dataframe thead th {\n",
       "        text-align: right;\n",
       "    }\n",
       "</style>\n",
       "<table border=\"1\" class=\"dataframe\">\n",
       "  <thead>\n",
       "    <tr style=\"text-align: right;\">\n",
       "      <th></th>\n",
       "      <th>resolution_width</th>\n",
       "      <th>resolution_height</th>\n",
       "      <th>ips_panel</th>\n",
       "      <th>touchscreen</th>\n",
       "      <th>cpu_speed</th>\n",
       "      <th>Ram</th>\n",
       "      <th>secondary_storage</th>\n",
       "      <th>ppi</th>\n",
       "    </tr>\n",
       "  </thead>\n",
       "  <tbody>\n",
       "    <tr>\n",
       "      <th>395</th>\n",
       "      <td>1920</td>\n",
       "      <td>1080</td>\n",
       "      <td>0</td>\n",
       "      <td>0</td>\n",
       "      <td>2.5</td>\n",
       "      <td>8</td>\n",
       "      <td>0</td>\n",
       "      <td>141</td>\n",
       "    </tr>\n",
       "    <tr>\n",
       "      <th>178</th>\n",
       "      <td>2160</td>\n",
       "      <td>1440</td>\n",
       "      <td>1</td>\n",
       "      <td>0</td>\n",
       "      <td>2.7</td>\n",
       "      <td>8</td>\n",
       "      <td>0</td>\n",
       "      <td>200</td>\n",
       "    </tr>\n",
       "    <tr>\n",
       "      <th>1106</th>\n",
       "      <td>1366</td>\n",
       "      <td>768</td>\n",
       "      <td>0</td>\n",
       "      <td>0</td>\n",
       "      <td>1.6</td>\n",
       "      <td>4</td>\n",
       "      <td>0</td>\n",
       "      <td>100</td>\n",
       "    </tr>\n",
       "    <tr>\n",
       "      <th>320</th>\n",
       "      <td>1366</td>\n",
       "      <td>768</td>\n",
       "      <td>0</td>\n",
       "      <td>1</td>\n",
       "      <td>2.5</td>\n",
       "      <td>8</td>\n",
       "      <td>0</td>\n",
       "      <td>100</td>\n",
       "    </tr>\n",
       "    <tr>\n",
       "      <th>386</th>\n",
       "      <td>1366</td>\n",
       "      <td>768</td>\n",
       "      <td>0</td>\n",
       "      <td>0</td>\n",
       "      <td>1.1</td>\n",
       "      <td>4</td>\n",
       "      <td>0</td>\n",
       "      <td>100</td>\n",
       "    </tr>\n",
       "    <tr>\n",
       "      <th>...</th>\n",
       "      <td>...</td>\n",
       "      <td>...</td>\n",
       "      <td>...</td>\n",
       "      <td>...</td>\n",
       "      <td>...</td>\n",
       "      <td>...</td>\n",
       "      <td>...</td>\n",
       "      <td>...</td>\n",
       "    </tr>\n",
       "    <tr>\n",
       "      <th>577</th>\n",
       "      <td>1920</td>\n",
       "      <td>1080</td>\n",
       "      <td>0</td>\n",
       "      <td>0</td>\n",
       "      <td>2.8</td>\n",
       "      <td>8</td>\n",
       "      <td>0</td>\n",
       "      <td>127</td>\n",
       "    </tr>\n",
       "    <tr>\n",
       "      <th>1020</th>\n",
       "      <td>1366</td>\n",
       "      <td>768</td>\n",
       "      <td>0</td>\n",
       "      <td>0</td>\n",
       "      <td>2.0</td>\n",
       "      <td>4</td>\n",
       "      <td>0</td>\n",
       "      <td>100</td>\n",
       "    </tr>\n",
       "    <tr>\n",
       "      <th>318</th>\n",
       "      <td>1920</td>\n",
       "      <td>1080</td>\n",
       "      <td>0</td>\n",
       "      <td>0</td>\n",
       "      <td>3.2</td>\n",
       "      <td>8</td>\n",
       "      <td>1024</td>\n",
       "      <td>127</td>\n",
       "    </tr>\n",
       "    <tr>\n",
       "      <th>709</th>\n",
       "      <td>1920</td>\n",
       "      <td>1080</td>\n",
       "      <td>1</td>\n",
       "      <td>0</td>\n",
       "      <td>2.8</td>\n",
       "      <td>16</td>\n",
       "      <td>1024</td>\n",
       "      <td>127</td>\n",
       "    </tr>\n",
       "    <tr>\n",
       "      <th>491</th>\n",
       "      <td>1366</td>\n",
       "      <td>768</td>\n",
       "      <td>0</td>\n",
       "      <td>0</td>\n",
       "      <td>1.1</td>\n",
       "      <td>4</td>\n",
       "      <td>0</td>\n",
       "      <td>112</td>\n",
       "    </tr>\n",
       "  </tbody>\n",
       "</table>\n",
       "<p>966 rows × 8 columns</p>\n",
       "</div>"
      ],
      "text/plain": [
       "      resolution_width  resolution_height  ips_panel  touchscreen  cpu_speed  \\\n",
       "395               1920               1080          0            0        2.5   \n",
       "178               2160               1440          1            0        2.7   \n",
       "1106              1366                768          0            0        1.6   \n",
       "320               1366                768          0            1        2.5   \n",
       "386               1366                768          0            0        1.1   \n",
       "...                ...                ...        ...          ...        ...   \n",
       "577               1920               1080          0            0        2.8   \n",
       "1020              1366                768          0            0        2.0   \n",
       "318               1920               1080          0            0        3.2   \n",
       "709               1920               1080          1            0        2.8   \n",
       "491               1366                768          0            0        1.1   \n",
       "\n",
       "      Ram  secondary_storage  ppi  \n",
       "395     8                  0  141  \n",
       "178     8                  0  200  \n",
       "1106    4                  0  100  \n",
       "320     8                  0  100  \n",
       "386     4                  0  100  \n",
       "...   ...                ...  ...  \n",
       "577     8                  0  127  \n",
       "1020    4                  0  100  \n",
       "318     8               1024  127  \n",
       "709    16               1024  127  \n",
       "491     4                  0  112  \n",
       "\n",
       "[966 rows x 8 columns]"
      ]
     },
     "execution_count": 41,
     "metadata": {},
     "output_type": "execute_result"
    }
   ],
   "source": [
    "X_train_numerical"
   ]
  },
  {
   "cell_type": "markdown",
   "metadata": {},
   "source": [
    "## 5.  Pipelines"
   ]
  },
  {
   "cell_type": "markdown",
   "metadata": {},
   "source": [
    "pada milestone 2 sebagian struktur feature engineering dilakukan di dalam pipeline dengan bantuan column transformer"
   ]
  },
  {
   "cell_type": "markdown",
   "metadata": {},
   "source": [
    "ColumnTransformer sebagai fitur serbaguna yang memungkinkan untuk menerapkan teknik prapemrosesan dan transformasi yang berbeda ke subset kolom yang berbeda dalam dataset di dalam pipeline. Ini sangat berguna saat menangani dataset yang mengandung campuran fitur numerik dan kategorikal, yang masing-masing memerlukan langkah prapemrosesan yang berbeda. ColumnTransformer memungkinkan untuk mendefinisikan langkah prapemrosesan mana yang harus diterapkan pada subset kolom tertentu, memastikan bahwa setiap fitur diproses dengan tepat sebelum digunakan oleh model."
   ]
  },
  {
   "cell_type": "markdown",
   "metadata": {},
   "source": [
    "Pipeline mendefinisikan rangkaian transformasi yang diterapkan pada dataset  secara berurutan, di mana langkah terakhir dalam rantai adalah model pembelajaran mesin seperti regressor. <br>\n",
    "alasan digunakannya Pipeline untuk mendefinisikan model:\n",
    "\n",
    "- memungkinkan  untuk menyimpan semua definisi dan komponen model  di satu tempat, yang membuatnya lebih mudah untuk menggunakan kembali model atau mengubahnya di masa depan.\n",
    "- Pipeline secara otomatis melakukan operasi yang relevan ketika diterapkan pada set pelatihan dan pengujian. Misalnya, dalam fase pelatihan, ia memanggil metode .fit_transform() dari semua transformer, sementara dalam fase prediksi/pengujian, ia memanggil metode .transform() dan .predict() hanya dari algoritma pemodelan.\n",
    "- Dengan menggunakan pipeline untuk merangkai semua transformasi dalam prosedur, dapat dengan  memahami alur kerja dalam satu pandangan. Dengan pengaturan ini, akan lebih mudah untuk melakukan modifikasi dan menemukan potensi kesalahan di awal."
   ]
  },
  {
   "cell_type": "markdown",
   "metadata": {},
   "source": [
    "cara kerja pipeline : \n",
    "- membuat transformer yang memisah numeric dan categorical feature.\n",
    "- semua feature hasil feature selection dimasukan ke transformer\n",
    "- numeric_feature diolah di pipeline oleh numeric transformer menggunakan winsorizer metode capping iqr\n",
    "- setelah itu dilakukan scaling menggunakan RobustScaler \n",
    "- alasan digunakannya RobustScaler karena dataset memiliki banyak outlier yang tinggi\n",
    "- selanjutnya categorical_feature diolah oleh categorical_transformer dengan melakukan encoding dengan bantuan OneHotEncoder\n",
    "- alasan digunakannya OneHotEncoder karena variabel category yang ada di categorical_transformer memiliki kardinalitas yang relatif sedikit\n",
    "- kemudian untuk variabel category cpu_performance karena memiliki nilai ordingal untuk itu dilakukan encoding menggunakan OrdinalEncoder\n",
    "- lalu untuk variabel numeric ips_panel, touchscreen, secondary_storage, resolution_width ,resolution_height yang memiliki nilai biner dan kardinalitasnya rendah akan dilakukan scaling menggunakan MinMaxScaler\n",
    "- alasan digunakannya MinMaxScaler karena rangenya akan tetap di 0 dan 1 sehingga tidak akan berpengaruh pada nilai biner dan bagus dipakai pada variabel yang unique value nya memili variance yg sedikit\n",
    "- semua transformer ini diolah oleh processor dan akan dilatih nanti dengan model\n",
    "\n",
    "\n"
   ]
  },
  {
   "cell_type": "code",
   "execution_count": 42,
   "metadata": {},
   "outputs": [],
   "source": [
    "# Definisikan fitur numerik\n",
    "numeric_features = ['cpu_speed', 'Ram', 'ppi']\n",
    "\n",
    "# Membuat transformer untuk fitur numerik dengan pipeline yang mencakup Winsorizer dan RobustScaler\n",
    "numeric_transformer = Pipeline(\n",
    "    steps=[(\"outlier\", Winsorizer(capping_method='iqr', tail='both', fold=1.5)), (\"scaler\", RobustScaler())]\n",
    ")\n",
    "\n",
    "# Definisikan fitur kategorikal\n",
    "categorical_features = ['Company', 'cpu_brand', 'memory_type', 'gpu_brand', 'OpSys']\n",
    "\n",
    "# Membuat transformer untuk fitur kategorikal dengan OneHotEncoder\n",
    "categorical_transformer = OneHotEncoder(handle_unknown=\"ignore\")\n",
    "\n",
    "# Definisikan fitur ordinal\n",
    "ordinal_features = ['cpu_performance']\n",
    "\n",
    "# Membuat transformer untuk fitur ordinal dengan OrdinalEncoder\n",
    "ord_transformer = OrdinalEncoder()\n",
    "\n",
    "# Definisikan fitur yang akan di-transformasi dengan MinMaxScaler\n",
    "minmax_features = ['ips_panel', 'touchscreen','secondary_storage','resolution_width','resolution_height']\n",
    "\n",
    "# Membuat transformer untuk fitur dengan MinMaxScaler\n",
    "minmax_transformer = MinMaxScaler()\n",
    "\n",
    "# Membuat ColumnTransformer untuk menggabungkan semua transformer di atas\n",
    "preprocessor = ColumnTransformer(\n",
    "    transformers=[\n",
    "        ('num', numeric_transformer, numeric_features),  # Transformasi fitur numerik\n",
    "        ('cat', categorical_transformer, categorical_features),  # Transformasi fitur kategorikal\n",
    "        ('ord', ord_transformer, ordinal_features),  # Transformasi fitur ordinal\n",
    "        ('minmax', minmax_transformer, minmax_features)  # Transformasi fitur dengan MinMaxScaler\n",
    "    ]\n",
    ")\n"
   ]
  },
  {
   "cell_type": "markdown",
   "metadata": {},
   "source": [
    "## 6. Model Definition"
   ]
  },
  {
   "cell_type": "markdown",
   "metadata": {},
   "source": [
    "- melakukan definisi model LinearRegression, DecisionTreeRegressor, RandomForestRegressor, SVR,KNeighborsRegressor dan XGBRegressor\n",
    "- model-model ini dimasukan ke pipeline sebagai reg1,reg2 sampai reg6\n",
    "- setiap model memiliki pipelinenya masing-masing\n",
    "- data hasil preprocessor dilatih satu-persatu oleh pipeline model secara berurutan\n",
    "- hasil pelatihan akan dievaluasi kinerjanya oleh crossvalidation nanti"
   ]
  },
  {
   "cell_type": "code",
   "execution_count": 43,
   "metadata": {},
   "outputs": [],
   "source": [
    "# Membuat pipeline untuk regresi linear\n",
    "reg1 = Pipeline([\n",
    "    (\"preprocessor\", preprocessor),  # Langkah pra-pemrosesan\n",
    "    (\"regressor_linear\", LinearRegression())  # Model regresi linear\n",
    "])\n",
    "\n",
    "# Membuat pipeline untuk regresi pohon keputusan\n",
    "reg2 = Pipeline([\n",
    "    (\"preprocessor\", preprocessor),  # Langkah pra-pemrosesan\n",
    "    (\"regressor_dtree\", DecisionTreeRegressor())  # Model regresi pohon keputusan\n",
    "])\n",
    "\n",
    "# Membuat pipeline untuk regresi hutan acak\n",
    "reg3 = Pipeline([\n",
    "    (\"preprocessor\", preprocessor),  # Langkah pra-pemrosesan\n",
    "    (\"regressor_rforest\", RandomForestRegressor())  # Model regresi hutan acak\n",
    "])\n",
    "\n",
    "# Membuat pipeline untuk regresi support vector\n",
    "reg4 = Pipeline([\n",
    "    (\"preprocessor\", preprocessor),  # Langkah pra-pemrosesan\n",
    "    (\"regressor_svr\", SVR())  # Model regresi support vector\n",
    "])\n",
    "\n",
    "# Membuat pipeline untuk regresi k-nearest neighbors\n",
    "reg5 = Pipeline([\n",
    "    (\"preprocessor\", preprocessor),  # Langkah pra-pemrosesan\n",
    "    (\"regressor_knn\", KNeighborsRegressor())  # Model regresi k-nearest neighbors\n",
    "])\n",
    "\n",
    "# Membuat pipeline untuk regresi XGBoost\n",
    "reg6 = Pipeline([\n",
    "    (\"preprocessor\", preprocessor),  # Langkah pra-pemrosesan\n",
    "    (\"regressor_xg\", XGBRegressor())  # Model regresi XGBoost\n",
    "])\n"
   ]
  },
  {
   "cell_type": "markdown",
   "metadata": {},
   "source": [
    "## 7. Model Training"
   ]
  },
  {
   "cell_type": "markdown",
   "metadata": {},
   "source": [
    "6 model lalu dilakukan pelatihan pada X_train dan y_train"
   ]
  },
  {
   "cell_type": "code",
   "execution_count": 44,
   "metadata": {},
   "outputs": [
    {
     "data": {
      "text/html": [
       "<style>#sk-container-id-1 {\n",
       "  /* Definition of color scheme common for light and dark mode */\n",
       "  --sklearn-color-text: black;\n",
       "  --sklearn-color-line: gray;\n",
       "  /* Definition of color scheme for unfitted estimators */\n",
       "  --sklearn-color-unfitted-level-0: #fff5e6;\n",
       "  --sklearn-color-unfitted-level-1: #f6e4d2;\n",
       "  --sklearn-color-unfitted-level-2: #ffe0b3;\n",
       "  --sklearn-color-unfitted-level-3: chocolate;\n",
       "  /* Definition of color scheme for fitted estimators */\n",
       "  --sklearn-color-fitted-level-0: #f0f8ff;\n",
       "  --sklearn-color-fitted-level-1: #d4ebff;\n",
       "  --sklearn-color-fitted-level-2: #b3dbfd;\n",
       "  --sklearn-color-fitted-level-3: cornflowerblue;\n",
       "\n",
       "  /* Specific color for light theme */\n",
       "  --sklearn-color-text-on-default-background: var(--sg-text-color, var(--theme-code-foreground, var(--jp-content-font-color1, black)));\n",
       "  --sklearn-color-background: var(--sg-background-color, var(--theme-background, var(--jp-layout-color0, white)));\n",
       "  --sklearn-color-border-box: var(--sg-text-color, var(--theme-code-foreground, var(--jp-content-font-color1, black)));\n",
       "  --sklearn-color-icon: #696969;\n",
       "\n",
       "  @media (prefers-color-scheme: dark) {\n",
       "    /* Redefinition of color scheme for dark theme */\n",
       "    --sklearn-color-text-on-default-background: var(--sg-text-color, var(--theme-code-foreground, var(--jp-content-font-color1, white)));\n",
       "    --sklearn-color-background: var(--sg-background-color, var(--theme-background, var(--jp-layout-color0, #111)));\n",
       "    --sklearn-color-border-box: var(--sg-text-color, var(--theme-code-foreground, var(--jp-content-font-color1, white)));\n",
       "    --sklearn-color-icon: #878787;\n",
       "  }\n",
       "}\n",
       "\n",
       "#sk-container-id-1 {\n",
       "  color: var(--sklearn-color-text);\n",
       "}\n",
       "\n",
       "#sk-container-id-1 pre {\n",
       "  padding: 0;\n",
       "}\n",
       "\n",
       "#sk-container-id-1 input.sk-hidden--visually {\n",
       "  border: 0;\n",
       "  clip: rect(1px 1px 1px 1px);\n",
       "  clip: rect(1px, 1px, 1px, 1px);\n",
       "  height: 1px;\n",
       "  margin: -1px;\n",
       "  overflow: hidden;\n",
       "  padding: 0;\n",
       "  position: absolute;\n",
       "  width: 1px;\n",
       "}\n",
       "\n",
       "#sk-container-id-1 div.sk-dashed-wrapped {\n",
       "  border: 1px dashed var(--sklearn-color-line);\n",
       "  margin: 0 0.4em 0.5em 0.4em;\n",
       "  box-sizing: border-box;\n",
       "  padding-bottom: 0.4em;\n",
       "  background-color: var(--sklearn-color-background);\n",
       "}\n",
       "\n",
       "#sk-container-id-1 div.sk-container {\n",
       "  /* jupyter's `normalize.less` sets `[hidden] { display: none; }`\n",
       "     but bootstrap.min.css set `[hidden] { display: none !important; }`\n",
       "     so we also need the `!important` here to be able to override the\n",
       "     default hidden behavior on the sphinx rendered scikit-learn.org.\n",
       "     See: https://github.com/scikit-learn/scikit-learn/issues/21755 */\n",
       "  display: inline-block !important;\n",
       "  position: relative;\n",
       "}\n",
       "\n",
       "#sk-container-id-1 div.sk-text-repr-fallback {\n",
       "  display: none;\n",
       "}\n",
       "\n",
       "div.sk-parallel-item,\n",
       "div.sk-serial,\n",
       "div.sk-item {\n",
       "  /* draw centered vertical line to link estimators */\n",
       "  background-image: linear-gradient(var(--sklearn-color-text-on-default-background), var(--sklearn-color-text-on-default-background));\n",
       "  background-size: 2px 100%;\n",
       "  background-repeat: no-repeat;\n",
       "  background-position: center center;\n",
       "}\n",
       "\n",
       "/* Parallel-specific style estimator block */\n",
       "\n",
       "#sk-container-id-1 div.sk-parallel-item::after {\n",
       "  content: \"\";\n",
       "  width: 100%;\n",
       "  border-bottom: 2px solid var(--sklearn-color-text-on-default-background);\n",
       "  flex-grow: 1;\n",
       "}\n",
       "\n",
       "#sk-container-id-1 div.sk-parallel {\n",
       "  display: flex;\n",
       "  align-items: stretch;\n",
       "  justify-content: center;\n",
       "  background-color: var(--sklearn-color-background);\n",
       "  position: relative;\n",
       "}\n",
       "\n",
       "#sk-container-id-1 div.sk-parallel-item {\n",
       "  display: flex;\n",
       "  flex-direction: column;\n",
       "}\n",
       "\n",
       "#sk-container-id-1 div.sk-parallel-item:first-child::after {\n",
       "  align-self: flex-end;\n",
       "  width: 50%;\n",
       "}\n",
       "\n",
       "#sk-container-id-1 div.sk-parallel-item:last-child::after {\n",
       "  align-self: flex-start;\n",
       "  width: 50%;\n",
       "}\n",
       "\n",
       "#sk-container-id-1 div.sk-parallel-item:only-child::after {\n",
       "  width: 0;\n",
       "}\n",
       "\n",
       "/* Serial-specific style estimator block */\n",
       "\n",
       "#sk-container-id-1 div.sk-serial {\n",
       "  display: flex;\n",
       "  flex-direction: column;\n",
       "  align-items: center;\n",
       "  background-color: var(--sklearn-color-background);\n",
       "  padding-right: 1em;\n",
       "  padding-left: 1em;\n",
       "}\n",
       "\n",
       "\n",
       "/* Toggleable style: style used for estimator/Pipeline/ColumnTransformer box that is\n",
       "clickable and can be expanded/collapsed.\n",
       "- Pipeline and ColumnTransformer use this feature and define the default style\n",
       "- Estimators will overwrite some part of the style using the `sk-estimator` class\n",
       "*/\n",
       "\n",
       "/* Pipeline and ColumnTransformer style (default) */\n",
       "\n",
       "#sk-container-id-1 div.sk-toggleable {\n",
       "  /* Default theme specific background. It is overwritten whether we have a\n",
       "  specific estimator or a Pipeline/ColumnTransformer */\n",
       "  background-color: var(--sklearn-color-background);\n",
       "}\n",
       "\n",
       "/* Toggleable label */\n",
       "#sk-container-id-1 label.sk-toggleable__label {\n",
       "  cursor: pointer;\n",
       "  display: block;\n",
       "  width: 100%;\n",
       "  margin-bottom: 0;\n",
       "  padding: 0.5em;\n",
       "  box-sizing: border-box;\n",
       "  text-align: center;\n",
       "}\n",
       "\n",
       "#sk-container-id-1 label.sk-toggleable__label-arrow:before {\n",
       "  /* Arrow on the left of the label */\n",
       "  content: \"▸\";\n",
       "  float: left;\n",
       "  margin-right: 0.25em;\n",
       "  color: var(--sklearn-color-icon);\n",
       "}\n",
       "\n",
       "#sk-container-id-1 label.sk-toggleable__label-arrow:hover:before {\n",
       "  color: var(--sklearn-color-text);\n",
       "}\n",
       "\n",
       "/* Toggleable content - dropdown */\n",
       "\n",
       "#sk-container-id-1 div.sk-toggleable__content {\n",
       "  max-height: 0;\n",
       "  max-width: 0;\n",
       "  overflow: hidden;\n",
       "  text-align: left;\n",
       "  /* unfitted */\n",
       "  background-color: var(--sklearn-color-unfitted-level-0);\n",
       "}\n",
       "\n",
       "#sk-container-id-1 div.sk-toggleable__content.fitted {\n",
       "  /* fitted */\n",
       "  background-color: var(--sklearn-color-fitted-level-0);\n",
       "}\n",
       "\n",
       "#sk-container-id-1 div.sk-toggleable__content pre {\n",
       "  margin: 0.2em;\n",
       "  border-radius: 0.25em;\n",
       "  color: var(--sklearn-color-text);\n",
       "  /* unfitted */\n",
       "  background-color: var(--sklearn-color-unfitted-level-0);\n",
       "}\n",
       "\n",
       "#sk-container-id-1 div.sk-toggleable__content.fitted pre {\n",
       "  /* unfitted */\n",
       "  background-color: var(--sklearn-color-fitted-level-0);\n",
       "}\n",
       "\n",
       "#sk-container-id-1 input.sk-toggleable__control:checked~div.sk-toggleable__content {\n",
       "  /* Expand drop-down */\n",
       "  max-height: 200px;\n",
       "  max-width: 100%;\n",
       "  overflow: auto;\n",
       "}\n",
       "\n",
       "#sk-container-id-1 input.sk-toggleable__control:checked~label.sk-toggleable__label-arrow:before {\n",
       "  content: \"▾\";\n",
       "}\n",
       "\n",
       "/* Pipeline/ColumnTransformer-specific style */\n",
       "\n",
       "#sk-container-id-1 div.sk-label input.sk-toggleable__control:checked~label.sk-toggleable__label {\n",
       "  color: var(--sklearn-color-text);\n",
       "  background-color: var(--sklearn-color-unfitted-level-2);\n",
       "}\n",
       "\n",
       "#sk-container-id-1 div.sk-label.fitted input.sk-toggleable__control:checked~label.sk-toggleable__label {\n",
       "  background-color: var(--sklearn-color-fitted-level-2);\n",
       "}\n",
       "\n",
       "/* Estimator-specific style */\n",
       "\n",
       "/* Colorize estimator box */\n",
       "#sk-container-id-1 div.sk-estimator input.sk-toggleable__control:checked~label.sk-toggleable__label {\n",
       "  /* unfitted */\n",
       "  background-color: var(--sklearn-color-unfitted-level-2);\n",
       "}\n",
       "\n",
       "#sk-container-id-1 div.sk-estimator.fitted input.sk-toggleable__control:checked~label.sk-toggleable__label {\n",
       "  /* fitted */\n",
       "  background-color: var(--sklearn-color-fitted-level-2);\n",
       "}\n",
       "\n",
       "#sk-container-id-1 div.sk-label label.sk-toggleable__label,\n",
       "#sk-container-id-1 div.sk-label label {\n",
       "  /* The background is the default theme color */\n",
       "  color: var(--sklearn-color-text-on-default-background);\n",
       "}\n",
       "\n",
       "/* On hover, darken the color of the background */\n",
       "#sk-container-id-1 div.sk-label:hover label.sk-toggleable__label {\n",
       "  color: var(--sklearn-color-text);\n",
       "  background-color: var(--sklearn-color-unfitted-level-2);\n",
       "}\n",
       "\n",
       "/* Label box, darken color on hover, fitted */\n",
       "#sk-container-id-1 div.sk-label.fitted:hover label.sk-toggleable__label.fitted {\n",
       "  color: var(--sklearn-color-text);\n",
       "  background-color: var(--sklearn-color-fitted-level-2);\n",
       "}\n",
       "\n",
       "/* Estimator label */\n",
       "\n",
       "#sk-container-id-1 div.sk-label label {\n",
       "  font-family: monospace;\n",
       "  font-weight: bold;\n",
       "  display: inline-block;\n",
       "  line-height: 1.2em;\n",
       "}\n",
       "\n",
       "#sk-container-id-1 div.sk-label-container {\n",
       "  text-align: center;\n",
       "}\n",
       "\n",
       "/* Estimator-specific */\n",
       "#sk-container-id-1 div.sk-estimator {\n",
       "  font-family: monospace;\n",
       "  border: 1px dotted var(--sklearn-color-border-box);\n",
       "  border-radius: 0.25em;\n",
       "  box-sizing: border-box;\n",
       "  margin-bottom: 0.5em;\n",
       "  /* unfitted */\n",
       "  background-color: var(--sklearn-color-unfitted-level-0);\n",
       "}\n",
       "\n",
       "#sk-container-id-1 div.sk-estimator.fitted {\n",
       "  /* fitted */\n",
       "  background-color: var(--sklearn-color-fitted-level-0);\n",
       "}\n",
       "\n",
       "/* on hover */\n",
       "#sk-container-id-1 div.sk-estimator:hover {\n",
       "  /* unfitted */\n",
       "  background-color: var(--sklearn-color-unfitted-level-2);\n",
       "}\n",
       "\n",
       "#sk-container-id-1 div.sk-estimator.fitted:hover {\n",
       "  /* fitted */\n",
       "  background-color: var(--sklearn-color-fitted-level-2);\n",
       "}\n",
       "\n",
       "/* Specification for estimator info (e.g. \"i\" and \"?\") */\n",
       "\n",
       "/* Common style for \"i\" and \"?\" */\n",
       "\n",
       ".sk-estimator-doc-link,\n",
       "a:link.sk-estimator-doc-link,\n",
       "a:visited.sk-estimator-doc-link {\n",
       "  float: right;\n",
       "  font-size: smaller;\n",
       "  line-height: 1em;\n",
       "  font-family: monospace;\n",
       "  background-color: var(--sklearn-color-background);\n",
       "  border-radius: 1em;\n",
       "  height: 1em;\n",
       "  width: 1em;\n",
       "  text-decoration: none !important;\n",
       "  margin-left: 1ex;\n",
       "  /* unfitted */\n",
       "  border: var(--sklearn-color-unfitted-level-1) 1pt solid;\n",
       "  color: var(--sklearn-color-unfitted-level-1);\n",
       "}\n",
       "\n",
       ".sk-estimator-doc-link.fitted,\n",
       "a:link.sk-estimator-doc-link.fitted,\n",
       "a:visited.sk-estimator-doc-link.fitted {\n",
       "  /* fitted */\n",
       "  border: var(--sklearn-color-fitted-level-1) 1pt solid;\n",
       "  color: var(--sklearn-color-fitted-level-1);\n",
       "}\n",
       "\n",
       "/* On hover */\n",
       "div.sk-estimator:hover .sk-estimator-doc-link:hover,\n",
       ".sk-estimator-doc-link:hover,\n",
       "div.sk-label-container:hover .sk-estimator-doc-link:hover,\n",
       ".sk-estimator-doc-link:hover {\n",
       "  /* unfitted */\n",
       "  background-color: var(--sklearn-color-unfitted-level-3);\n",
       "  color: var(--sklearn-color-background);\n",
       "  text-decoration: none;\n",
       "}\n",
       "\n",
       "div.sk-estimator.fitted:hover .sk-estimator-doc-link.fitted:hover,\n",
       ".sk-estimator-doc-link.fitted:hover,\n",
       "div.sk-label-container:hover .sk-estimator-doc-link.fitted:hover,\n",
       ".sk-estimator-doc-link.fitted:hover {\n",
       "  /* fitted */\n",
       "  background-color: var(--sklearn-color-fitted-level-3);\n",
       "  color: var(--sklearn-color-background);\n",
       "  text-decoration: none;\n",
       "}\n",
       "\n",
       "/* Span, style for the box shown on hovering the info icon */\n",
       ".sk-estimator-doc-link span {\n",
       "  display: none;\n",
       "  z-index: 9999;\n",
       "  position: relative;\n",
       "  font-weight: normal;\n",
       "  right: .2ex;\n",
       "  padding: .5ex;\n",
       "  margin: .5ex;\n",
       "  width: min-content;\n",
       "  min-width: 20ex;\n",
       "  max-width: 50ex;\n",
       "  color: var(--sklearn-color-text);\n",
       "  box-shadow: 2pt 2pt 4pt #999;\n",
       "  /* unfitted */\n",
       "  background: var(--sklearn-color-unfitted-level-0);\n",
       "  border: .5pt solid var(--sklearn-color-unfitted-level-3);\n",
       "}\n",
       "\n",
       ".sk-estimator-doc-link.fitted span {\n",
       "  /* fitted */\n",
       "  background: var(--sklearn-color-fitted-level-0);\n",
       "  border: var(--sklearn-color-fitted-level-3);\n",
       "}\n",
       "\n",
       ".sk-estimator-doc-link:hover span {\n",
       "  display: block;\n",
       "}\n",
       "\n",
       "/* \"?\"-specific style due to the `<a>` HTML tag */\n",
       "\n",
       "#sk-container-id-1 a.estimator_doc_link {\n",
       "  float: right;\n",
       "  font-size: 1rem;\n",
       "  line-height: 1em;\n",
       "  font-family: monospace;\n",
       "  background-color: var(--sklearn-color-background);\n",
       "  border-radius: 1rem;\n",
       "  height: 1rem;\n",
       "  width: 1rem;\n",
       "  text-decoration: none;\n",
       "  /* unfitted */\n",
       "  color: var(--sklearn-color-unfitted-level-1);\n",
       "  border: var(--sklearn-color-unfitted-level-1) 1pt solid;\n",
       "}\n",
       "\n",
       "#sk-container-id-1 a.estimator_doc_link.fitted {\n",
       "  /* fitted */\n",
       "  border: var(--sklearn-color-fitted-level-1) 1pt solid;\n",
       "  color: var(--sklearn-color-fitted-level-1);\n",
       "}\n",
       "\n",
       "/* On hover */\n",
       "#sk-container-id-1 a.estimator_doc_link:hover {\n",
       "  /* unfitted */\n",
       "  background-color: var(--sklearn-color-unfitted-level-3);\n",
       "  color: var(--sklearn-color-background);\n",
       "  text-decoration: none;\n",
       "}\n",
       "\n",
       "#sk-container-id-1 a.estimator_doc_link.fitted:hover {\n",
       "  /* fitted */\n",
       "  background-color: var(--sklearn-color-fitted-level-3);\n",
       "}\n",
       "</style><div id=\"sk-container-id-1\" class=\"sk-top-container\"><div class=\"sk-text-repr-fallback\"><pre>Pipeline(steps=[(&#x27;preprocessor&#x27;,\n",
       "                 ColumnTransformer(transformers=[(&#x27;num&#x27;,\n",
       "                                                  Pipeline(steps=[(&#x27;outlier&#x27;,\n",
       "                                                                   Winsorizer(capping_method=&#x27;iqr&#x27;,\n",
       "                                                                              fold=1.5,\n",
       "                                                                              tail=&#x27;both&#x27;)),\n",
       "                                                                  (&#x27;scaler&#x27;,\n",
       "                                                                   RobustScaler())]),\n",
       "                                                  [&#x27;cpu_speed&#x27;, &#x27;Ram&#x27;, &#x27;ppi&#x27;]),\n",
       "                                                 (&#x27;cat&#x27;,\n",
       "                                                  OneHotEncoder(handle_unknown=&#x27;ignore&#x27;),\n",
       "                                                  [&#x27;Company&#x27;, &#x27;cpu_brand&#x27;,\n",
       "                                                   &#x27;memory_type&#x27;, &#x27;gpu_brand&#x27;,\n",
       "                                                   &#x27;OpSys&#x27;]),\n",
       "                                                 (&#x27;ord&#x27;, OrdinalEncoder(),\n",
       "                                                  [&#x27;cpu_perform...\n",
       "                              feature_types=None, gamma=None, grow_policy=None,\n",
       "                              importance_type=None,\n",
       "                              interaction_constraints=None, learning_rate=None,\n",
       "                              max_bin=None, max_cat_threshold=None,\n",
       "                              max_cat_to_onehot=None, max_delta_step=None,\n",
       "                              max_depth=None, max_leaves=None,\n",
       "                              min_child_weight=None, missing=nan,\n",
       "                              monotone_constraints=None, multi_strategy=None,\n",
       "                              n_estimators=None, n_jobs=None,\n",
       "                              num_parallel_tree=None, random_state=None, ...))])</pre><b>In a Jupyter environment, please rerun this cell to show the HTML representation or trust the notebook. <br />On GitHub, the HTML representation is unable to render, please try loading this page with nbviewer.org.</b></div><div class=\"sk-container\" hidden><div class=\"sk-item sk-dashed-wrapped\"><div class=\"sk-label-container\"><div class=\"sk-label fitted sk-toggleable\"><input class=\"sk-toggleable__control sk-hidden--visually\" id=\"sk-estimator-id-1\" type=\"checkbox\" ><label for=\"sk-estimator-id-1\" class=\"sk-toggleable__label fitted sk-toggleable__label-arrow fitted\">&nbsp;&nbsp;Pipeline<a class=\"sk-estimator-doc-link fitted\" rel=\"noreferrer\" target=\"_blank\" href=\"https://scikit-learn.org/1.4/modules/generated/sklearn.pipeline.Pipeline.html\">?<span>Documentation for Pipeline</span></a><span class=\"sk-estimator-doc-link fitted\">i<span>Fitted</span></span></label><div class=\"sk-toggleable__content fitted\"><pre>Pipeline(steps=[(&#x27;preprocessor&#x27;,\n",
       "                 ColumnTransformer(transformers=[(&#x27;num&#x27;,\n",
       "                                                  Pipeline(steps=[(&#x27;outlier&#x27;,\n",
       "                                                                   Winsorizer(capping_method=&#x27;iqr&#x27;,\n",
       "                                                                              fold=1.5,\n",
       "                                                                              tail=&#x27;both&#x27;)),\n",
       "                                                                  (&#x27;scaler&#x27;,\n",
       "                                                                   RobustScaler())]),\n",
       "                                                  [&#x27;cpu_speed&#x27;, &#x27;Ram&#x27;, &#x27;ppi&#x27;]),\n",
       "                                                 (&#x27;cat&#x27;,\n",
       "                                                  OneHotEncoder(handle_unknown=&#x27;ignore&#x27;),\n",
       "                                                  [&#x27;Company&#x27;, &#x27;cpu_brand&#x27;,\n",
       "                                                   &#x27;memory_type&#x27;, &#x27;gpu_brand&#x27;,\n",
       "                                                   &#x27;OpSys&#x27;]),\n",
       "                                                 (&#x27;ord&#x27;, OrdinalEncoder(),\n",
       "                                                  [&#x27;cpu_perform...\n",
       "                              feature_types=None, gamma=None, grow_policy=None,\n",
       "                              importance_type=None,\n",
       "                              interaction_constraints=None, learning_rate=None,\n",
       "                              max_bin=None, max_cat_threshold=None,\n",
       "                              max_cat_to_onehot=None, max_delta_step=None,\n",
       "                              max_depth=None, max_leaves=None,\n",
       "                              min_child_weight=None, missing=nan,\n",
       "                              monotone_constraints=None, multi_strategy=None,\n",
       "                              n_estimators=None, n_jobs=None,\n",
       "                              num_parallel_tree=None, random_state=None, ...))])</pre></div> </div></div><div class=\"sk-serial\"><div class=\"sk-item sk-dashed-wrapped\"><div class=\"sk-label-container\"><div class=\"sk-label fitted sk-toggleable\"><input class=\"sk-toggleable__control sk-hidden--visually\" id=\"sk-estimator-id-2\" type=\"checkbox\" ><label for=\"sk-estimator-id-2\" class=\"sk-toggleable__label fitted sk-toggleable__label-arrow fitted\">&nbsp;preprocessor: ColumnTransformer<a class=\"sk-estimator-doc-link fitted\" rel=\"noreferrer\" target=\"_blank\" href=\"https://scikit-learn.org/1.4/modules/generated/sklearn.compose.ColumnTransformer.html\">?<span>Documentation for preprocessor: ColumnTransformer</span></a></label><div class=\"sk-toggleable__content fitted\"><pre>ColumnTransformer(transformers=[(&#x27;num&#x27;,\n",
       "                                 Pipeline(steps=[(&#x27;outlier&#x27;,\n",
       "                                                  Winsorizer(capping_method=&#x27;iqr&#x27;,\n",
       "                                                             fold=1.5,\n",
       "                                                             tail=&#x27;both&#x27;)),\n",
       "                                                 (&#x27;scaler&#x27;, RobustScaler())]),\n",
       "                                 [&#x27;cpu_speed&#x27;, &#x27;Ram&#x27;, &#x27;ppi&#x27;]),\n",
       "                                (&#x27;cat&#x27;, OneHotEncoder(handle_unknown=&#x27;ignore&#x27;),\n",
       "                                 [&#x27;Company&#x27;, &#x27;cpu_brand&#x27;, &#x27;memory_type&#x27;,\n",
       "                                  &#x27;gpu_brand&#x27;, &#x27;OpSys&#x27;]),\n",
       "                                (&#x27;ord&#x27;, OrdinalEncoder(), [&#x27;cpu_performance&#x27;]),\n",
       "                                (&#x27;minmax&#x27;, MinMaxScaler(),\n",
       "                                 [&#x27;ips_panel&#x27;, &#x27;touchscreen&#x27;,\n",
       "                                  &#x27;secondary_storage&#x27;, &#x27;resolution_width&#x27;,\n",
       "                                  &#x27;resolution_height&#x27;])])</pre></div> </div></div><div class=\"sk-parallel\"><div class=\"sk-parallel-item\"><div class=\"sk-item\"><div class=\"sk-label-container\"><div class=\"sk-label fitted sk-toggleable\"><input class=\"sk-toggleable__control sk-hidden--visually\" id=\"sk-estimator-id-3\" type=\"checkbox\" ><label for=\"sk-estimator-id-3\" class=\"sk-toggleable__label fitted sk-toggleable__label-arrow fitted\">num</label><div class=\"sk-toggleable__content fitted\"><pre>[&#x27;cpu_speed&#x27;, &#x27;Ram&#x27;, &#x27;ppi&#x27;]</pre></div> </div></div><div class=\"sk-serial\"><div class=\"sk-item\"><div class=\"sk-serial\"><div class=\"sk-item\"><div class=\"sk-estimator fitted sk-toggleable\"><input class=\"sk-toggleable__control sk-hidden--visually\" id=\"sk-estimator-id-4\" type=\"checkbox\" ><label for=\"sk-estimator-id-4\" class=\"sk-toggleable__label fitted sk-toggleable__label-arrow fitted\">Winsorizer</label><div class=\"sk-toggleable__content fitted\"><pre>Winsorizer(capping_method=&#x27;iqr&#x27;, fold=1.5, tail=&#x27;both&#x27;)</pre></div> </div></div><div class=\"sk-item\"><div class=\"sk-estimator fitted sk-toggleable\"><input class=\"sk-toggleable__control sk-hidden--visually\" id=\"sk-estimator-id-5\" type=\"checkbox\" ><label for=\"sk-estimator-id-5\" class=\"sk-toggleable__label fitted sk-toggleable__label-arrow fitted\">&nbsp;RobustScaler<a class=\"sk-estimator-doc-link fitted\" rel=\"noreferrer\" target=\"_blank\" href=\"https://scikit-learn.org/1.4/modules/generated/sklearn.preprocessing.RobustScaler.html\">?<span>Documentation for RobustScaler</span></a></label><div class=\"sk-toggleable__content fitted\"><pre>RobustScaler()</pre></div> </div></div></div></div></div></div></div><div class=\"sk-parallel-item\"><div class=\"sk-item\"><div class=\"sk-label-container\"><div class=\"sk-label fitted sk-toggleable\"><input class=\"sk-toggleable__control sk-hidden--visually\" id=\"sk-estimator-id-6\" type=\"checkbox\" ><label for=\"sk-estimator-id-6\" class=\"sk-toggleable__label fitted sk-toggleable__label-arrow fitted\">cat</label><div class=\"sk-toggleable__content fitted\"><pre>[&#x27;Company&#x27;, &#x27;cpu_brand&#x27;, &#x27;memory_type&#x27;, &#x27;gpu_brand&#x27;, &#x27;OpSys&#x27;]</pre></div> </div></div><div class=\"sk-serial\"><div class=\"sk-item\"><div class=\"sk-estimator fitted sk-toggleable\"><input class=\"sk-toggleable__control sk-hidden--visually\" id=\"sk-estimator-id-7\" type=\"checkbox\" ><label for=\"sk-estimator-id-7\" class=\"sk-toggleable__label fitted sk-toggleable__label-arrow fitted\">&nbsp;OneHotEncoder<a class=\"sk-estimator-doc-link fitted\" rel=\"noreferrer\" target=\"_blank\" href=\"https://scikit-learn.org/1.4/modules/generated/sklearn.preprocessing.OneHotEncoder.html\">?<span>Documentation for OneHotEncoder</span></a></label><div class=\"sk-toggleable__content fitted\"><pre>OneHotEncoder(handle_unknown=&#x27;ignore&#x27;)</pre></div> </div></div></div></div></div><div class=\"sk-parallel-item\"><div class=\"sk-item\"><div class=\"sk-label-container\"><div class=\"sk-label fitted sk-toggleable\"><input class=\"sk-toggleable__control sk-hidden--visually\" id=\"sk-estimator-id-8\" type=\"checkbox\" ><label for=\"sk-estimator-id-8\" class=\"sk-toggleable__label fitted sk-toggleable__label-arrow fitted\">ord</label><div class=\"sk-toggleable__content fitted\"><pre>[&#x27;cpu_performance&#x27;]</pre></div> </div></div><div class=\"sk-serial\"><div class=\"sk-item\"><div class=\"sk-estimator fitted sk-toggleable\"><input class=\"sk-toggleable__control sk-hidden--visually\" id=\"sk-estimator-id-9\" type=\"checkbox\" ><label for=\"sk-estimator-id-9\" class=\"sk-toggleable__label fitted sk-toggleable__label-arrow fitted\">&nbsp;OrdinalEncoder<a class=\"sk-estimator-doc-link fitted\" rel=\"noreferrer\" target=\"_blank\" href=\"https://scikit-learn.org/1.4/modules/generated/sklearn.preprocessing.OrdinalEncoder.html\">?<span>Documentation for OrdinalEncoder</span></a></label><div class=\"sk-toggleable__content fitted\"><pre>OrdinalEncoder()</pre></div> </div></div></div></div></div><div class=\"sk-parallel-item\"><div class=\"sk-item\"><div class=\"sk-label-container\"><div class=\"sk-label fitted sk-toggleable\"><input class=\"sk-toggleable__control sk-hidden--visually\" id=\"sk-estimator-id-10\" type=\"checkbox\" ><label for=\"sk-estimator-id-10\" class=\"sk-toggleable__label fitted sk-toggleable__label-arrow fitted\">minmax</label><div class=\"sk-toggleable__content fitted\"><pre>[&#x27;ips_panel&#x27;, &#x27;touchscreen&#x27;, &#x27;secondary_storage&#x27;, &#x27;resolution_width&#x27;, &#x27;resolution_height&#x27;]</pre></div> </div></div><div class=\"sk-serial\"><div class=\"sk-item\"><div class=\"sk-estimator fitted sk-toggleable\"><input class=\"sk-toggleable__control sk-hidden--visually\" id=\"sk-estimator-id-11\" type=\"checkbox\" ><label for=\"sk-estimator-id-11\" class=\"sk-toggleable__label fitted sk-toggleable__label-arrow fitted\">&nbsp;MinMaxScaler<a class=\"sk-estimator-doc-link fitted\" rel=\"noreferrer\" target=\"_blank\" href=\"https://scikit-learn.org/1.4/modules/generated/sklearn.preprocessing.MinMaxScaler.html\">?<span>Documentation for MinMaxScaler</span></a></label><div class=\"sk-toggleable__content fitted\"><pre>MinMaxScaler()</pre></div> </div></div></div></div></div></div></div><div class=\"sk-item\"><div class=\"sk-estimator fitted sk-toggleable\"><input class=\"sk-toggleable__control sk-hidden--visually\" id=\"sk-estimator-id-12\" type=\"checkbox\" ><label for=\"sk-estimator-id-12\" class=\"sk-toggleable__label fitted sk-toggleable__label-arrow fitted\">XGBRegressor</label><div class=\"sk-toggleable__content fitted\"><pre>XGBRegressor(base_score=None, booster=None, callbacks=None,\n",
       "             colsample_bylevel=None, colsample_bynode=None,\n",
       "             colsample_bytree=None, device=None, early_stopping_rounds=None,\n",
       "             enable_categorical=False, eval_metric=None, feature_types=None,\n",
       "             gamma=None, grow_policy=None, importance_type=None,\n",
       "             interaction_constraints=None, learning_rate=None, max_bin=None,\n",
       "             max_cat_threshold=None, max_cat_to_onehot=None,\n",
       "             max_delta_step=None, max_depth=None, max_leaves=None,\n",
       "             min_child_weight=None, missing=nan, monotone_constraints=None,\n",
       "             multi_strategy=None, n_estimators=None, n_jobs=None,\n",
       "             num_parallel_tree=None, random_state=None, ...)</pre></div> </div></div></div></div></div></div>"
      ],
      "text/plain": [
       "Pipeline(steps=[('preprocessor',\n",
       "                 ColumnTransformer(transformers=[('num',\n",
       "                                                  Pipeline(steps=[('outlier',\n",
       "                                                                   Winsorizer(capping_method='iqr',\n",
       "                                                                              fold=1.5,\n",
       "                                                                              tail='both')),\n",
       "                                                                  ('scaler',\n",
       "                                                                   RobustScaler())]),\n",
       "                                                  ['cpu_speed', 'Ram', 'ppi']),\n",
       "                                                 ('cat',\n",
       "                                                  OneHotEncoder(handle_unknown='ignore'),\n",
       "                                                  ['Company', 'cpu_brand',\n",
       "                                                   'memory_type', 'gpu_brand',\n",
       "                                                   'OpSys']),\n",
       "                                                 ('ord', OrdinalEncoder(),\n",
       "                                                  ['cpu_perform...\n",
       "                              feature_types=None, gamma=None, grow_policy=None,\n",
       "                              importance_type=None,\n",
       "                              interaction_constraints=None, learning_rate=None,\n",
       "                              max_bin=None, max_cat_threshold=None,\n",
       "                              max_cat_to_onehot=None, max_delta_step=None,\n",
       "                              max_depth=None, max_leaves=None,\n",
       "                              min_child_weight=None, missing=nan,\n",
       "                              monotone_constraints=None, multi_strategy=None,\n",
       "                              n_estimators=None, n_jobs=None,\n",
       "                              num_parallel_tree=None, random_state=None, ...))])"
      ]
     },
     "execution_count": 44,
     "metadata": {},
     "output_type": "execute_result"
    }
   ],
   "source": [
    "# Melatih model regresi linear dengan data pelatihan\n",
    "reg1.fit(X_train, y_train)\n",
    "\n",
    "# Melatih model regresi pohon keputusan dengan data pelatihan\n",
    "reg2.fit(X_train, y_train)\n",
    "\n",
    "# Melatih model regresi hutan acak dengan data pelatihan\n",
    "reg3.fit(X_train, y_train)\n",
    "\n",
    "# Melatih model regresi support vector dengan data pelatihan\n",
    "reg4.fit(X_train, y_train)\n",
    "\n",
    "# Melatih model regresi k-nearest neighbors dengan data pelatihan\n",
    "reg5.fit(X_train, y_train)\n",
    "\n",
    "# Melatih model regresi XGBoost dengan data pelatihan\n",
    "reg6.fit(X_train, y_train)\n"
   ]
  },
  {
   "cell_type": "markdown",
   "metadata": {},
   "source": [
    "## 8. Cross Validation"
   ]
  },
  {
   "cell_type": "markdown",
   "metadata": {},
   "source": [
    "Cross Validation digunakan untuk memperkirakan kinerja model pada data yang belum pernah dilihat sebelumnya. <br> \n",
    "alasan digunakannya Cross Validation: <br>\n",
    "- Cross-validation secara sistematis membuat dan mengevaluasi beberapa model pada beberapa subset dari dataset.\n",
    "- Memberikan pengukuran kinerja seperti rata-rata dan standar deviasi.<br>\n",
    " Rata-rata: seberapa baik prosedur bekerja secara keseluruhan. <br>\n",
    " Standar deviasi: seberapa besar variasi yang diharapkan dalam praktek.<br>\n",
    "- Rata-rata dan standar deviasi dapat digunakan untuk memberikan interval kepercayaan pada kinerja yang diharapkan di test set.\n"
   ]
  },
  {
   "cell_type": "markdown",
   "metadata": {},
   "source": [
    "Langkah-langkah cross-validation:\n",
    "\n",
    "- Bagi secara acak seluruh train set Anda menjadi k jumlah lipatan (subsets).\n",
    "- Untuk setiap lipatan dalam train set , bangun model pada k-1 lipatan dari train set. Kemudian, uji model terhadap validation set untuk memeriksa efektivitas untuk lipatan ke-k.\n",
    "- Ulangi dua langkah ini sampai masing-masing dari k lipatan telah berfungsi sebagai validation set.\n",
    "- Rata-rata dari k akurasi disebut Cross Validation accuracy dan akan berfungsi sebagai metrik kinerja untuk model.\n",
    "- nilai K yang paling umum digunakan adalah 5 atau 10."
   ]
  },
  {
   "cell_type": "code",
   "execution_count": 45,
   "metadata": {},
   "outputs": [
    {
     "name": "stdout",
     "output_type": "stream",
     "text": [
      "Linear Regression\n",
      "RMSE - Cross Validation Scores:  [238.02878709 316.94795889 212.55921458 188.43932564 215.98651872]\n",
      "RMSE - Mean Cross Validation Score:  234.39236098496826\n",
      "RMSE - Standard Deviation of Cross Validation Scores:  44.171921193472876\n",
      "RMSE - Range of Cross Validation Scores:  190.22043979149538 to 278.56428217844115\n",
      "--------------------------------------------------\n",
      "Decision Tree Regression\n",
      "RMSE - Cross Validation Scores:  [223.04605882 305.65973111 220.92058808 235.96040704 192.62745006]\n",
      "RMSE - Mean Cross Validation Score:  235.64284702259675\n",
      "RMSE - Standard Deviation of Cross Validation Scores:  37.75768334578715\n",
      "RMSE - Range of Cross Validation Scores:  197.8851636768096 to 273.4005303683839\n",
      "--------------------------------------------------\n",
      "Random Forest Regressor\n",
      "RMSE - Cross Validation Scores:  [186.86239541 255.80484294 182.96569819 182.46634069 167.64109517]\n",
      "RMSE - Mean Cross Validation Score:  195.14807448021588\n",
      "RMSE - Standard Deviation of Cross Validation Scores:  31.028266510237554\n",
      "RMSE - Range of Cross Validation Scores:  164.11980796997832 to 226.17634099045344\n",
      "--------------------------------------------------\n",
      "Support Vector Regression\n",
      "RMSE - Cross Validation Scores:  [381.25269685 483.3037147  309.18279026 310.24341733 297.29753896]\n",
      "RMSE - Mean Cross Validation Score:  356.25603161949164\n",
      "RMSE - Standard Deviation of Cross Validation Scores:  70.10720595363556\n",
      "RMSE - Range of Cross Validation Scores:  286.14882566585607 to 426.3632375731272\n",
      "--------------------------------------------------\n",
      "K-Neighbors Regressor\n",
      "RMSE - Cross Validation Scores:  [230.36100135 310.24655258 188.43112117 201.84273699 197.24398968]\n",
      "RMSE - Mean Cross Validation Score:  225.6250803543184\n",
      "RMSE - Standard Deviation of Cross Validation Scores:  44.581833236244336\n",
      "RMSE - Range of Cross Validation Scores:  181.04324711807408 to 270.20691359056275\n",
      "--------------------------------------------------\n",
      "XGBoost Regression\n",
      "RMSE - Cross Validation Scores:  [196.17690825 235.89518779 203.5852409  212.83029063 173.33394924]\n",
      "RMSE - Mean Cross Validation Score:  204.36431536389262\n",
      "RMSE - Standard Deviation of Cross Validation Scores:  20.476292961683907\n",
      "RMSE - Range of Cross Validation Scores:  183.88802240220872 to 224.8406083255765\n",
      "--------------------------------------------------\n",
      "Best model: Random Forest Regressor\n",
      "Cross-val mean RMSE of the best model: 195.14807448021588\n"
     ]
    }
   ],
   "source": [
    "# Menggunakan KFold untuk cross-validation\n",
    "kf = KFold(n_splits=5, shuffle=True, random_state=66)\n",
    "\n",
    "# Melakukan cross-validation dengan neg_root_mean_squared_error sebagai scoring\n",
    "cv_linear_model = cross_val_score(reg1, X_train, y_train, cv=kf, scoring=\"neg_root_mean_squared_error\")\n",
    "cv_dtree_model = cross_val_score(reg2, X_train, y_train, cv=kf, scoring=\"neg_root_mean_squared_error\")\n",
    "cv_rforest_model = cross_val_score(reg3, X_train, y_train, cv=kf, scoring=\"neg_root_mean_squared_error\")\n",
    "cv_svr_model = cross_val_score(reg4, X_train, y_train, cv=kf, scoring=\"neg_root_mean_squared_error\")\n",
    "cv_knn_model = cross_val_score(reg5, X_train, y_train, cv=kf, scoring=\"neg_root_mean_squared_error\")\n",
    "cv_xgb_model = cross_val_score(reg6, X_train, y_train, cv=kf, scoring=\"neg_root_mean_squared_error\")\n",
    "\n",
    "# Nama model yang digunakan\n",
    "model_name = ['Linear Regression', 'Decision Tree Regression', 'Random Forest Regressor', 'Support Vector Regression', 'K-Neighbors Regressor', 'XGBoost Regression']\n",
    "\n",
    "# Inisialisasi nilai terbaik untuk cross-validation\n",
    "best_model_name = \"\"\n",
    "best_cv_score = float('inf')\n",
    "\n",
    "# Loop melalui hasil cross-validation untuk setiap model\n",
    "for cv, name in zip([cv_linear_model, cv_dtree_model, cv_rforest_model, cv_svr_model, cv_knn_model, cv_xgb_model], model_name ):\n",
    "    cv = -cv  # Mengonversi RMSE negatif menjadi positif\n",
    "    print(name)\n",
    "    print('RMSE - Cross Validation Scores: ', cv)\n",
    "    print('RMSE - Mean Cross Validation Score: ', cv.mean())\n",
    "    print('RMSE - Standard Deviation of Cross Validation Scores: ', cv.std())\n",
    "    print('RMSE - Range of Cross Validation Scores: ', (cv.mean() - cv.std()), 'to', (cv.mean() + cv.std()))\n",
    "    print('-'*50)    \n",
    "\n",
    "    # Memperbarui model terbaik berdasarkan mean cross-validation score\n",
    "    if cv.mean() < best_cv_score:\n",
    "        best_cv_score = cv.mean()\n",
    "        best_model_name = name\n",
    "\n",
    "# Menampilkan model terbaik dan nilai RMSE mean cross-validation\n",
    "print('Best model:', best_model_name)\n",
    "print('Cross-val mean RMSE of the best model:', best_cv_score)\n"
   ]
  },
  {
   "cell_type": "markdown",
   "metadata": {},
   "source": [
    "didapatkan hasil model terbaik  adalah  Random Forest Regressor dengan Cross-val mean RMSE nya sebesar 195.14"
   ]
  },
  {
   "cell_type": "markdown",
   "metadata": {},
   "source": [
    "berdasarkan cross validation didapat random forest regressor sebagai model terbaik <br>\n",
    "langkah berikutnya menggunakan hyperparameter tuning untuk mencari hyperparameter terbaik untuk model random forest regressor "
   ]
  },
  {
   "cell_type": "markdown",
   "metadata": {},
   "source": [
    "## 9. Hyperparameter Tuning"
   ]
  },
  {
   "cell_type": "markdown",
   "metadata": {},
   "source": [
    "alasan menggunakan Random Search:\n",
    "- Metode ini akan melatih kombinasi hyperparameter secara acak.\n",
    "- Tidak semua kombinasi yang mungkin akan dilatih.\n",
    "- dapat mengurangi waktu komputasi"
   ]
  },
  {
   "cell_type": "code",
   "execution_count": 46,
   "metadata": {},
   "outputs": [
    {
     "data": {
      "text/html": [
       "<style>#sk-container-id-2 {\n",
       "  /* Definition of color scheme common for light and dark mode */\n",
       "  --sklearn-color-text: black;\n",
       "  --sklearn-color-line: gray;\n",
       "  /* Definition of color scheme for unfitted estimators */\n",
       "  --sklearn-color-unfitted-level-0: #fff5e6;\n",
       "  --sklearn-color-unfitted-level-1: #f6e4d2;\n",
       "  --sklearn-color-unfitted-level-2: #ffe0b3;\n",
       "  --sklearn-color-unfitted-level-3: chocolate;\n",
       "  /* Definition of color scheme for fitted estimators */\n",
       "  --sklearn-color-fitted-level-0: #f0f8ff;\n",
       "  --sklearn-color-fitted-level-1: #d4ebff;\n",
       "  --sklearn-color-fitted-level-2: #b3dbfd;\n",
       "  --sklearn-color-fitted-level-3: cornflowerblue;\n",
       "\n",
       "  /* Specific color for light theme */\n",
       "  --sklearn-color-text-on-default-background: var(--sg-text-color, var(--theme-code-foreground, var(--jp-content-font-color1, black)));\n",
       "  --sklearn-color-background: var(--sg-background-color, var(--theme-background, var(--jp-layout-color0, white)));\n",
       "  --sklearn-color-border-box: var(--sg-text-color, var(--theme-code-foreground, var(--jp-content-font-color1, black)));\n",
       "  --sklearn-color-icon: #696969;\n",
       "\n",
       "  @media (prefers-color-scheme: dark) {\n",
       "    /* Redefinition of color scheme for dark theme */\n",
       "    --sklearn-color-text-on-default-background: var(--sg-text-color, var(--theme-code-foreground, var(--jp-content-font-color1, white)));\n",
       "    --sklearn-color-background: var(--sg-background-color, var(--theme-background, var(--jp-layout-color0, #111)));\n",
       "    --sklearn-color-border-box: var(--sg-text-color, var(--theme-code-foreground, var(--jp-content-font-color1, white)));\n",
       "    --sklearn-color-icon: #878787;\n",
       "  }\n",
       "}\n",
       "\n",
       "#sk-container-id-2 {\n",
       "  color: var(--sklearn-color-text);\n",
       "}\n",
       "\n",
       "#sk-container-id-2 pre {\n",
       "  padding: 0;\n",
       "}\n",
       "\n",
       "#sk-container-id-2 input.sk-hidden--visually {\n",
       "  border: 0;\n",
       "  clip: rect(1px 1px 1px 1px);\n",
       "  clip: rect(1px, 1px, 1px, 1px);\n",
       "  height: 1px;\n",
       "  margin: -1px;\n",
       "  overflow: hidden;\n",
       "  padding: 0;\n",
       "  position: absolute;\n",
       "  width: 1px;\n",
       "}\n",
       "\n",
       "#sk-container-id-2 div.sk-dashed-wrapped {\n",
       "  border: 1px dashed var(--sklearn-color-line);\n",
       "  margin: 0 0.4em 0.5em 0.4em;\n",
       "  box-sizing: border-box;\n",
       "  padding-bottom: 0.4em;\n",
       "  background-color: var(--sklearn-color-background);\n",
       "}\n",
       "\n",
       "#sk-container-id-2 div.sk-container {\n",
       "  /* jupyter's `normalize.less` sets `[hidden] { display: none; }`\n",
       "     but bootstrap.min.css set `[hidden] { display: none !important; }`\n",
       "     so we also need the `!important` here to be able to override the\n",
       "     default hidden behavior on the sphinx rendered scikit-learn.org.\n",
       "     See: https://github.com/scikit-learn/scikit-learn/issues/21755 */\n",
       "  display: inline-block !important;\n",
       "  position: relative;\n",
       "}\n",
       "\n",
       "#sk-container-id-2 div.sk-text-repr-fallback {\n",
       "  display: none;\n",
       "}\n",
       "\n",
       "div.sk-parallel-item,\n",
       "div.sk-serial,\n",
       "div.sk-item {\n",
       "  /* draw centered vertical line to link estimators */\n",
       "  background-image: linear-gradient(var(--sklearn-color-text-on-default-background), var(--sklearn-color-text-on-default-background));\n",
       "  background-size: 2px 100%;\n",
       "  background-repeat: no-repeat;\n",
       "  background-position: center center;\n",
       "}\n",
       "\n",
       "/* Parallel-specific style estimator block */\n",
       "\n",
       "#sk-container-id-2 div.sk-parallel-item::after {\n",
       "  content: \"\";\n",
       "  width: 100%;\n",
       "  border-bottom: 2px solid var(--sklearn-color-text-on-default-background);\n",
       "  flex-grow: 1;\n",
       "}\n",
       "\n",
       "#sk-container-id-2 div.sk-parallel {\n",
       "  display: flex;\n",
       "  align-items: stretch;\n",
       "  justify-content: center;\n",
       "  background-color: var(--sklearn-color-background);\n",
       "  position: relative;\n",
       "}\n",
       "\n",
       "#sk-container-id-2 div.sk-parallel-item {\n",
       "  display: flex;\n",
       "  flex-direction: column;\n",
       "}\n",
       "\n",
       "#sk-container-id-2 div.sk-parallel-item:first-child::after {\n",
       "  align-self: flex-end;\n",
       "  width: 50%;\n",
       "}\n",
       "\n",
       "#sk-container-id-2 div.sk-parallel-item:last-child::after {\n",
       "  align-self: flex-start;\n",
       "  width: 50%;\n",
       "}\n",
       "\n",
       "#sk-container-id-2 div.sk-parallel-item:only-child::after {\n",
       "  width: 0;\n",
       "}\n",
       "\n",
       "/* Serial-specific style estimator block */\n",
       "\n",
       "#sk-container-id-2 div.sk-serial {\n",
       "  display: flex;\n",
       "  flex-direction: column;\n",
       "  align-items: center;\n",
       "  background-color: var(--sklearn-color-background);\n",
       "  padding-right: 1em;\n",
       "  padding-left: 1em;\n",
       "}\n",
       "\n",
       "\n",
       "/* Toggleable style: style used for estimator/Pipeline/ColumnTransformer box that is\n",
       "clickable and can be expanded/collapsed.\n",
       "- Pipeline and ColumnTransformer use this feature and define the default style\n",
       "- Estimators will overwrite some part of the style using the `sk-estimator` class\n",
       "*/\n",
       "\n",
       "/* Pipeline and ColumnTransformer style (default) */\n",
       "\n",
       "#sk-container-id-2 div.sk-toggleable {\n",
       "  /* Default theme specific background. It is overwritten whether we have a\n",
       "  specific estimator or a Pipeline/ColumnTransformer */\n",
       "  background-color: var(--sklearn-color-background);\n",
       "}\n",
       "\n",
       "/* Toggleable label */\n",
       "#sk-container-id-2 label.sk-toggleable__label {\n",
       "  cursor: pointer;\n",
       "  display: block;\n",
       "  width: 100%;\n",
       "  margin-bottom: 0;\n",
       "  padding: 0.5em;\n",
       "  box-sizing: border-box;\n",
       "  text-align: center;\n",
       "}\n",
       "\n",
       "#sk-container-id-2 label.sk-toggleable__label-arrow:before {\n",
       "  /* Arrow on the left of the label */\n",
       "  content: \"▸\";\n",
       "  float: left;\n",
       "  margin-right: 0.25em;\n",
       "  color: var(--sklearn-color-icon);\n",
       "}\n",
       "\n",
       "#sk-container-id-2 label.sk-toggleable__label-arrow:hover:before {\n",
       "  color: var(--sklearn-color-text);\n",
       "}\n",
       "\n",
       "/* Toggleable content - dropdown */\n",
       "\n",
       "#sk-container-id-2 div.sk-toggleable__content {\n",
       "  max-height: 0;\n",
       "  max-width: 0;\n",
       "  overflow: hidden;\n",
       "  text-align: left;\n",
       "  /* unfitted */\n",
       "  background-color: var(--sklearn-color-unfitted-level-0);\n",
       "}\n",
       "\n",
       "#sk-container-id-2 div.sk-toggleable__content.fitted {\n",
       "  /* fitted */\n",
       "  background-color: var(--sklearn-color-fitted-level-0);\n",
       "}\n",
       "\n",
       "#sk-container-id-2 div.sk-toggleable__content pre {\n",
       "  margin: 0.2em;\n",
       "  border-radius: 0.25em;\n",
       "  color: var(--sklearn-color-text);\n",
       "  /* unfitted */\n",
       "  background-color: var(--sklearn-color-unfitted-level-0);\n",
       "}\n",
       "\n",
       "#sk-container-id-2 div.sk-toggleable__content.fitted pre {\n",
       "  /* unfitted */\n",
       "  background-color: var(--sklearn-color-fitted-level-0);\n",
       "}\n",
       "\n",
       "#sk-container-id-2 input.sk-toggleable__control:checked~div.sk-toggleable__content {\n",
       "  /* Expand drop-down */\n",
       "  max-height: 200px;\n",
       "  max-width: 100%;\n",
       "  overflow: auto;\n",
       "}\n",
       "\n",
       "#sk-container-id-2 input.sk-toggleable__control:checked~label.sk-toggleable__label-arrow:before {\n",
       "  content: \"▾\";\n",
       "}\n",
       "\n",
       "/* Pipeline/ColumnTransformer-specific style */\n",
       "\n",
       "#sk-container-id-2 div.sk-label input.sk-toggleable__control:checked~label.sk-toggleable__label {\n",
       "  color: var(--sklearn-color-text);\n",
       "  background-color: var(--sklearn-color-unfitted-level-2);\n",
       "}\n",
       "\n",
       "#sk-container-id-2 div.sk-label.fitted input.sk-toggleable__control:checked~label.sk-toggleable__label {\n",
       "  background-color: var(--sklearn-color-fitted-level-2);\n",
       "}\n",
       "\n",
       "/* Estimator-specific style */\n",
       "\n",
       "/* Colorize estimator box */\n",
       "#sk-container-id-2 div.sk-estimator input.sk-toggleable__control:checked~label.sk-toggleable__label {\n",
       "  /* unfitted */\n",
       "  background-color: var(--sklearn-color-unfitted-level-2);\n",
       "}\n",
       "\n",
       "#sk-container-id-2 div.sk-estimator.fitted input.sk-toggleable__control:checked~label.sk-toggleable__label {\n",
       "  /* fitted */\n",
       "  background-color: var(--sklearn-color-fitted-level-2);\n",
       "}\n",
       "\n",
       "#sk-container-id-2 div.sk-label label.sk-toggleable__label,\n",
       "#sk-container-id-2 div.sk-label label {\n",
       "  /* The background is the default theme color */\n",
       "  color: var(--sklearn-color-text-on-default-background);\n",
       "}\n",
       "\n",
       "/* On hover, darken the color of the background */\n",
       "#sk-container-id-2 div.sk-label:hover label.sk-toggleable__label {\n",
       "  color: var(--sklearn-color-text);\n",
       "  background-color: var(--sklearn-color-unfitted-level-2);\n",
       "}\n",
       "\n",
       "/* Label box, darken color on hover, fitted */\n",
       "#sk-container-id-2 div.sk-label.fitted:hover label.sk-toggleable__label.fitted {\n",
       "  color: var(--sklearn-color-text);\n",
       "  background-color: var(--sklearn-color-fitted-level-2);\n",
       "}\n",
       "\n",
       "/* Estimator label */\n",
       "\n",
       "#sk-container-id-2 div.sk-label label {\n",
       "  font-family: monospace;\n",
       "  font-weight: bold;\n",
       "  display: inline-block;\n",
       "  line-height: 1.2em;\n",
       "}\n",
       "\n",
       "#sk-container-id-2 div.sk-label-container {\n",
       "  text-align: center;\n",
       "}\n",
       "\n",
       "/* Estimator-specific */\n",
       "#sk-container-id-2 div.sk-estimator {\n",
       "  font-family: monospace;\n",
       "  border: 1px dotted var(--sklearn-color-border-box);\n",
       "  border-radius: 0.25em;\n",
       "  box-sizing: border-box;\n",
       "  margin-bottom: 0.5em;\n",
       "  /* unfitted */\n",
       "  background-color: var(--sklearn-color-unfitted-level-0);\n",
       "}\n",
       "\n",
       "#sk-container-id-2 div.sk-estimator.fitted {\n",
       "  /* fitted */\n",
       "  background-color: var(--sklearn-color-fitted-level-0);\n",
       "}\n",
       "\n",
       "/* on hover */\n",
       "#sk-container-id-2 div.sk-estimator:hover {\n",
       "  /* unfitted */\n",
       "  background-color: var(--sklearn-color-unfitted-level-2);\n",
       "}\n",
       "\n",
       "#sk-container-id-2 div.sk-estimator.fitted:hover {\n",
       "  /* fitted */\n",
       "  background-color: var(--sklearn-color-fitted-level-2);\n",
       "}\n",
       "\n",
       "/* Specification for estimator info (e.g. \"i\" and \"?\") */\n",
       "\n",
       "/* Common style for \"i\" and \"?\" */\n",
       "\n",
       ".sk-estimator-doc-link,\n",
       "a:link.sk-estimator-doc-link,\n",
       "a:visited.sk-estimator-doc-link {\n",
       "  float: right;\n",
       "  font-size: smaller;\n",
       "  line-height: 1em;\n",
       "  font-family: monospace;\n",
       "  background-color: var(--sklearn-color-background);\n",
       "  border-radius: 1em;\n",
       "  height: 1em;\n",
       "  width: 1em;\n",
       "  text-decoration: none !important;\n",
       "  margin-left: 1ex;\n",
       "  /* unfitted */\n",
       "  border: var(--sklearn-color-unfitted-level-1) 1pt solid;\n",
       "  color: var(--sklearn-color-unfitted-level-1);\n",
       "}\n",
       "\n",
       ".sk-estimator-doc-link.fitted,\n",
       "a:link.sk-estimator-doc-link.fitted,\n",
       "a:visited.sk-estimator-doc-link.fitted {\n",
       "  /* fitted */\n",
       "  border: var(--sklearn-color-fitted-level-1) 1pt solid;\n",
       "  color: var(--sklearn-color-fitted-level-1);\n",
       "}\n",
       "\n",
       "/* On hover */\n",
       "div.sk-estimator:hover .sk-estimator-doc-link:hover,\n",
       ".sk-estimator-doc-link:hover,\n",
       "div.sk-label-container:hover .sk-estimator-doc-link:hover,\n",
       ".sk-estimator-doc-link:hover {\n",
       "  /* unfitted */\n",
       "  background-color: var(--sklearn-color-unfitted-level-3);\n",
       "  color: var(--sklearn-color-background);\n",
       "  text-decoration: none;\n",
       "}\n",
       "\n",
       "div.sk-estimator.fitted:hover .sk-estimator-doc-link.fitted:hover,\n",
       ".sk-estimator-doc-link.fitted:hover,\n",
       "div.sk-label-container:hover .sk-estimator-doc-link.fitted:hover,\n",
       ".sk-estimator-doc-link.fitted:hover {\n",
       "  /* fitted */\n",
       "  background-color: var(--sklearn-color-fitted-level-3);\n",
       "  color: var(--sklearn-color-background);\n",
       "  text-decoration: none;\n",
       "}\n",
       "\n",
       "/* Span, style for the box shown on hovering the info icon */\n",
       ".sk-estimator-doc-link span {\n",
       "  display: none;\n",
       "  z-index: 9999;\n",
       "  position: relative;\n",
       "  font-weight: normal;\n",
       "  right: .2ex;\n",
       "  padding: .5ex;\n",
       "  margin: .5ex;\n",
       "  width: min-content;\n",
       "  min-width: 20ex;\n",
       "  max-width: 50ex;\n",
       "  color: var(--sklearn-color-text);\n",
       "  box-shadow: 2pt 2pt 4pt #999;\n",
       "  /* unfitted */\n",
       "  background: var(--sklearn-color-unfitted-level-0);\n",
       "  border: .5pt solid var(--sklearn-color-unfitted-level-3);\n",
       "}\n",
       "\n",
       ".sk-estimator-doc-link.fitted span {\n",
       "  /* fitted */\n",
       "  background: var(--sklearn-color-fitted-level-0);\n",
       "  border: var(--sklearn-color-fitted-level-3);\n",
       "}\n",
       "\n",
       ".sk-estimator-doc-link:hover span {\n",
       "  display: block;\n",
       "}\n",
       "\n",
       "/* \"?\"-specific style due to the `<a>` HTML tag */\n",
       "\n",
       "#sk-container-id-2 a.estimator_doc_link {\n",
       "  float: right;\n",
       "  font-size: 1rem;\n",
       "  line-height: 1em;\n",
       "  font-family: monospace;\n",
       "  background-color: var(--sklearn-color-background);\n",
       "  border-radius: 1rem;\n",
       "  height: 1rem;\n",
       "  width: 1rem;\n",
       "  text-decoration: none;\n",
       "  /* unfitted */\n",
       "  color: var(--sklearn-color-unfitted-level-1);\n",
       "  border: var(--sklearn-color-unfitted-level-1) 1pt solid;\n",
       "}\n",
       "\n",
       "#sk-container-id-2 a.estimator_doc_link.fitted {\n",
       "  /* fitted */\n",
       "  border: var(--sklearn-color-fitted-level-1) 1pt solid;\n",
       "  color: var(--sklearn-color-fitted-level-1);\n",
       "}\n",
       "\n",
       "/* On hover */\n",
       "#sk-container-id-2 a.estimator_doc_link:hover {\n",
       "  /* unfitted */\n",
       "  background-color: var(--sklearn-color-unfitted-level-3);\n",
       "  color: var(--sklearn-color-background);\n",
       "  text-decoration: none;\n",
       "}\n",
       "\n",
       "#sk-container-id-2 a.estimator_doc_link.fitted:hover {\n",
       "  /* fitted */\n",
       "  background-color: var(--sklearn-color-fitted-level-3);\n",
       "}\n",
       "</style><div id=\"sk-container-id-2\" class=\"sk-top-container\"><div class=\"sk-text-repr-fallback\"><pre>RandomizedSearchCV(cv=5,\n",
       "                   estimator=Pipeline(steps=[(&#x27;preprocessor&#x27;,\n",
       "                                              ColumnTransformer(transformers=[(&#x27;num&#x27;,\n",
       "                                                                               Pipeline(steps=[(&#x27;outlier&#x27;,\n",
       "                                                                                                Winsorizer(capping_method=&#x27;iqr&#x27;,\n",
       "                                                                                                           fold=1.5,\n",
       "                                                                                                           tail=&#x27;both&#x27;)),\n",
       "                                                                                               (&#x27;scaler&#x27;,\n",
       "                                                                                                RobustScaler())]),\n",
       "                                                                               [&#x27;cpu_speed&#x27;,\n",
       "                                                                                &#x27;Ram&#x27;,\n",
       "                                                                                &#x27;ppi&#x27;]),\n",
       "                                                                              (&#x27;cat&#x27;,\n",
       "                                                                               OneHotEncoder(handle_unknown=&#x27;ignore&#x27;),\n",
       "                                                                               [&#x27;Company&#x27;,\n",
       "                                                                                &#x27;cpu_brand&#x27;,\n",
       "                                                                                &#x27;memory_type&#x27;,\n",
       "                                                                                &#x27;gpu_brand&#x27;,\n",
       "                                                                                &#x27;OpSys&#x27;]),\n",
       "                                                                              (&#x27;o...\n",
       "                                        &#x27;regressor__min_samples_leaf&#x27;: &lt;scipy.stats._distn_infrastructure.rv_discrete_frozen object at 0x17d9fcd70&gt;,\n",
       "                                        &#x27;regressor__min_samples_split&#x27;: &lt;scipy.stats._distn_infrastructure.rv_discrete_frozen object at 0x17cff4800&gt;,\n",
       "                                        &#x27;regressor__n_estimators&#x27;: &lt;scipy.stats._distn_infrastructure.rv_discrete_frozen object at 0x17cff4ef0&gt;},\n",
       "                   random_state=99,\n",
       "                   scoring=make_scorer(rmse, greater_is_better=False, response_method=&#x27;predict&#x27;))</pre><b>In a Jupyter environment, please rerun this cell to show the HTML representation or trust the notebook. <br />On GitHub, the HTML representation is unable to render, please try loading this page with nbviewer.org.</b></div><div class=\"sk-container\" hidden><div class=\"sk-item sk-dashed-wrapped\"><div class=\"sk-label-container\"><div class=\"sk-label fitted sk-toggleable\"><input class=\"sk-toggleable__control sk-hidden--visually\" id=\"sk-estimator-id-13\" type=\"checkbox\" ><label for=\"sk-estimator-id-13\" class=\"sk-toggleable__label fitted sk-toggleable__label-arrow fitted\">&nbsp;&nbsp;RandomizedSearchCV<a class=\"sk-estimator-doc-link fitted\" rel=\"noreferrer\" target=\"_blank\" href=\"https://scikit-learn.org/1.4/modules/generated/sklearn.model_selection.RandomizedSearchCV.html\">?<span>Documentation for RandomizedSearchCV</span></a><span class=\"sk-estimator-doc-link fitted\">i<span>Fitted</span></span></label><div class=\"sk-toggleable__content fitted\"><pre>RandomizedSearchCV(cv=5,\n",
       "                   estimator=Pipeline(steps=[(&#x27;preprocessor&#x27;,\n",
       "                                              ColumnTransformer(transformers=[(&#x27;num&#x27;,\n",
       "                                                                               Pipeline(steps=[(&#x27;outlier&#x27;,\n",
       "                                                                                                Winsorizer(capping_method=&#x27;iqr&#x27;,\n",
       "                                                                                                           fold=1.5,\n",
       "                                                                                                           tail=&#x27;both&#x27;)),\n",
       "                                                                                               (&#x27;scaler&#x27;,\n",
       "                                                                                                RobustScaler())]),\n",
       "                                                                               [&#x27;cpu_speed&#x27;,\n",
       "                                                                                &#x27;Ram&#x27;,\n",
       "                                                                                &#x27;ppi&#x27;]),\n",
       "                                                                              (&#x27;cat&#x27;,\n",
       "                                                                               OneHotEncoder(handle_unknown=&#x27;ignore&#x27;),\n",
       "                                                                               [&#x27;Company&#x27;,\n",
       "                                                                                &#x27;cpu_brand&#x27;,\n",
       "                                                                                &#x27;memory_type&#x27;,\n",
       "                                                                                &#x27;gpu_brand&#x27;,\n",
       "                                                                                &#x27;OpSys&#x27;]),\n",
       "                                                                              (&#x27;o...\n",
       "                                        &#x27;regressor__min_samples_leaf&#x27;: &lt;scipy.stats._distn_infrastructure.rv_discrete_frozen object at 0x17d9fcd70&gt;,\n",
       "                                        &#x27;regressor__min_samples_split&#x27;: &lt;scipy.stats._distn_infrastructure.rv_discrete_frozen object at 0x17cff4800&gt;,\n",
       "                                        &#x27;regressor__n_estimators&#x27;: &lt;scipy.stats._distn_infrastructure.rv_discrete_frozen object at 0x17cff4ef0&gt;},\n",
       "                   random_state=99,\n",
       "                   scoring=make_scorer(rmse, greater_is_better=False, response_method=&#x27;predict&#x27;))</pre></div> </div></div><div class=\"sk-parallel\"><div class=\"sk-parallel-item\"><div class=\"sk-item\"><div class=\"sk-label-container\"><div class=\"sk-label fitted sk-toggleable\"><input class=\"sk-toggleable__control sk-hidden--visually\" id=\"sk-estimator-id-14\" type=\"checkbox\" ><label for=\"sk-estimator-id-14\" class=\"sk-toggleable__label fitted sk-toggleable__label-arrow fitted\">estimator: Pipeline</label><div class=\"sk-toggleable__content fitted\"><pre>Pipeline(steps=[(&#x27;preprocessor&#x27;,\n",
       "                 ColumnTransformer(transformers=[(&#x27;num&#x27;,\n",
       "                                                  Pipeline(steps=[(&#x27;outlier&#x27;,\n",
       "                                                                   Winsorizer(capping_method=&#x27;iqr&#x27;,\n",
       "                                                                              fold=1.5,\n",
       "                                                                              tail=&#x27;both&#x27;)),\n",
       "                                                                  (&#x27;scaler&#x27;,\n",
       "                                                                   RobustScaler())]),\n",
       "                                                  [&#x27;cpu_speed&#x27;, &#x27;Ram&#x27;, &#x27;ppi&#x27;]),\n",
       "                                                 (&#x27;cat&#x27;,\n",
       "                                                  OneHotEncoder(handle_unknown=&#x27;ignore&#x27;),\n",
       "                                                  [&#x27;Company&#x27;, &#x27;cpu_brand&#x27;,\n",
       "                                                   &#x27;memory_type&#x27;, &#x27;gpu_brand&#x27;,\n",
       "                                                   &#x27;OpSys&#x27;]),\n",
       "                                                 (&#x27;ord&#x27;, OrdinalEncoder(),\n",
       "                                                  [&#x27;cpu_performance&#x27;]),\n",
       "                                                 (&#x27;minmax&#x27;, MinMaxScaler(),\n",
       "                                                  [&#x27;ips_panel&#x27;, &#x27;touchscreen&#x27;,\n",
       "                                                   &#x27;secondary_storage&#x27;,\n",
       "                                                   &#x27;resolution_width&#x27;,\n",
       "                                                   &#x27;resolution_height&#x27;])])),\n",
       "                (&#x27;regressor&#x27;, RandomForestRegressor())])</pre></div> </div></div><div class=\"sk-serial\"><div class=\"sk-item\"><div class=\"sk-serial\"><div class=\"sk-item sk-dashed-wrapped\"><div class=\"sk-label-container\"><div class=\"sk-label fitted sk-toggleable\"><input class=\"sk-toggleable__control sk-hidden--visually\" id=\"sk-estimator-id-15\" type=\"checkbox\" ><label for=\"sk-estimator-id-15\" class=\"sk-toggleable__label fitted sk-toggleable__label-arrow fitted\">&nbsp;preprocessor: ColumnTransformer<a class=\"sk-estimator-doc-link fitted\" rel=\"noreferrer\" target=\"_blank\" href=\"https://scikit-learn.org/1.4/modules/generated/sklearn.compose.ColumnTransformer.html\">?<span>Documentation for preprocessor: ColumnTransformer</span></a></label><div class=\"sk-toggleable__content fitted\"><pre>ColumnTransformer(transformers=[(&#x27;num&#x27;,\n",
       "                                 Pipeline(steps=[(&#x27;outlier&#x27;,\n",
       "                                                  Winsorizer(capping_method=&#x27;iqr&#x27;,\n",
       "                                                             fold=1.5,\n",
       "                                                             tail=&#x27;both&#x27;)),\n",
       "                                                 (&#x27;scaler&#x27;, RobustScaler())]),\n",
       "                                 [&#x27;cpu_speed&#x27;, &#x27;Ram&#x27;, &#x27;ppi&#x27;]),\n",
       "                                (&#x27;cat&#x27;, OneHotEncoder(handle_unknown=&#x27;ignore&#x27;),\n",
       "                                 [&#x27;Company&#x27;, &#x27;cpu_brand&#x27;, &#x27;memory_type&#x27;,\n",
       "                                  &#x27;gpu_brand&#x27;, &#x27;OpSys&#x27;]),\n",
       "                                (&#x27;ord&#x27;, OrdinalEncoder(), [&#x27;cpu_performance&#x27;]),\n",
       "                                (&#x27;minmax&#x27;, MinMaxScaler(),\n",
       "                                 [&#x27;ips_panel&#x27;, &#x27;touchscreen&#x27;,\n",
       "                                  &#x27;secondary_storage&#x27;, &#x27;resolution_width&#x27;,\n",
       "                                  &#x27;resolution_height&#x27;])])</pre></div> </div></div><div class=\"sk-parallel\"><div class=\"sk-parallel-item\"><div class=\"sk-item\"><div class=\"sk-label-container\"><div class=\"sk-label fitted sk-toggleable\"><input class=\"sk-toggleable__control sk-hidden--visually\" id=\"sk-estimator-id-16\" type=\"checkbox\" ><label for=\"sk-estimator-id-16\" class=\"sk-toggleable__label fitted sk-toggleable__label-arrow fitted\">num</label><div class=\"sk-toggleable__content fitted\"><pre>[&#x27;cpu_speed&#x27;, &#x27;Ram&#x27;, &#x27;ppi&#x27;]</pre></div> </div></div><div class=\"sk-serial\"><div class=\"sk-item\"><div class=\"sk-serial\"><div class=\"sk-item\"><div class=\"sk-estimator fitted sk-toggleable\"><input class=\"sk-toggleable__control sk-hidden--visually\" id=\"sk-estimator-id-17\" type=\"checkbox\" ><label for=\"sk-estimator-id-17\" class=\"sk-toggleable__label fitted sk-toggleable__label-arrow fitted\">Winsorizer</label><div class=\"sk-toggleable__content fitted\"><pre>Winsorizer(capping_method=&#x27;iqr&#x27;, fold=1.5, tail=&#x27;both&#x27;)</pre></div> </div></div><div class=\"sk-item\"><div class=\"sk-estimator fitted sk-toggleable\"><input class=\"sk-toggleable__control sk-hidden--visually\" id=\"sk-estimator-id-18\" type=\"checkbox\" ><label for=\"sk-estimator-id-18\" class=\"sk-toggleable__label fitted sk-toggleable__label-arrow fitted\">&nbsp;RobustScaler<a class=\"sk-estimator-doc-link fitted\" rel=\"noreferrer\" target=\"_blank\" href=\"https://scikit-learn.org/1.4/modules/generated/sklearn.preprocessing.RobustScaler.html\">?<span>Documentation for RobustScaler</span></a></label><div class=\"sk-toggleable__content fitted\"><pre>RobustScaler()</pre></div> </div></div></div></div></div></div></div><div class=\"sk-parallel-item\"><div class=\"sk-item\"><div class=\"sk-label-container\"><div class=\"sk-label fitted sk-toggleable\"><input class=\"sk-toggleable__control sk-hidden--visually\" id=\"sk-estimator-id-19\" type=\"checkbox\" ><label for=\"sk-estimator-id-19\" class=\"sk-toggleable__label fitted sk-toggleable__label-arrow fitted\">cat</label><div class=\"sk-toggleable__content fitted\"><pre>[&#x27;Company&#x27;, &#x27;cpu_brand&#x27;, &#x27;memory_type&#x27;, &#x27;gpu_brand&#x27;, &#x27;OpSys&#x27;]</pre></div> </div></div><div class=\"sk-serial\"><div class=\"sk-item\"><div class=\"sk-estimator fitted sk-toggleable\"><input class=\"sk-toggleable__control sk-hidden--visually\" id=\"sk-estimator-id-20\" type=\"checkbox\" ><label for=\"sk-estimator-id-20\" class=\"sk-toggleable__label fitted sk-toggleable__label-arrow fitted\">&nbsp;OneHotEncoder<a class=\"sk-estimator-doc-link fitted\" rel=\"noreferrer\" target=\"_blank\" href=\"https://scikit-learn.org/1.4/modules/generated/sklearn.preprocessing.OneHotEncoder.html\">?<span>Documentation for OneHotEncoder</span></a></label><div class=\"sk-toggleable__content fitted\"><pre>OneHotEncoder(handle_unknown=&#x27;ignore&#x27;)</pre></div> </div></div></div></div></div><div class=\"sk-parallel-item\"><div class=\"sk-item\"><div class=\"sk-label-container\"><div class=\"sk-label fitted sk-toggleable\"><input class=\"sk-toggleable__control sk-hidden--visually\" id=\"sk-estimator-id-21\" type=\"checkbox\" ><label for=\"sk-estimator-id-21\" class=\"sk-toggleable__label fitted sk-toggleable__label-arrow fitted\">ord</label><div class=\"sk-toggleable__content fitted\"><pre>[&#x27;cpu_performance&#x27;]</pre></div> </div></div><div class=\"sk-serial\"><div class=\"sk-item\"><div class=\"sk-estimator fitted sk-toggleable\"><input class=\"sk-toggleable__control sk-hidden--visually\" id=\"sk-estimator-id-22\" type=\"checkbox\" ><label for=\"sk-estimator-id-22\" class=\"sk-toggleable__label fitted sk-toggleable__label-arrow fitted\">&nbsp;OrdinalEncoder<a class=\"sk-estimator-doc-link fitted\" rel=\"noreferrer\" target=\"_blank\" href=\"https://scikit-learn.org/1.4/modules/generated/sklearn.preprocessing.OrdinalEncoder.html\">?<span>Documentation for OrdinalEncoder</span></a></label><div class=\"sk-toggleable__content fitted\"><pre>OrdinalEncoder()</pre></div> </div></div></div></div></div><div class=\"sk-parallel-item\"><div class=\"sk-item\"><div class=\"sk-label-container\"><div class=\"sk-label fitted sk-toggleable\"><input class=\"sk-toggleable__control sk-hidden--visually\" id=\"sk-estimator-id-23\" type=\"checkbox\" ><label for=\"sk-estimator-id-23\" class=\"sk-toggleable__label fitted sk-toggleable__label-arrow fitted\">minmax</label><div class=\"sk-toggleable__content fitted\"><pre>[&#x27;ips_panel&#x27;, &#x27;touchscreen&#x27;, &#x27;secondary_storage&#x27;, &#x27;resolution_width&#x27;, &#x27;resolution_height&#x27;]</pre></div> </div></div><div class=\"sk-serial\"><div class=\"sk-item\"><div class=\"sk-estimator fitted sk-toggleable\"><input class=\"sk-toggleable__control sk-hidden--visually\" id=\"sk-estimator-id-24\" type=\"checkbox\" ><label for=\"sk-estimator-id-24\" class=\"sk-toggleable__label fitted sk-toggleable__label-arrow fitted\">&nbsp;MinMaxScaler<a class=\"sk-estimator-doc-link fitted\" rel=\"noreferrer\" target=\"_blank\" href=\"https://scikit-learn.org/1.4/modules/generated/sklearn.preprocessing.MinMaxScaler.html\">?<span>Documentation for MinMaxScaler</span></a></label><div class=\"sk-toggleable__content fitted\"><pre>MinMaxScaler()</pre></div> </div></div></div></div></div></div></div><div class=\"sk-item\"><div class=\"sk-estimator fitted sk-toggleable\"><input class=\"sk-toggleable__control sk-hidden--visually\" id=\"sk-estimator-id-25\" type=\"checkbox\" ><label for=\"sk-estimator-id-25\" class=\"sk-toggleable__label fitted sk-toggleable__label-arrow fitted\">&nbsp;RandomForestRegressor<a class=\"sk-estimator-doc-link fitted\" rel=\"noreferrer\" target=\"_blank\" href=\"https://scikit-learn.org/1.4/modules/generated/sklearn.ensemble.RandomForestRegressor.html\">?<span>Documentation for RandomForestRegressor</span></a></label><div class=\"sk-toggleable__content fitted\"><pre>RandomForestRegressor()</pre></div> </div></div></div></div></div></div></div></div></div></div></div>"
      ],
      "text/plain": [
       "RandomizedSearchCV(cv=5,\n",
       "                   estimator=Pipeline(steps=[('preprocessor',\n",
       "                                              ColumnTransformer(transformers=[('num',\n",
       "                                                                               Pipeline(steps=[('outlier',\n",
       "                                                                                                Winsorizer(capping_method='iqr',\n",
       "                                                                                                           fold=1.5,\n",
       "                                                                                                           tail='both')),\n",
       "                                                                                               ('scaler',\n",
       "                                                                                                RobustScaler())]),\n",
       "                                                                               ['cpu_speed',\n",
       "                                                                                'Ram',\n",
       "                                                                                'ppi']),\n",
       "                                                                              ('cat',\n",
       "                                                                               OneHotEncoder(handle_unknown='ignore'),\n",
       "                                                                               ['Company',\n",
       "                                                                                'cpu_brand',\n",
       "                                                                                'memory_type',\n",
       "                                                                                'gpu_brand',\n",
       "                                                                                'OpSys']),\n",
       "                                                                              ('o...\n",
       "                                        'regressor__min_samples_leaf': <scipy.stats._distn_infrastructure.rv_discrete_frozen object at 0x17d9fcd70>,\n",
       "                                        'regressor__min_samples_split': <scipy.stats._distn_infrastructure.rv_discrete_frozen object at 0x17cff4800>,\n",
       "                                        'regressor__n_estimators': <scipy.stats._distn_infrastructure.rv_discrete_frozen object at 0x17cff4ef0>},\n",
       "                   random_state=99,\n",
       "                   scoring=make_scorer(rmse, greater_is_better=False, response_method='predict'))"
      ]
     },
     "execution_count": 46,
     "metadata": {},
     "output_type": "execute_result"
    }
   ],
   "source": [
    "# Menggabungkan preprocessing dengan RandomForestRegressor dalam sebuah Pipeline\n",
    "pipe_randomcv = Pipeline(steps=[\n",
    "    ('preprocessor', preprocessor),\n",
    "    ('regressor', RandomForestRegressor())\n",
    "])\n",
    "\n",
    "# Mendefinisikan penilai RMSE kustom\n",
    "def rmse(y_true, y_pred):\n",
    "    return np.sqrt(mean_squared_error(y_true, y_pred))\n",
    "\n",
    "custom_rmse_scorer = make_scorer(rmse, greater_is_better=False)\n",
    "\n",
    "# Mendefinisikan rentang hyperparameter untuk RandomForestRegressor\n",
    "param_dist_rforest = {\n",
    "    'regressor__n_estimators': randint(20, 200),  # Jumlah pohon dalam hutan\n",
    "    'regressor__max_leaf_nodes': randint(10, 50),  # Jumlah maksimum simpul daun dalam setiap pohon\n",
    "    'regressor__max_depth': randint(10, 50),  # Kedalaman maksimum dari pohon\n",
    "    'regressor__min_samples_split': randint(2, 10),  # Minimum sampel yang dibutuhkan untuk membagi node internal\n",
    "    'regressor__min_samples_leaf': randint(1, 10)  # Minimum sampel yang dibutuhkan untuk menjadi simpul daun\n",
    "}\n",
    "\n",
    "# Melakukan Randomized Search pada pipeline\n",
    "rforest_randomcv = RandomizedSearchCV(estimator=pipe_randomcv,\n",
    "                                      param_distributions=param_dist_rforest,\n",
    "                                      n_iter=20,\n",
    "                                      cv=5,\n",
    "                                      random_state=99,\n",
    "                                      scoring= custom_rmse_scorer,\n",
    "                                      n_jobs=-1)\n",
    "\n",
    "# Melatih model\n",
    "rforest_randomcv.fit(X_train, y_train)\n"
   ]
  },
  {
   "cell_type": "code",
   "execution_count": 47,
   "metadata": {},
   "outputs": [
    {
     "data": {
      "text/plain": [
       "{'regressor__max_depth': 37,\n",
       " 'regressor__max_leaf_nodes': 47,\n",
       " 'regressor__min_samples_leaf': 1,\n",
       " 'regressor__min_samples_split': 5,\n",
       " 'regressor__n_estimators': 155}"
      ]
     },
     "execution_count": 47,
     "metadata": {},
     "output_type": "execute_result"
    }
   ],
   "source": [
    "rforest_randomcv.best_params_"
   ]
  },
  {
   "cell_type": "markdown",
   "metadata": {},
   "source": [
    "didapatkan hyperparameter terbaik hasil dari random search<br>\n",
    "max_depth = 37, max_leaf_nodes = 47 , min_samples_leaf = 1 , min_samples_split = 5 , n_estimators = 155 <br>\n",
    "hyperparameter terbaik ini yang akan dipakai oleh model random forest regressor "
   ]
  },
  {
   "cell_type": "code",
   "execution_count": 48,
   "metadata": {},
   "outputs": [
    {
     "data": {
      "text/plain": [
       "make_scorer(rmse, greater_is_better=False, response_method='predict')"
      ]
     },
     "execution_count": 48,
     "metadata": {},
     "output_type": "execute_result"
    }
   ],
   "source": [
    "rforest_randomcv.scorer_"
   ]
  },
  {
   "cell_type": "code",
   "execution_count": 49,
   "metadata": {},
   "outputs": [
    {
     "data": {
      "text/plain": [
       "-191.56264272795823"
      ]
     },
     "execution_count": 49,
     "metadata": {},
     "output_type": "execute_result"
    }
   ],
   "source": [
    "rforest_randomcv.best_score_"
   ]
  },
  {
   "cell_type": "code",
   "execution_count": 50,
   "metadata": {},
   "outputs": [
    {
     "data": {
      "text/html": [
       "<div>\n",
       "<style scoped>\n",
       "    .dataframe tbody tr th:only-of-type {\n",
       "        vertical-align: middle;\n",
       "    }\n",
       "\n",
       "    .dataframe tbody tr th {\n",
       "        vertical-align: top;\n",
       "    }\n",
       "\n",
       "    .dataframe thead th {\n",
       "        text-align: right;\n",
       "    }\n",
       "</style>\n",
       "<table border=\"1\" class=\"dataframe\">\n",
       "  <thead>\n",
       "    <tr style=\"text-align: right;\">\n",
       "      <th></th>\n",
       "      <th>mean_fit_time</th>\n",
       "      <th>std_fit_time</th>\n",
       "      <th>mean_score_time</th>\n",
       "      <th>std_score_time</th>\n",
       "      <th>param_regressor__max_depth</th>\n",
       "      <th>param_regressor__max_leaf_nodes</th>\n",
       "      <th>param_regressor__min_samples_leaf</th>\n",
       "      <th>param_regressor__min_samples_split</th>\n",
       "      <th>param_regressor__n_estimators</th>\n",
       "      <th>params</th>\n",
       "      <th>split0_test_score</th>\n",
       "      <th>split1_test_score</th>\n",
       "      <th>split2_test_score</th>\n",
       "      <th>split3_test_score</th>\n",
       "      <th>split4_test_score</th>\n",
       "      <th>mean_test_score</th>\n",
       "      <th>std_test_score</th>\n",
       "      <th>rank_test_score</th>\n",
       "    </tr>\n",
       "  </thead>\n",
       "  <tbody>\n",
       "    <tr>\n",
       "      <th>0</th>\n",
       "      <td>0.184660</td>\n",
       "      <td>0.012636</td>\n",
       "      <td>0.016349</td>\n",
       "      <td>0.007713</td>\n",
       "      <td>11</td>\n",
       "      <td>45</td>\n",
       "      <td>9</td>\n",
       "      <td>3</td>\n",
       "      <td>88</td>\n",
       "      <td>{'regressor__max_depth': 11, 'regressor__max_l...</td>\n",
       "      <td>-173.019739</td>\n",
       "      <td>-180.946088</td>\n",
       "      <td>-199.387471</td>\n",
       "      <td>-263.324150</td>\n",
       "      <td>-227.425387</td>\n",
       "      <td>-208.820567</td>\n",
       "      <td>33.058884</td>\n",
       "      <td>15</td>\n",
       "    </tr>\n",
       "    <tr>\n",
       "      <th>1</th>\n",
       "      <td>0.118967</td>\n",
       "      <td>0.031557</td>\n",
       "      <td>0.013554</td>\n",
       "      <td>0.006237</td>\n",
       "      <td>15</td>\n",
       "      <td>11</td>\n",
       "      <td>8</td>\n",
       "      <td>8</td>\n",
       "      <td>55</td>\n",
       "      <td>{'regressor__max_depth': 15, 'regressor__max_l...</td>\n",
       "      <td>-179.129723</td>\n",
       "      <td>-194.302047</td>\n",
       "      <td>-205.887157</td>\n",
       "      <td>-274.863042</td>\n",
       "      <td>-238.854177</td>\n",
       "      <td>-218.607229</td>\n",
       "      <td>34.309389</td>\n",
       "      <td>19</td>\n",
       "    </tr>\n",
       "    <tr>\n",
       "      <th>2</th>\n",
       "      <td>0.435931</td>\n",
       "      <td>0.029272</td>\n",
       "      <td>0.027099</td>\n",
       "      <td>0.005665</td>\n",
       "      <td>11</td>\n",
       "      <td>39</td>\n",
       "      <td>7</td>\n",
       "      <td>5</td>\n",
       "      <td>150</td>\n",
       "      <td>{'regressor__max_depth': 11, 'regressor__max_l...</td>\n",
       "      <td>-175.535873</td>\n",
       "      <td>-179.687743</td>\n",
       "      <td>-198.874162</td>\n",
       "      <td>-252.787448</td>\n",
       "      <td>-214.735906</td>\n",
       "      <td>-204.324226</td>\n",
       "      <td>28.008983</td>\n",
       "      <td>10</td>\n",
       "    </tr>\n",
       "    <tr>\n",
       "      <th>3</th>\n",
       "      <td>0.126530</td>\n",
       "      <td>0.029133</td>\n",
       "      <td>0.018094</td>\n",
       "      <td>0.012320</td>\n",
       "      <td>10</td>\n",
       "      <td>22</td>\n",
       "      <td>9</td>\n",
       "      <td>2</td>\n",
       "      <td>40</td>\n",
       "      <td>{'regressor__max_depth': 10, 'regressor__max_l...</td>\n",
       "      <td>-173.018427</td>\n",
       "      <td>-182.350876</td>\n",
       "      <td>-199.395983</td>\n",
       "      <td>-264.583349</td>\n",
       "      <td>-230.950093</td>\n",
       "      <td>-210.059746</td>\n",
       "      <td>33.653489</td>\n",
       "      <td>16</td>\n",
       "    </tr>\n",
       "    <tr>\n",
       "      <th>4</th>\n",
       "      <td>0.158188</td>\n",
       "      <td>0.013445</td>\n",
       "      <td>0.009916</td>\n",
       "      <td>0.002402</td>\n",
       "      <td>49</td>\n",
       "      <td>25</td>\n",
       "      <td>6</td>\n",
       "      <td>8</td>\n",
       "      <td>82</td>\n",
       "      <td>{'regressor__max_depth': 49, 'regressor__max_l...</td>\n",
       "      <td>-175.179932</td>\n",
       "      <td>-186.812121</td>\n",
       "      <td>-199.535614</td>\n",
       "      <td>-255.792382</td>\n",
       "      <td>-212.707418</td>\n",
       "      <td>-206.005493</td>\n",
       "      <td>27.871527</td>\n",
       "      <td>13</td>\n",
       "    </tr>\n",
       "    <tr>\n",
       "      <th>5</th>\n",
       "      <td>0.324005</td>\n",
       "      <td>0.032239</td>\n",
       "      <td>0.013706</td>\n",
       "      <td>0.004852</td>\n",
       "      <td>27</td>\n",
       "      <td>19</td>\n",
       "      <td>1</td>\n",
       "      <td>7</td>\n",
       "      <td>189</td>\n",
       "      <td>{'regressor__max_depth': 27, 'regressor__max_l...</td>\n",
       "      <td>-176.459817</td>\n",
       "      <td>-189.008852</td>\n",
       "      <td>-201.510324</td>\n",
       "      <td>-245.909836</td>\n",
       "      <td>-198.117476</td>\n",
       "      <td>-202.201261</td>\n",
       "      <td>23.512787</td>\n",
       "      <td>7</td>\n",
       "    </tr>\n",
       "    <tr>\n",
       "      <th>6</th>\n",
       "      <td>0.338002</td>\n",
       "      <td>0.017322</td>\n",
       "      <td>0.011911</td>\n",
       "      <td>0.001731</td>\n",
       "      <td>45</td>\n",
       "      <td>29</td>\n",
       "      <td>7</td>\n",
       "      <td>4</td>\n",
       "      <td>198</td>\n",
       "      <td>{'regressor__max_depth': 45, 'regressor__max_l...</td>\n",
       "      <td>-175.271095</td>\n",
       "      <td>-183.105130</td>\n",
       "      <td>-198.382444</td>\n",
       "      <td>-254.404996</td>\n",
       "      <td>-216.928166</td>\n",
       "      <td>-205.618366</td>\n",
       "      <td>28.242550</td>\n",
       "      <td>12</td>\n",
       "    </tr>\n",
       "    <tr>\n",
       "      <th>7</th>\n",
       "      <td>0.047356</td>\n",
       "      <td>0.006335</td>\n",
       "      <td>0.007874</td>\n",
       "      <td>0.004034</td>\n",
       "      <td>15</td>\n",
       "      <td>22</td>\n",
       "      <td>1</td>\n",
       "      <td>6</td>\n",
       "      <td>21</td>\n",
       "      <td>{'regressor__max_depth': 15, 'regressor__max_l...</td>\n",
       "      <td>-174.990674</td>\n",
       "      <td>-185.963176</td>\n",
       "      <td>-204.273563</td>\n",
       "      <td>-245.823075</td>\n",
       "      <td>-183.827010</td>\n",
       "      <td>-198.975500</td>\n",
       "      <td>25.285703</td>\n",
       "      <td>3</td>\n",
       "    </tr>\n",
       "    <tr>\n",
       "      <th>8</th>\n",
       "      <td>0.233474</td>\n",
       "      <td>0.013467</td>\n",
       "      <td>0.011268</td>\n",
       "      <td>0.002666</td>\n",
       "      <td>21</td>\n",
       "      <td>21</td>\n",
       "      <td>2</td>\n",
       "      <td>3</td>\n",
       "      <td>143</td>\n",
       "      <td>{'regressor__max_depth': 21, 'regressor__max_l...</td>\n",
       "      <td>-174.287672</td>\n",
       "      <td>-189.153601</td>\n",
       "      <td>-202.116189</td>\n",
       "      <td>-244.395471</td>\n",
       "      <td>-191.804800</td>\n",
       "      <td>-200.351547</td>\n",
       "      <td>23.751832</td>\n",
       "      <td>5</td>\n",
       "    </tr>\n",
       "    <tr>\n",
       "      <th>9</th>\n",
       "      <td>0.219827</td>\n",
       "      <td>0.015533</td>\n",
       "      <td>0.012825</td>\n",
       "      <td>0.004528</td>\n",
       "      <td>43</td>\n",
       "      <td>22</td>\n",
       "      <td>4</td>\n",
       "      <td>2</td>\n",
       "      <td>134</td>\n",
       "      <td>{'regressor__max_depth': 43, 'regressor__max_l...</td>\n",
       "      <td>-174.510349</td>\n",
       "      <td>-184.791101</td>\n",
       "      <td>-203.551257</td>\n",
       "      <td>-252.253129</td>\n",
       "      <td>-206.873817</td>\n",
       "      <td>-204.395931</td>\n",
       "      <td>26.738220</td>\n",
       "      <td>11</td>\n",
       "    </tr>\n",
       "    <tr>\n",
       "      <th>10</th>\n",
       "      <td>0.053378</td>\n",
       "      <td>0.005447</td>\n",
       "      <td>0.009782</td>\n",
       "      <td>0.004584</td>\n",
       "      <td>21</td>\n",
       "      <td>10</td>\n",
       "      <td>8</td>\n",
       "      <td>7</td>\n",
       "      <td>31</td>\n",
       "      <td>{'regressor__max_depth': 21, 'regressor__max_l...</td>\n",
       "      <td>-184.060583</td>\n",
       "      <td>-194.003908</td>\n",
       "      <td>-207.976411</td>\n",
       "      <td>-277.787464</td>\n",
       "      <td>-231.265566</td>\n",
       "      <td>-219.018786</td>\n",
       "      <td>33.387109</td>\n",
       "      <td>20</td>\n",
       "    </tr>\n",
       "    <tr>\n",
       "      <th>11</th>\n",
       "      <td>0.154473</td>\n",
       "      <td>0.024836</td>\n",
       "      <td>0.007708</td>\n",
       "      <td>0.002638</td>\n",
       "      <td>45</td>\n",
       "      <td>48</td>\n",
       "      <td>1</td>\n",
       "      <td>4</td>\n",
       "      <td>79</td>\n",
       "      <td>{'regressor__max_depth': 45, 'regressor__max_l...</td>\n",
       "      <td>-166.957304</td>\n",
       "      <td>-186.984564</td>\n",
       "      <td>-196.481792</td>\n",
       "      <td>-233.722238</td>\n",
       "      <td>-182.540251</td>\n",
       "      <td>-193.337230</td>\n",
       "      <td>22.332348</td>\n",
       "      <td>2</td>\n",
       "    </tr>\n",
       "    <tr>\n",
       "      <th>12</th>\n",
       "      <td>0.246277</td>\n",
       "      <td>0.032200</td>\n",
       "      <td>0.017567</td>\n",
       "      <td>0.007205</td>\n",
       "      <td>29</td>\n",
       "      <td>28</td>\n",
       "      <td>9</td>\n",
       "      <td>5</td>\n",
       "      <td>142</td>\n",
       "      <td>{'regressor__max_depth': 29, 'regressor__max_l...</td>\n",
       "      <td>-173.125955</td>\n",
       "      <td>-180.295501</td>\n",
       "      <td>-197.804529</td>\n",
       "      <td>-259.926099</td>\n",
       "      <td>-231.015214</td>\n",
       "      <td>-208.433460</td>\n",
       "      <td>32.596829</td>\n",
       "      <td>14</td>\n",
       "    </tr>\n",
       "    <tr>\n",
       "      <th>13</th>\n",
       "      <td>0.284213</td>\n",
       "      <td>0.019809</td>\n",
       "      <td>0.014447</td>\n",
       "      <td>0.006402</td>\n",
       "      <td>45</td>\n",
       "      <td>39</td>\n",
       "      <td>6</td>\n",
       "      <td>3</td>\n",
       "      <td>128</td>\n",
       "      <td>{'regressor__max_depth': 45, 'regressor__max_l...</td>\n",
       "      <td>-177.647919</td>\n",
       "      <td>-182.699669</td>\n",
       "      <td>-197.536261</td>\n",
       "      <td>-252.232238</td>\n",
       "      <td>-208.367526</td>\n",
       "      <td>-203.696723</td>\n",
       "      <td>26.589022</td>\n",
       "      <td>9</td>\n",
       "    </tr>\n",
       "    <tr>\n",
       "      <th>14</th>\n",
       "      <td>0.222523</td>\n",
       "      <td>0.021710</td>\n",
       "      <td>0.013633</td>\n",
       "      <td>0.006356</td>\n",
       "      <td>46</td>\n",
       "      <td>43</td>\n",
       "      <td>5</td>\n",
       "      <td>3</td>\n",
       "      <td>107</td>\n",
       "      <td>{'regressor__max_depth': 46, 'regressor__max_l...</td>\n",
       "      <td>-173.244124</td>\n",
       "      <td>-180.627935</td>\n",
       "      <td>-199.412164</td>\n",
       "      <td>-247.210085</td>\n",
       "      <td>-207.901593</td>\n",
       "      <td>-201.679180</td>\n",
       "      <td>25.956226</td>\n",
       "      <td>6</td>\n",
       "    </tr>\n",
       "    <tr>\n",
       "      <th>15</th>\n",
       "      <td>0.111692</td>\n",
       "      <td>0.010630</td>\n",
       "      <td>0.008652</td>\n",
       "      <td>0.002232</td>\n",
       "      <td>40</td>\n",
       "      <td>37</td>\n",
       "      <td>6</td>\n",
       "      <td>9</td>\n",
       "      <td>62</td>\n",
       "      <td>{'regressor__max_depth': 40, 'regressor__max_l...</td>\n",
       "      <td>-175.637796</td>\n",
       "      <td>-184.342225</td>\n",
       "      <td>-199.879087</td>\n",
       "      <td>-250.317544</td>\n",
       "      <td>-207.547517</td>\n",
       "      <td>-203.544834</td>\n",
       "      <td>25.941043</td>\n",
       "      <td>8</td>\n",
       "    </tr>\n",
       "    <tr>\n",
       "      <th>16</th>\n",
       "      <td>0.433340</td>\n",
       "      <td>0.021562</td>\n",
       "      <td>0.014617</td>\n",
       "      <td>0.003324</td>\n",
       "      <td>37</td>\n",
       "      <td>47</td>\n",
       "      <td>1</td>\n",
       "      <td>5</td>\n",
       "      <td>155</td>\n",
       "      <td>{'regressor__max_depth': 37, 'regressor__max_l...</td>\n",
       "      <td>-165.447835</td>\n",
       "      <td>-182.757111</td>\n",
       "      <td>-196.579403</td>\n",
       "      <td>-231.479486</td>\n",
       "      <td>-181.549380</td>\n",
       "      <td>-191.562643</td>\n",
       "      <td>22.263460</td>\n",
       "      <td>1</td>\n",
       "    </tr>\n",
       "    <tr>\n",
       "      <th>17</th>\n",
       "      <td>0.297033</td>\n",
       "      <td>0.040901</td>\n",
       "      <td>0.016806</td>\n",
       "      <td>0.006548</td>\n",
       "      <td>38</td>\n",
       "      <td>15</td>\n",
       "      <td>8</td>\n",
       "      <td>9</td>\n",
       "      <td>140</td>\n",
       "      <td>{'regressor__max_depth': 38, 'regressor__max_l...</td>\n",
       "      <td>-176.740200</td>\n",
       "      <td>-188.492151</td>\n",
       "      <td>-202.381300</td>\n",
       "      <td>-266.823308</td>\n",
       "      <td>-233.089945</td>\n",
       "      <td>-213.505381</td>\n",
       "      <td>32.641819</td>\n",
       "      <td>18</td>\n",
       "    </tr>\n",
       "    <tr>\n",
       "      <th>18</th>\n",
       "      <td>0.403761</td>\n",
       "      <td>0.035243</td>\n",
       "      <td>0.022023</td>\n",
       "      <td>0.010603</td>\n",
       "      <td>24</td>\n",
       "      <td>44</td>\n",
       "      <td>4</td>\n",
       "      <td>6</td>\n",
       "      <td>180</td>\n",
       "      <td>{'regressor__max_depth': 24, 'regressor__max_l...</td>\n",
       "      <td>-170.121373</td>\n",
       "      <td>-181.967508</td>\n",
       "      <td>-197.033502</td>\n",
       "      <td>-242.783010</td>\n",
       "      <td>-204.361751</td>\n",
       "      <td>-199.253429</td>\n",
       "      <td>24.792447</td>\n",
       "      <td>4</td>\n",
       "    </tr>\n",
       "    <tr>\n",
       "      <th>19</th>\n",
       "      <td>0.274998</td>\n",
       "      <td>0.048582</td>\n",
       "      <td>0.012370</td>\n",
       "      <td>0.004592</td>\n",
       "      <td>37</td>\n",
       "      <td>10</td>\n",
       "      <td>1</td>\n",
       "      <td>2</td>\n",
       "      <td>165</td>\n",
       "      <td>{'regressor__max_depth': 37, 'regressor__max_l...</td>\n",
       "      <td>-185.352905</td>\n",
       "      <td>-204.016034</td>\n",
       "      <td>-211.454047</td>\n",
       "      <td>-259.220124</td>\n",
       "      <td>-197.307397</td>\n",
       "      <td>-211.470102</td>\n",
       "      <td>25.370527</td>\n",
       "      <td>17</td>\n",
       "    </tr>\n",
       "  </tbody>\n",
       "</table>\n",
       "</div>"
      ],
      "text/plain": [
       "    mean_fit_time  std_fit_time  mean_score_time  std_score_time  \\\n",
       "0        0.184660      0.012636         0.016349        0.007713   \n",
       "1        0.118967      0.031557         0.013554        0.006237   \n",
       "2        0.435931      0.029272         0.027099        0.005665   \n",
       "3        0.126530      0.029133         0.018094        0.012320   \n",
       "4        0.158188      0.013445         0.009916        0.002402   \n",
       "5        0.324005      0.032239         0.013706        0.004852   \n",
       "6        0.338002      0.017322         0.011911        0.001731   \n",
       "7        0.047356      0.006335         0.007874        0.004034   \n",
       "8        0.233474      0.013467         0.011268        0.002666   \n",
       "9        0.219827      0.015533         0.012825        0.004528   \n",
       "10       0.053378      0.005447         0.009782        0.004584   \n",
       "11       0.154473      0.024836         0.007708        0.002638   \n",
       "12       0.246277      0.032200         0.017567        0.007205   \n",
       "13       0.284213      0.019809         0.014447        0.006402   \n",
       "14       0.222523      0.021710         0.013633        0.006356   \n",
       "15       0.111692      0.010630         0.008652        0.002232   \n",
       "16       0.433340      0.021562         0.014617        0.003324   \n",
       "17       0.297033      0.040901         0.016806        0.006548   \n",
       "18       0.403761      0.035243         0.022023        0.010603   \n",
       "19       0.274998      0.048582         0.012370        0.004592   \n",
       "\n",
       "   param_regressor__max_depth param_regressor__max_leaf_nodes  \\\n",
       "0                          11                              45   \n",
       "1                          15                              11   \n",
       "2                          11                              39   \n",
       "3                          10                              22   \n",
       "4                          49                              25   \n",
       "5                          27                              19   \n",
       "6                          45                              29   \n",
       "7                          15                              22   \n",
       "8                          21                              21   \n",
       "9                          43                              22   \n",
       "10                         21                              10   \n",
       "11                         45                              48   \n",
       "12                         29                              28   \n",
       "13                         45                              39   \n",
       "14                         46                              43   \n",
       "15                         40                              37   \n",
       "16                         37                              47   \n",
       "17                         38                              15   \n",
       "18                         24                              44   \n",
       "19                         37                              10   \n",
       "\n",
       "   param_regressor__min_samples_leaf param_regressor__min_samples_split  \\\n",
       "0                                  9                                  3   \n",
       "1                                  8                                  8   \n",
       "2                                  7                                  5   \n",
       "3                                  9                                  2   \n",
       "4                                  6                                  8   \n",
       "5                                  1                                  7   \n",
       "6                                  7                                  4   \n",
       "7                                  1                                  6   \n",
       "8                                  2                                  3   \n",
       "9                                  4                                  2   \n",
       "10                                 8                                  7   \n",
       "11                                 1                                  4   \n",
       "12                                 9                                  5   \n",
       "13                                 6                                  3   \n",
       "14                                 5                                  3   \n",
       "15                                 6                                  9   \n",
       "16                                 1                                  5   \n",
       "17                                 8                                  9   \n",
       "18                                 4                                  6   \n",
       "19                                 1                                  2   \n",
       "\n",
       "   param_regressor__n_estimators  \\\n",
       "0                             88   \n",
       "1                             55   \n",
       "2                            150   \n",
       "3                             40   \n",
       "4                             82   \n",
       "5                            189   \n",
       "6                            198   \n",
       "7                             21   \n",
       "8                            143   \n",
       "9                            134   \n",
       "10                            31   \n",
       "11                            79   \n",
       "12                           142   \n",
       "13                           128   \n",
       "14                           107   \n",
       "15                            62   \n",
       "16                           155   \n",
       "17                           140   \n",
       "18                           180   \n",
       "19                           165   \n",
       "\n",
       "                                               params  split0_test_score  \\\n",
       "0   {'regressor__max_depth': 11, 'regressor__max_l...        -173.019739   \n",
       "1   {'regressor__max_depth': 15, 'regressor__max_l...        -179.129723   \n",
       "2   {'regressor__max_depth': 11, 'regressor__max_l...        -175.535873   \n",
       "3   {'regressor__max_depth': 10, 'regressor__max_l...        -173.018427   \n",
       "4   {'regressor__max_depth': 49, 'regressor__max_l...        -175.179932   \n",
       "5   {'regressor__max_depth': 27, 'regressor__max_l...        -176.459817   \n",
       "6   {'regressor__max_depth': 45, 'regressor__max_l...        -175.271095   \n",
       "7   {'regressor__max_depth': 15, 'regressor__max_l...        -174.990674   \n",
       "8   {'regressor__max_depth': 21, 'regressor__max_l...        -174.287672   \n",
       "9   {'regressor__max_depth': 43, 'regressor__max_l...        -174.510349   \n",
       "10  {'regressor__max_depth': 21, 'regressor__max_l...        -184.060583   \n",
       "11  {'regressor__max_depth': 45, 'regressor__max_l...        -166.957304   \n",
       "12  {'regressor__max_depth': 29, 'regressor__max_l...        -173.125955   \n",
       "13  {'regressor__max_depth': 45, 'regressor__max_l...        -177.647919   \n",
       "14  {'regressor__max_depth': 46, 'regressor__max_l...        -173.244124   \n",
       "15  {'regressor__max_depth': 40, 'regressor__max_l...        -175.637796   \n",
       "16  {'regressor__max_depth': 37, 'regressor__max_l...        -165.447835   \n",
       "17  {'regressor__max_depth': 38, 'regressor__max_l...        -176.740200   \n",
       "18  {'regressor__max_depth': 24, 'regressor__max_l...        -170.121373   \n",
       "19  {'regressor__max_depth': 37, 'regressor__max_l...        -185.352905   \n",
       "\n",
       "    split1_test_score  split2_test_score  split3_test_score  \\\n",
       "0         -180.946088        -199.387471        -263.324150   \n",
       "1         -194.302047        -205.887157        -274.863042   \n",
       "2         -179.687743        -198.874162        -252.787448   \n",
       "3         -182.350876        -199.395983        -264.583349   \n",
       "4         -186.812121        -199.535614        -255.792382   \n",
       "5         -189.008852        -201.510324        -245.909836   \n",
       "6         -183.105130        -198.382444        -254.404996   \n",
       "7         -185.963176        -204.273563        -245.823075   \n",
       "8         -189.153601        -202.116189        -244.395471   \n",
       "9         -184.791101        -203.551257        -252.253129   \n",
       "10        -194.003908        -207.976411        -277.787464   \n",
       "11        -186.984564        -196.481792        -233.722238   \n",
       "12        -180.295501        -197.804529        -259.926099   \n",
       "13        -182.699669        -197.536261        -252.232238   \n",
       "14        -180.627935        -199.412164        -247.210085   \n",
       "15        -184.342225        -199.879087        -250.317544   \n",
       "16        -182.757111        -196.579403        -231.479486   \n",
       "17        -188.492151        -202.381300        -266.823308   \n",
       "18        -181.967508        -197.033502        -242.783010   \n",
       "19        -204.016034        -211.454047        -259.220124   \n",
       "\n",
       "    split4_test_score  mean_test_score  std_test_score  rank_test_score  \n",
       "0         -227.425387      -208.820567       33.058884               15  \n",
       "1         -238.854177      -218.607229       34.309389               19  \n",
       "2         -214.735906      -204.324226       28.008983               10  \n",
       "3         -230.950093      -210.059746       33.653489               16  \n",
       "4         -212.707418      -206.005493       27.871527               13  \n",
       "5         -198.117476      -202.201261       23.512787                7  \n",
       "6         -216.928166      -205.618366       28.242550               12  \n",
       "7         -183.827010      -198.975500       25.285703                3  \n",
       "8         -191.804800      -200.351547       23.751832                5  \n",
       "9         -206.873817      -204.395931       26.738220               11  \n",
       "10        -231.265566      -219.018786       33.387109               20  \n",
       "11        -182.540251      -193.337230       22.332348                2  \n",
       "12        -231.015214      -208.433460       32.596829               14  \n",
       "13        -208.367526      -203.696723       26.589022                9  \n",
       "14        -207.901593      -201.679180       25.956226                6  \n",
       "15        -207.547517      -203.544834       25.941043                8  \n",
       "16        -181.549380      -191.562643       22.263460                1  \n",
       "17        -233.089945      -213.505381       32.641819               18  \n",
       "18        -204.361751      -199.253429       24.792447                4  \n",
       "19        -197.307397      -211.470102       25.370527               17  "
      ]
     },
     "execution_count": 50,
     "metadata": {},
     "output_type": "execute_result"
    }
   ],
   "source": [
    "pd.DataFrame(rforest_randomcv.cv_results_)"
   ]
  },
  {
   "cell_type": "code",
   "execution_count": 51,
   "metadata": {},
   "outputs": [
    {
     "data": {
      "text/plain": [
       "array([-208.8205669 , -218.60722939, -204.32422624, -210.05974585,\n",
       "       -206.00549342, -202.20126095, -205.61836614, -198.97549973,\n",
       "       -200.35154651, -204.39593054, -219.01878624, -193.33722983,\n",
       "       -208.4334596 , -203.69672254, -201.67918016, -203.54483377,\n",
       "       -191.56264273, -213.50538095, -199.25342879, -211.4701016 ])"
      ]
     },
     "execution_count": 51,
     "metadata": {},
     "output_type": "execute_result"
    }
   ],
   "source": [
    "rforest_randomcv.cv_results_['mean_test_score']"
   ]
  },
  {
   "cell_type": "markdown",
   "metadata": {},
   "source": [
    "## 10. Model Evaluation"
   ]
  },
  {
   "cell_type": "markdown",
   "metadata": {},
   "source": [
    "pada bagian ini model di evaluasi menggunakan hyperparameter terbaik untuk memprediksi variabel price"
   ]
  },
  {
   "cell_type": "code",
   "execution_count": 55,
   "metadata": {},
   "outputs": [
    {
     "name": "stdout",
     "output_type": "stream",
     "text": [
      "Root Mean Squared Error (RMSE): 169.74099293973387\n"
     ]
    }
   ],
   "source": [
    "# Mendefinisikan pipeline tanpa menspesifikasi hiperparameter secara langsung ke regressor\n",
    "best_randomforest = Pipeline(steps=[\n",
    "    ('preprocessor', preprocessor),\n",
    "    ('regressor', RandomForestRegressor())  # RandomForestRegressor tanpa hiperparameter\n",
    "])\n",
    "\n",
    "# Mengatur hiperparameter terbaik menggunakan set_params() setelah menginisialisasi pipeline\n",
    "best_randomforest.set_params(regressor__max_depth=37,\n",
    "                             regressor__max_leaf_nodes=47,\n",
    "                             regressor__min_samples_leaf=1,\n",
    "                             regressor__min_samples_split=5,\n",
    "                             regressor__n_estimators=155)\n",
    "\n",
    "# Melatih pipeline pada data latih\n",
    "best_randomforest.fit(X_train, y_train)\n",
    "\n",
    "# Melakukan prediksi pada data uji\n",
    "y_pred = best_randomforest.predict(X_test)\n",
    "\n",
    "# Evaluasi prediksi menggunakan RMSE\n",
    "rmse = np.sqrt(mean_squared_error(y_test, y_pred))\n",
    "print(f\"Root Mean Squared Error (RMSE): {rmse}\")"
   ]
  },
  {
   "cell_type": "markdown",
   "metadata": {},
   "source": [
    "didapat rmse pada model terbaik yang menggunakan hyperparameter terbaik adalah 169.74"
   ]
  },
  {
   "cell_type": "code",
   "execution_count": 56,
   "metadata": {},
   "outputs": [
    {
     "data": {
      "image/png": "[encoded data removed]",
      "text/plain": [
       "<Figure size 640x480 with 1 Axes>"
      ]
     },
     "metadata": {},
     "output_type": "display_data"
    }
   ],
   "source": [
    "p1 = max(max(y_pred), max(y_test))\n",
    "p2 = min(min(y_pred), min(y_test))\n",
    "plt.plot([p1, p2], [p1, p2], 'black')\n",
    "\n",
    "plt.scatter(y_test, y_pred, c = \"brown\")\n",
    "plt.title('Compare true and predictions price values on test set')\n",
    "plt.xlabel('True values on test set')\n",
    "plt.ylabel('Predictions on test set')\n",
    "plt.show()"
   ]
  },
  {
   "cell_type": "markdown",
   "metadata": {},
   "source": [
    "\n",
    "---\n",
    "\n",
    "## <a id=\"class8\">**11. Model Saving**</a> <a style=\"float:right; margin-right: 15px\"><img src=\"https://cdn-icons-png.flaticon.com/512/1004/1004755.png\" alt=\"drawing\" width=\"64\" align=\"center\"/></a>\n",
    "\n",
    "\n",
    "---"
   ]
  },
  {
   "cell_type": "code",
   "execution_count": 57,
   "metadata": {},
   "outputs": [],
   "source": [
    "# Simpan scaler\n",
    "with open('model.pkl', 'wb') as file_1:\n",
    "    pickle.dump(best_randomforest, file_1)\n"
   ]
  }
 ],
 "metadata": {
  "kernelspec": {
   "display_name": "Python 3",
   "language": "python",
   "name": "python3"
  },
  "language_info": {
   "codemirror_mode": {
    "name": "ipython",
    "version": 3
   },
   "file_extension": ".py",
   "mimetype": "text/x-python",
   "name": "python",
   "nbconvert_exporter": "python",
   "pygments_lexer": "ipython3",
   "version": "3.12.3"
  }
 },
 "nbformat": 4,
 "nbformat_minor": 2
}
